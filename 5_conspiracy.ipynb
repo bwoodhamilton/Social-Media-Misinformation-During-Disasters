{
 "cells": [
  {
   "cell_type": "markdown",
   "metadata": {},
   "source": [
    "# Conspiracies\n",
    "\n",
    "### We went through the processes for pulling in tweets, running them through the botometer, and cleaning them to do some EDA to see if there was a higher bot percentage among conspiracy related searchterms. I used terms related to some popular conspiracy theories including that the fires were set by lasers, illuminati, or the \"deep state.\""
   ]
  },
  {
   "cell_type": "code",
   "execution_count": 2,
   "metadata": {},
   "outputs": [],
   "source": [
    "# Importing pandas to do dataframes\n",
    "import pandas as pd"
   ]
  },
  {
   "cell_type": "code",
   "execution_count": 3,
   "metadata": {},
   "outputs": [],
   "source": [
    "# Reading in the conspiracy info I found \n",
    "conspiracies = pd.read_csv('./data/twitter_conspiracy_bots.csv')"
   ]
  },
  {
   "cell_type": "code",
   "execution_count": 4,
   "metadata": {},
   "outputs": [],
   "source": [
    "# Changing the width of the columns to see the entire tweet text\n",
    "pd.set_option('display.max_colwidth', -1)"
   ]
  },
  {
   "cell_type": "code",
   "execution_count": 5,
   "metadata": {},
   "outputs": [
    {
     "data": {
      "text/html": [
       "<div>\n",
       "<style scoped>\n",
       "    .dataframe tbody tr th:only-of-type {\n",
       "        vertical-align: middle;\n",
       "    }\n",
       "\n",
       "    .dataframe tbody tr th {\n",
       "        vertical-align: top;\n",
       "    }\n",
       "\n",
       "    .dataframe thead th {\n",
       "        text-align: right;\n",
       "    }\n",
       "</style>\n",
       "<table border=\"1\" class=\"dataframe\">\n",
       "  <thead>\n",
       "    <tr style=\"text-align: right;\">\n",
       "      <th></th>\n",
       "      <th>date</th>\n",
       "      <th>text</th>\n",
       "      <th>username</th>\n",
       "      <th>tweet_to</th>\n",
       "      <th>times_retweeted</th>\n",
       "      <th>times_favorited</th>\n",
       "      <th>mentions</th>\n",
       "      <th>hashtags</th>\n",
       "      <th>bot_rating</th>\n",
       "      <th>likely_bot</th>\n",
       "    </tr>\n",
       "  </thead>\n",
       "  <tbody>\n",
       "    <tr>\n",
       "      <th>0</th>\n",
       "      <td>2020-02-04 03:16:55+00:00</td>\n",
       "      <td>California Fires Revelation! Fires Line Up Exactly in the Path as CA High Speed Rail System (Video)</td>\n",
       "      <td>doctorjen1</td>\n",
       "      <td>_</td>\n",
       "      <td>0</td>\n",
       "      <td>0</td>\n",
       "      <td>_</td>\n",
       "      <td>_</td>\n",
       "      <td>0.002618</td>\n",
       "      <td>False</td>\n",
       "    </tr>\n",
       "    <tr>\n",
       "      <th>1</th>\n",
       "      <td>2020-01-29 01:19:46+00:00</td>\n",
       "      <td>Just like the California fires, the path of the Australia fires coincidentally lines up exactly to the map of the projected high speed rail project route ...</td>\n",
       "      <td>Ann_A_Waywego</td>\n",
       "      <td>_</td>\n",
       "      <td>0</td>\n",
       "      <td>0</td>\n",
       "      <td>_</td>\n",
       "      <td>_</td>\n",
       "      <td>0.008751</td>\n",
       "      <td>False</td>\n",
       "    </tr>\n",
       "    <tr>\n",
       "      <th>2</th>\n",
       "      <td>2020-01-25 04:34:34+00:00</td>\n",
       "      <td>Wow, just like the California fires, only fires in the proposed high speed rail zones.</td>\n",
       "      <td>VisitorAmanda</td>\n",
       "      <td>jaypaul79</td>\n",
       "      <td>0</td>\n",
       "      <td>1</td>\n",
       "      <td>_</td>\n",
       "      <td>_</td>\n",
       "      <td>0.011259</td>\n",
       "      <td>False</td>\n",
       "    </tr>\n",
       "    <tr>\n",
       "      <th>3</th>\n",
       "      <td>2020-01-24 03:45:14+00:00</td>\n",
       "      <td>Australia &amp; California fires (EXPOSED) Smart cities high speed rail projects Artificial Future 2020</td>\n",
       "      <td>itsmereynamae</td>\n",
       "      <td>_</td>\n",
       "      <td>0</td>\n",
       "      <td>0</td>\n",
       "      <td>_</td>\n",
       "      <td>_</td>\n",
       "      <td>0.764202</td>\n",
       "      <td>True</td>\n",
       "    </tr>\n",
       "    <tr>\n",
       "      <th>4</th>\n",
       "      <td>2020-01-24 03:26:26+00:00</td>\n",
       "      <td>I have heard this conspiracy theory re California fires too. Did you ask him what high speed rail is going to be built on Kangaroo Island?</td>\n",
       "      <td>bluebowerbird</td>\n",
       "      <td>tashellenheenan</td>\n",
       "      <td>0</td>\n",
       "      <td>1</td>\n",
       "      <td>_</td>\n",
       "      <td>_</td>\n",
       "      <td>0.001946</td>\n",
       "      <td>False</td>\n",
       "    </tr>\n",
       "  </tbody>\n",
       "</table>\n",
       "</div>"
      ],
      "text/plain": [
       "                        date  \\\n",
       "0  2020-02-04 03:16:55+00:00   \n",
       "1  2020-01-29 01:19:46+00:00   \n",
       "2  2020-01-25 04:34:34+00:00   \n",
       "3  2020-01-24 03:45:14+00:00   \n",
       "4  2020-01-24 03:26:26+00:00   \n",
       "\n",
       "                                                                                                                                                             text  \\\n",
       "0  California Fires Revelation! Fires Line Up Exactly in the Path as CA High Speed Rail System (Video)                                                              \n",
       "1  Just like the California fires, the path of the Australia fires coincidentally lines up exactly to the map of the projected high speed rail project route ...    \n",
       "2  Wow, just like the California fires, only fires in the proposed high speed rail zones.                                                                           \n",
       "3  Australia & California fires (EXPOSED) Smart cities high speed rail projects Artificial Future 2020                                                              \n",
       "4  I have heard this conspiracy theory re California fires too. Did you ask him what high speed rail is going to be built on Kangaroo Island?                       \n",
       "\n",
       "        username         tweet_to  times_retweeted  times_favorited mentions  \\\n",
       "0  doctorjen1     _                0                0                _         \n",
       "1  Ann_A_Waywego  _                0                0                _         \n",
       "2  VisitorAmanda  jaypaul79        0                1                _         \n",
       "3  itsmereynamae  _                0                0                _         \n",
       "4  bluebowerbird  tashellenheenan  0                1                _         \n",
       "\n",
       "  hashtags  bot_rating  likely_bot  \n",
       "0  _        0.002618    False       \n",
       "1  _        0.008751    False       \n",
       "2  _        0.011259    False       \n",
       "3  _        0.764202    True        \n",
       "4  _        0.001946    False       "
      ]
     },
     "execution_count": 5,
     "metadata": {},
     "output_type": "execute_result"
    }
   ],
   "source": [
    "# Looking at the Dataframe\n",
    "conspiracies.head()"
   ]
  },
  {
   "cell_type": "code",
   "execution_count": 6,
   "metadata": {},
   "outputs": [],
   "source": [
    "# Making a column for likely bot with anything over 50 a bot\n",
    "conspiracies[\"likely_bot\"] = conspiracies[\"bot_rating\"] > .50"
   ]
  },
  {
   "cell_type": "code",
   "execution_count": 7,
   "metadata": {},
   "outputs": [
    {
     "data": {
      "text/plain": [
       "0.029339853300733496"
      ]
     },
     "execution_count": 7,
     "metadata": {},
     "output_type": "execute_result"
    }
   ],
   "source": [
    "# There is an average of 2.9% bot activity for these conspiracy theories, which is less than the average of \n",
    "# 6%. While bots are a problem, humans are also a problem. \n",
    "conspiracies[\"likely_bot\"].mean()"
   ]
  }
 ],
 "metadata": {
  "kernelspec": {
   "display_name": "Python 3",
   "language": "python",
   "name": "python3"
  },
  "language_info": {
   "codemirror_mode": {
    "name": "ipython",
    "version": 3
   },
   "file_extension": ".py",
   "mimetype": "text/x-python",
   "name": "python",
   "nbconvert_exporter": "python",
   "pygments_lexer": "ipython3",
   "version": "3.7.6"
  }
 },
 "nbformat": 4,
 "nbformat_minor": 4
}
