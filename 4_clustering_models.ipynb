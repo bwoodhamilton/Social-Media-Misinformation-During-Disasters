{
 "cells": [
  {
   "cell_type": "markdown",
   "metadata": {},
   "source": [
    "# Clustering Models"
   ]
  },
  {
   "cell_type": "markdown",
   "metadata": {},
   "source": [
    "### Contents:\n",
    "- [Imports](#Imports)\n",
    "- [Exploratory Data Analysis](#Exploratory-Data-Analysis)\n",
    "- [Vectorizing and Modeling](#Vectorizing-and-Modeling)\n",
    "- [Bringing in Bot Rating Data](#Bringing-in-Bot-Rating-Data)"
   ]
  },
  {
   "cell_type": "markdown",
   "metadata": {},
   "source": [
    "## Imports "
   ]
  },
  {
   "cell_type": "code",
   "execution_count": 1,
   "metadata": {},
   "outputs": [],
   "source": [
    "import pandas as pd\n",
    "import matplotlib.pyplot as plt\n",
    "import re\n",
    "from sklearn.feature_extraction.text import CountVectorizer, TfidfVectorizer, TfidfTransformer\n",
    "from nltk.tokenize import RegexpTokenizer\n",
    "import numpy as np\n",
    "from sklearn.cluster import DBSCAN, AgglomerativeClustering\n",
    "from scipy.cluster.hierarchy import dendrogram, linkage,fcluster,cophenet\n",
    "from pylab import rcParams\n",
    "import seaborn as sns"
   ]
  },
  {
   "cell_type": "markdown",
   "metadata": {},
   "source": [
    "## Exploratory Data Analysis"
   ]
  },
  {
   "cell_type": "markdown",
   "metadata": {},
   "source": [
    "**Reading the data and initial cleaning steps:**"
   ]
  },
  {
   "cell_type": "code",
   "execution_count": 11,
   "metadata": {},
   "outputs": [],
   "source": [
    "# Reading in the data. Note to team: I had to go back to the original data to have a dataframe \n",
    "# that separates mentions, user id and text. \n",
    "twitter_firesv = pd.read_csv('./data/tweets_raw.csv')"
   ]
  },
  {
   "cell_type": "code",
   "execution_count": 12,
   "metadata": {},
   "outputs": [
    {
     "data": {
      "text/html": [
       "<div>\n",
       "<style scoped>\n",
       "    .dataframe tbody tr th:only-of-type {\n",
       "        vertical-align: middle;\n",
       "    }\n",
       "\n",
       "    .dataframe tbody tr th {\n",
       "        vertical-align: top;\n",
       "    }\n",
       "\n",
       "    .dataframe thead th {\n",
       "        text-align: right;\n",
       "    }\n",
       "</style>\n",
       "<table border=\"1\" class=\"dataframe\">\n",
       "  <thead>\n",
       "    <tr style=\"text-align: right;\">\n",
       "      <th></th>\n",
       "      <th>0</th>\n",
       "      <th>1</th>\n",
       "      <th>2</th>\n",
       "      <th>3</th>\n",
       "      <th>4</th>\n",
       "      <th>5</th>\n",
       "      <th>6</th>\n",
       "      <th>7</th>\n",
       "      <th>8</th>\n",
       "      <th>9</th>\n",
       "    </tr>\n",
       "  </thead>\n",
       "  <tbody>\n",
       "    <tr>\n",
       "      <th>0</th>\n",
       "      <td>2019-11-29 23:10:01+00:00</td>\n",
       "      <td>California Wildfires Inspire Entrepreneur to C...</td>\n",
       "      <td>ReginaBanali</td>\n",
       "      <td>1200552524291411970</td>\n",
       "      <td>https://twitter.com/ReginaBanali/status/120055...</td>\n",
       "      <td>NaN</td>\n",
       "      <td>0</td>\n",
       "      <td>0</td>\n",
       "      <td>NaN</td>\n",
       "      <td>NaN</td>\n",
       "    </tr>\n",
       "    <tr>\n",
       "      <th>1</th>\n",
       "      <td>2019-11-29 22:49:52+00:00</td>\n",
       "      <td>NEW! ‘Rage for Justice Report - Episode 2 How ...</td>\n",
       "      <td>ConsumerWD</td>\n",
       "      <td>1200547453948162048</td>\n",
       "      <td>https://twitter.com/ConsumerWD/status/12005474...</td>\n",
       "      <td>NaN</td>\n",
       "      <td>0</td>\n",
       "      <td>0</td>\n",
       "      <td>@PGE4Me @californiapuc</td>\n",
       "      <td>#californiawildfires #pge #FridayThoughts #Fri...</td>\n",
       "    </tr>\n",
       "    <tr>\n",
       "      <th>2</th>\n",
       "      <td>2019-11-29 22:46:00+00:00</td>\n",
       "      <td>With the #CaliforniaWildFires fresh in our min...</td>\n",
       "      <td>ChangeTheLAUSD</td>\n",
       "      <td>1200546481494577153</td>\n",
       "      <td>https://twitter.com/ChangeTheLAUSD/status/1200...</td>\n",
       "      <td>GOPChairwoman</td>\n",
       "      <td>0</td>\n",
       "      <td>2</td>\n",
       "      <td>@KatieHill4CA</td>\n",
       "      <td>#CaliforniaWildFires #GOPTaxScam</td>\n",
       "    </tr>\n",
       "    <tr>\n",
       "      <th>3</th>\n",
       "      <td>2019-11-29 22:08:21+00:00</td>\n",
       "      <td>#climate “Each degree of warming causes way mo...</td>\n",
       "      <td>ECOWARRIORSS</td>\n",
       "      <td>1200537005396037632</td>\n",
       "      <td>https://twitter.com/ECOWARRIORSS/status/120053...</td>\n",
       "      <td>NaN</td>\n",
       "      <td>17</td>\n",
       "      <td>15</td>\n",
       "      <td>@yayitsrob</td>\n",
       "      <td>#climate</td>\n",
       "    </tr>\n",
       "    <tr>\n",
       "      <th>4</th>\n",
       "      <td>2019-11-29 22:08:07+00:00</td>\n",
       "      <td>The California wildfires should come to SoHo</td>\n",
       "      <td>jamesdotcom</td>\n",
       "      <td>1200536945711108104</td>\n",
       "      <td>https://twitter.com/jamesdotcom/status/1200536...</td>\n",
       "      <td>NaN</td>\n",
       "      <td>1</td>\n",
       "      <td>19</td>\n",
       "      <td>NaN</td>\n",
       "      <td>NaN</td>\n",
       "    </tr>\n",
       "  </tbody>\n",
       "</table>\n",
       "</div>"
      ],
      "text/plain": [
       "                           0  \\\n",
       "0  2019-11-29 23:10:01+00:00   \n",
       "1  2019-11-29 22:49:52+00:00   \n",
       "2  2019-11-29 22:46:00+00:00   \n",
       "3  2019-11-29 22:08:21+00:00   \n",
       "4  2019-11-29 22:08:07+00:00   \n",
       "\n",
       "                                                   1               2  \\\n",
       "0  California Wildfires Inspire Entrepreneur to C...    ReginaBanali   \n",
       "1  NEW! ‘Rage for Justice Report - Episode 2 How ...      ConsumerWD   \n",
       "2  With the #CaliforniaWildFires fresh in our min...  ChangeTheLAUSD   \n",
       "3  #climate “Each degree of warming causes way mo...    ECOWARRIORSS   \n",
       "4       The California wildfires should come to SoHo     jamesdotcom   \n",
       "\n",
       "                     3                                                  4  \\\n",
       "0  1200552524291411970  https://twitter.com/ReginaBanali/status/120055...   \n",
       "1  1200547453948162048  https://twitter.com/ConsumerWD/status/12005474...   \n",
       "2  1200546481494577153  https://twitter.com/ChangeTheLAUSD/status/1200...   \n",
       "3  1200537005396037632  https://twitter.com/ECOWARRIORSS/status/120053...   \n",
       "4  1200536945711108104  https://twitter.com/jamesdotcom/status/1200536...   \n",
       "\n",
       "               5   6   7                       8  \\\n",
       "0            NaN   0   0                     NaN   \n",
       "1            NaN   0   0  @PGE4Me @californiapuc   \n",
       "2  GOPChairwoman   0   2           @KatieHill4CA   \n",
       "3            NaN  17  15              @yayitsrob   \n",
       "4            NaN   1  19                     NaN   \n",
       "\n",
       "                                                   9  \n",
       "0                                                NaN  \n",
       "1  #californiawildfires #pge #FridayThoughts #Fri...  \n",
       "2                   #CaliforniaWildFires #GOPTaxScam  \n",
       "3                                           #climate  \n",
       "4                                                NaN  "
      ]
     },
     "execution_count": 12,
     "metadata": {},
     "output_type": "execute_result"
    }
   ],
   "source": [
    "# Taking a first glance \n",
    "twitter_firesv.head()"
   ]
  },
  {
   "cell_type": "code",
   "execution_count": 13,
   "metadata": {},
   "outputs": [],
   "source": [
    "# Changing titles \n",
    "twitter_firesv.rename(columns={\n",
    "     '0': 'date',\n",
    "     '1' : 'text',\n",
    "     '2' : 'username',\n",
    "     '3' : 'id',\n",
    "     '4' : 'link',\n",
    "     '5' : 'tweet_to',\n",
    "     '6' : 'times_retweeted',\n",
    "     '7' : 'times_favorited',\n",
    "     '8' : 'mentions',\n",
    "     '9' : 'hashtags'\n",
    "}, inplace=True)"
   ]
  },
  {
   "cell_type": "code",
   "execution_count": 14,
   "metadata": {},
   "outputs": [
    {
     "data": {
      "text/html": [
       "<div>\n",
       "<style scoped>\n",
       "    .dataframe tbody tr th:only-of-type {\n",
       "        vertical-align: middle;\n",
       "    }\n",
       "\n",
       "    .dataframe tbody tr th {\n",
       "        vertical-align: top;\n",
       "    }\n",
       "\n",
       "    .dataframe thead th {\n",
       "        text-align: right;\n",
       "    }\n",
       "</style>\n",
       "<table border=\"1\" class=\"dataframe\">\n",
       "  <thead>\n",
       "    <tr style=\"text-align: right;\">\n",
       "      <th></th>\n",
       "      <th>date</th>\n",
       "      <th>text</th>\n",
       "      <th>username</th>\n",
       "      <th>id</th>\n",
       "      <th>link</th>\n",
       "      <th>tweet_to</th>\n",
       "      <th>times_retweeted</th>\n",
       "      <th>times_favorited</th>\n",
       "      <th>mentions</th>\n",
       "      <th>hashtags</th>\n",
       "    </tr>\n",
       "  </thead>\n",
       "  <tbody>\n",
       "    <tr>\n",
       "      <th>0</th>\n",
       "      <td>2019-11-29 23:10:01+00:00</td>\n",
       "      <td>California Wildfires Inspire Entrepreneur to C...</td>\n",
       "      <td>ReginaBanali</td>\n",
       "      <td>1200552524291411970</td>\n",
       "      <td>https://twitter.com/ReginaBanali/status/120055...</td>\n",
       "      <td>NaN</td>\n",
       "      <td>0</td>\n",
       "      <td>0</td>\n",
       "      <td>NaN</td>\n",
       "      <td>NaN</td>\n",
       "    </tr>\n",
       "  </tbody>\n",
       "</table>\n",
       "</div>"
      ],
      "text/plain": [
       "                        date  \\\n",
       "0  2019-11-29 23:10:01+00:00   \n",
       "\n",
       "                                                text      username  \\\n",
       "0  California Wildfires Inspire Entrepreneur to C...  ReginaBanali   \n",
       "\n",
       "                    id                                               link  \\\n",
       "0  1200552524291411970  https://twitter.com/ReginaBanali/status/120055...   \n",
       "\n",
       "  tweet_to  times_retweeted  times_favorited mentions hashtags  \n",
       "0      NaN                0                0      NaN      NaN  "
      ]
     },
     "execution_count": 14,
     "metadata": {},
     "output_type": "execute_result"
    }
   ],
   "source": [
    "twitter_firesv.head(1)"
   ]
  },
  {
   "cell_type": "code",
   "execution_count": 15,
   "metadata": {},
   "outputs": [],
   "source": [
    "# Dropping link as we won't need it \n",
    "twitter_firesv.drop(columns=['link'], inplace=True)"
   ]
  },
  {
   "cell_type": "code",
   "execution_count": 16,
   "metadata": {},
   "outputs": [
    {
     "data": {
      "text/html": [
       "<div>\n",
       "<style scoped>\n",
       "    .dataframe tbody tr th:only-of-type {\n",
       "        vertical-align: middle;\n",
       "    }\n",
       "\n",
       "    .dataframe tbody tr th {\n",
       "        vertical-align: top;\n",
       "    }\n",
       "\n",
       "    .dataframe thead th {\n",
       "        text-align: right;\n",
       "    }\n",
       "</style>\n",
       "<table border=\"1\" class=\"dataframe\">\n",
       "  <thead>\n",
       "    <tr style=\"text-align: right;\">\n",
       "      <th></th>\n",
       "      <th>date</th>\n",
       "      <th>text</th>\n",
       "      <th>username</th>\n",
       "      <th>id</th>\n",
       "      <th>tweet_to</th>\n",
       "      <th>times_retweeted</th>\n",
       "      <th>times_favorited</th>\n",
       "      <th>mentions</th>\n",
       "      <th>hashtags</th>\n",
       "    </tr>\n",
       "  </thead>\n",
       "  <tbody>\n",
       "    <tr>\n",
       "      <th>0</th>\n",
       "      <td>2019-11-29 23:10:01+00:00</td>\n",
       "      <td>California Wildfires Inspire Entrepreneur to C...</td>\n",
       "      <td>ReginaBanali</td>\n",
       "      <td>1200552524291411970</td>\n",
       "      <td>NaN</td>\n",
       "      <td>0</td>\n",
       "      <td>0</td>\n",
       "      <td>NaN</td>\n",
       "      <td>NaN</td>\n",
       "    </tr>\n",
       "  </tbody>\n",
       "</table>\n",
       "</div>"
      ],
      "text/plain": [
       "                        date  \\\n",
       "0  2019-11-29 23:10:01+00:00   \n",
       "\n",
       "                                                text      username  \\\n",
       "0  California Wildfires Inspire Entrepreneur to C...  ReginaBanali   \n",
       "\n",
       "                    id tweet_to  times_retweeted  times_favorited mentions  \\\n",
       "0  1200552524291411970      NaN                0                0      NaN   \n",
       "\n",
       "  hashtags  \n",
       "0      NaN  "
      ]
     },
     "execution_count": 16,
     "metadata": {},
     "output_type": "execute_result"
    }
   ],
   "source": [
    "twitter_firesv.head(1)"
   ]
  },
  {
   "cell_type": "markdown",
   "metadata": {},
   "source": [
    "**Feature ingeneering: 'tweet_to'+ 'mentions':**"
   ]
  },
  {
   "cell_type": "code",
   "execution_count": 17,
   "metadata": {},
   "outputs": [
    {
     "data": {
      "text/plain": [
       "realDonaldTrump    293\n",
       "GavinNewsom         89\n",
       "ABC                 42\n",
       "latimes             35\n",
       "BreitbartNews       30\n",
       "                  ... \n",
       "archillect           1\n",
       "shopelasticco        1\n",
       "CNNPolitics          1\n",
       "real_defender        1\n",
       "Parisire             1\n",
       "Name: tweet_to, Length: 2505, dtype: int64"
      ]
     },
     "execution_count": 17,
     "metadata": {},
     "output_type": "execute_result"
    }
   ],
   "source": [
    "# Looking at tweet_to. This column shows the destinatary of a public tweet reply\n",
    "twitter_firesv['tweet_to'].value_counts()"
   ]
  },
  {
   "cell_type": "code",
   "execution_count": 18,
   "metadata": {},
   "outputs": [
    {
     "data": {
      "text/plain": [
       "@YouTube                             440\n",
       "@realDonaldTrump                     253\n",
       "@NBCNews                             178\n",
       "@ABC                                 175\n",
       "@googlenews                          114\n",
       "                                    ... \n",
       "@GettyMuseum @discoverLA @VisitCA      1\n",
       "@manilabulletin                        1\n",
       "@NBCLA @CBSLA @ABC @KTLA @KTLA         1\n",
       "@Michele_NFPA @HazCenter               1\n",
       "@laurenTarshis                         1\n",
       "Name: mentions, Length: 2395, dtype: int64"
      ]
     },
     "execution_count": 18,
     "metadata": {},
     "output_type": "execute_result"
    }
   ],
   "source": [
    "# Looking at mentions. This column shows the twitter handles mentioned/brought up in the text \n",
    "twitter_firesv['mentions'].value_counts()"
   ]
  },
  {
   "cell_type": "code",
   "execution_count": 19,
   "metadata": {},
   "outputs": [],
   "source": [
    "# Replacing all null values with zero as all correspond to information being not applicable. \n",
    "twitter_firesv.fillna(0, inplace=True)"
   ]
  },
  {
   "cell_type": "code",
   "execution_count": 20,
   "metadata": {},
   "outputs": [],
   "source": [
    "# I am merging 'tweet_to' and 'mentions' under the assumption that both relate to an intended addressee \n",
    "twitter_firesv['addressee'] = twitter_firesv['tweet_to'].astype(str) + ' ' + twitter_firesv['mentions'].astype(str)"
   ]
  },
  {
   "cell_type": "code",
   "execution_count": 21,
   "metadata": {},
   "outputs": [
    {
     "data": {
      "text/html": [
       "<div>\n",
       "<style scoped>\n",
       "    .dataframe tbody tr th:only-of-type {\n",
       "        vertical-align: middle;\n",
       "    }\n",
       "\n",
       "    .dataframe tbody tr th {\n",
       "        vertical-align: top;\n",
       "    }\n",
       "\n",
       "    .dataframe thead th {\n",
       "        text-align: right;\n",
       "    }\n",
       "</style>\n",
       "<table border=\"1\" class=\"dataframe\">\n",
       "  <thead>\n",
       "    <tr style=\"text-align: right;\">\n",
       "      <th></th>\n",
       "      <th>date</th>\n",
       "      <th>text</th>\n",
       "      <th>username</th>\n",
       "      <th>id</th>\n",
       "      <th>tweet_to</th>\n",
       "      <th>times_retweeted</th>\n",
       "      <th>times_favorited</th>\n",
       "      <th>mentions</th>\n",
       "      <th>hashtags</th>\n",
       "      <th>addressee</th>\n",
       "    </tr>\n",
       "  </thead>\n",
       "  <tbody>\n",
       "    <tr>\n",
       "      <th>2</th>\n",
       "      <td>2019-11-29 22:46:00+00:00</td>\n",
       "      <td>With the #CaliforniaWildFires fresh in our min...</td>\n",
       "      <td>ChangeTheLAUSD</td>\n",
       "      <td>1200546481494577153</td>\n",
       "      <td>GOPChairwoman</td>\n",
       "      <td>0</td>\n",
       "      <td>2</td>\n",
       "      <td>@KatieHill4CA</td>\n",
       "      <td>#CaliforniaWildFires #GOPTaxScam</td>\n",
       "      <td>GOPChairwoman @KatieHill4CA</td>\n",
       "    </tr>\n",
       "    <tr>\n",
       "      <th>8</th>\n",
       "      <td>2019-11-29 20:34:20+00:00</td>\n",
       "      <td>You’re out of control. I’m surprised the far r...</td>\n",
       "      <td>Clementine5000</td>\n",
       "      <td>1200513345973104646</td>\n",
       "      <td>TweetOfMoses_</td>\n",
       "      <td>0</td>\n",
       "      <td>1</td>\n",
       "      <td>0</td>\n",
       "      <td>0</td>\n",
       "      <td>TweetOfMoses_ 0</td>\n",
       "    </tr>\n",
       "    <tr>\n",
       "      <th>10</th>\n",
       "      <td>2019-11-29 19:54:46+00:00</td>\n",
       "      <td>@DavidCayJ on PG&amp;amp;E's role in devastation c...</td>\n",
       "      <td>RainMaki</td>\n",
       "      <td>1200503388443688960</td>\n",
       "      <td>DavidCayJ</td>\n",
       "      <td>0</td>\n",
       "      <td>2</td>\n",
       "      <td>@DavidCayJ @KatyTurNBC @MSNBC</td>\n",
       "      <td>#California #Wildfires #ClimateChange #MSNBC #...</td>\n",
       "      <td>DavidCayJ @DavidCayJ @KatyTurNBC @MSNBC</td>\n",
       "    </tr>\n",
       "    <tr>\n",
       "      <th>15</th>\n",
       "      <td>2019-11-29 19:13:13+00:00</td>\n",
       "      <td>Yes. And don't forget that the massive Califor...</td>\n",
       "      <td>SmartmanAZ</td>\n",
       "      <td>1200492930114490368</td>\n",
       "      <td>Atlantiso1</td>\n",
       "      <td>0</td>\n",
       "      <td>1</td>\n",
       "      <td>0</td>\n",
       "      <td>0</td>\n",
       "      <td>Atlantiso1 0</td>\n",
       "    </tr>\n",
       "    <tr>\n",
       "      <th>19</th>\n",
       "      <td>2019-11-29 16:28:50+00:00</td>\n",
       "      <td>Relocation of patriots, like California wildfi...</td>\n",
       "      <td>aubresdelnoire</td>\n",
       "      <td>1200451561408872448</td>\n",
       "      <td>IPOT1776</td>\n",
       "      <td>0</td>\n",
       "      <td>0</td>\n",
       "      <td>0</td>\n",
       "      <td>0</td>\n",
       "      <td>IPOT1776 0</td>\n",
       "    </tr>\n",
       "    <tr>\n",
       "      <th>...</th>\n",
       "      <td>...</td>\n",
       "      <td>...</td>\n",
       "      <td>...</td>\n",
       "      <td>...</td>\n",
       "      <td>...</td>\n",
       "      <td>...</td>\n",
       "      <td>...</td>\n",
       "      <td>...</td>\n",
       "      <td>...</td>\n",
       "      <td>...</td>\n",
       "    </tr>\n",
       "    <tr>\n",
       "      <th>28463</th>\n",
       "      <td>2019-10-02 21:15:41+00:00</td>\n",
       "      <td>All these blogs gonna spread th hat shit like ...</td>\n",
       "      <td>RAMBOHUSTLE</td>\n",
       "      <td>1179505256297881601</td>\n",
       "      <td>HustleSimmons</td>\n",
       "      <td>0</td>\n",
       "      <td>0</td>\n",
       "      <td>0</td>\n",
       "      <td>0</td>\n",
       "      <td>HustleSimmons 0</td>\n",
       "    </tr>\n",
       "    <tr>\n",
       "      <th>28464</th>\n",
       "      <td>2019-10-02 20:09:43+00:00</td>\n",
       "      <td>They were having such a nice conversation abou...</td>\n",
       "      <td>TheOrdBarroness</td>\n",
       "      <td>1179488651467792385</td>\n",
       "      <td>swimmerbr78</td>\n",
       "      <td>0</td>\n",
       "      <td>1</td>\n",
       "      <td>0</td>\n",
       "      <td>0</td>\n",
       "      <td>swimmerbr78 0</td>\n",
       "    </tr>\n",
       "    <tr>\n",
       "      <th>28470</th>\n",
       "      <td>2019-10-02 01:10:02+00:00</td>\n",
       "      <td>That dumbass didn't even know AILD donated a p...</td>\n",
       "      <td>rocknroro</td>\n",
       "      <td>1179201841420259328</td>\n",
       "      <td>lambgoat</td>\n",
       "      <td>0</td>\n",
       "      <td>0</td>\n",
       "      <td>0</td>\n",
       "      <td>0</td>\n",
       "      <td>lambgoat 0</td>\n",
       "    </tr>\n",
       "    <tr>\n",
       "      <th>28472</th>\n",
       "      <td>2019-10-01 22:29:56+00:00</td>\n",
       "      <td>California is known to have bimodal fire seaso...</td>\n",
       "      <td>EdJoyce</td>\n",
       "      <td>1179161552793952256</td>\n",
       "      <td>NWSLosAngeles</td>\n",
       "      <td>0</td>\n",
       "      <td>2</td>\n",
       "      <td>0</td>\n",
       "      <td>#USwildfires #CaliforniaWildfires #cawx #Santa...</td>\n",
       "      <td>NWSLosAngeles 0</td>\n",
       "    </tr>\n",
       "    <tr>\n",
       "      <th>28477</th>\n",
       "      <td>2019-10-01 01:31:10+00:00</td>\n",
       "      <td>This is how the California wildfires started, ...</td>\n",
       "      <td>Navismutebutton</td>\n",
       "      <td>1178844771781136386</td>\n",
       "      <td>AbdulElSayed</td>\n",
       "      <td>0</td>\n",
       "      <td>2</td>\n",
       "      <td>0</td>\n",
       "      <td>0</td>\n",
       "      <td>AbdulElSayed 0</td>\n",
       "    </tr>\n",
       "  </tbody>\n",
       "</table>\n",
       "<p>4646 rows × 10 columns</p>\n",
       "</div>"
      ],
      "text/plain": [
       "                            date  \\\n",
       "2      2019-11-29 22:46:00+00:00   \n",
       "8      2019-11-29 20:34:20+00:00   \n",
       "10     2019-11-29 19:54:46+00:00   \n",
       "15     2019-11-29 19:13:13+00:00   \n",
       "19     2019-11-29 16:28:50+00:00   \n",
       "...                          ...   \n",
       "28463  2019-10-02 21:15:41+00:00   \n",
       "28464  2019-10-02 20:09:43+00:00   \n",
       "28470  2019-10-02 01:10:02+00:00   \n",
       "28472  2019-10-01 22:29:56+00:00   \n",
       "28477  2019-10-01 01:31:10+00:00   \n",
       "\n",
       "                                                    text         username  \\\n",
       "2      With the #CaliforniaWildFires fresh in our min...   ChangeTheLAUSD   \n",
       "8      You’re out of control. I’m surprised the far r...   Clementine5000   \n",
       "10     @DavidCayJ on PG&amp;E's role in devastation c...         RainMaki   \n",
       "15     Yes. And don't forget that the massive Califor...       SmartmanAZ   \n",
       "19     Relocation of patriots, like California wildfi...   aubresdelnoire   \n",
       "...                                                  ...              ...   \n",
       "28463  All these blogs gonna spread th hat shit like ...      RAMBOHUSTLE   \n",
       "28464  They were having such a nice conversation abou...  TheOrdBarroness   \n",
       "28470  That dumbass didn't even know AILD donated a p...        rocknroro   \n",
       "28472  California is known to have bimodal fire seaso...          EdJoyce   \n",
       "28477  This is how the California wildfires started, ...  Navismutebutton   \n",
       "\n",
       "                        id       tweet_to  times_retweeted  times_favorited  \\\n",
       "2      1200546481494577153  GOPChairwoman                0                2   \n",
       "8      1200513345973104646  TweetOfMoses_                0                1   \n",
       "10     1200503388443688960      DavidCayJ                0                2   \n",
       "15     1200492930114490368     Atlantiso1                0                1   \n",
       "19     1200451561408872448       IPOT1776                0                0   \n",
       "...                    ...            ...              ...              ...   \n",
       "28463  1179505256297881601  HustleSimmons                0                0   \n",
       "28464  1179488651467792385    swimmerbr78                0                1   \n",
       "28470  1179201841420259328       lambgoat                0                0   \n",
       "28472  1179161552793952256  NWSLosAngeles                0                2   \n",
       "28477  1178844771781136386   AbdulElSayed                0                2   \n",
       "\n",
       "                            mentions  \\\n",
       "2                      @KatieHill4CA   \n",
       "8                                  0   \n",
       "10     @DavidCayJ @KatyTurNBC @MSNBC   \n",
       "15                                 0   \n",
       "19                                 0   \n",
       "...                              ...   \n",
       "28463                              0   \n",
       "28464                              0   \n",
       "28470                              0   \n",
       "28472                              0   \n",
       "28477                              0   \n",
       "\n",
       "                                                hashtags  \\\n",
       "2                       #CaliforniaWildFires #GOPTaxScam   \n",
       "8                                                      0   \n",
       "10     #California #Wildfires #ClimateChange #MSNBC #...   \n",
       "15                                                     0   \n",
       "19                                                     0   \n",
       "...                                                  ...   \n",
       "28463                                                  0   \n",
       "28464                                                  0   \n",
       "28470                                                  0   \n",
       "28472  #USwildfires #CaliforniaWildfires #cawx #Santa...   \n",
       "28477                                                  0   \n",
       "\n",
       "                                     addressee  \n",
       "2                  GOPChairwoman @KatieHill4CA  \n",
       "8                              TweetOfMoses_ 0  \n",
       "10     DavidCayJ @DavidCayJ @KatyTurNBC @MSNBC  \n",
       "15                                Atlantiso1 0  \n",
       "19                                  IPOT1776 0  \n",
       "...                                        ...  \n",
       "28463                          HustleSimmons 0  \n",
       "28464                            swimmerbr78 0  \n",
       "28470                               lambgoat 0  \n",
       "28472                          NWSLosAngeles 0  \n",
       "28477                           AbdulElSayed 0  \n",
       "\n",
       "[4646 rows x 10 columns]"
      ]
     },
     "execution_count": 21,
     "metadata": {},
     "output_type": "execute_result"
    }
   ],
   "source": [
    "twitter_firesv[twitter_firesv['tweet_to'] != 0]"
   ]
  },
  {
   "cell_type": "code",
   "execution_count": 22,
   "metadata": {},
   "outputs": [
    {
     "data": {
      "text/plain": [
       "(28479, 10)"
      ]
     },
     "execution_count": 22,
     "metadata": {},
     "output_type": "execute_result"
    }
   ],
   "source": [
    "# Looking at the number of rows and columns \n",
    "twitter_firesv.shape"
   ]
  },
  {
   "cell_type": "markdown",
   "metadata": {},
   "source": [
    "**Analysing duplicates:**"
   ]
  },
  {
   "cell_type": "code",
   "execution_count": 23,
   "metadata": {},
   "outputs": [
    {
     "data": {
      "text/plain": [
       "6106"
      ]
     },
     "execution_count": 23,
     "metadata": {},
     "output_type": "execute_result"
    }
   ],
   "source": [
    "# Making sure there are no duplicates. Looking at text first. There are 6,106 duplicates \n",
    "# but, a random exploration shows that while text can be identical, it comes from \n",
    "# different users (retweets?) \n",
    "twitter_firesv['text'].duplicated().sum()"
   ]
  },
  {
   "cell_type": "code",
   "execution_count": 24,
   "metadata": {},
   "outputs": [
    {
     "data": {
      "text/plain": [
       "741"
      ]
     },
     "execution_count": 24,
     "metadata": {},
     "output_type": "execute_result"
    }
   ],
   "source": [
    "# Looking at duplicates by date. Since dates include hour, this can help us flag the tweets \n",
    "# that have identical text, release time and user\n",
    "twitter_firesv['date'].duplicated().sum()"
   ]
  },
  {
   "cell_type": "code",
   "execution_count": 25,
   "metadata": {},
   "outputs": [
    {
     "data": {
      "text/html": [
       "<div>\n",
       "<style scoped>\n",
       "    .dataframe tbody tr th:only-of-type {\n",
       "        vertical-align: middle;\n",
       "    }\n",
       "\n",
       "    .dataframe tbody tr th {\n",
       "        vertical-align: top;\n",
       "    }\n",
       "\n",
       "    .dataframe thead th {\n",
       "        text-align: right;\n",
       "    }\n",
       "</style>\n",
       "<table border=\"1\" class=\"dataframe\">\n",
       "  <thead>\n",
       "    <tr style=\"text-align: right;\">\n",
       "      <th></th>\n",
       "      <th>date</th>\n",
       "      <th>text</th>\n",
       "      <th>username</th>\n",
       "      <th>id</th>\n",
       "      <th>tweet_to</th>\n",
       "      <th>times_retweeted</th>\n",
       "      <th>times_favorited</th>\n",
       "      <th>mentions</th>\n",
       "      <th>hashtags</th>\n",
       "      <th>addressee</th>\n",
       "    </tr>\n",
       "  </thead>\n",
       "  <tbody>\n",
       "    <tr>\n",
       "      <th>929</th>\n",
       "      <td>2019-11-14 08:01:02+00:00</td>\n",
       "      <td>The Sierra club is why you have all those Cali...</td>\n",
       "      <td>Desdichado17</td>\n",
       "      <td>1194887951861374977</td>\n",
       "      <td>IlhanMN</td>\n",
       "      <td>0</td>\n",
       "      <td>0</td>\n",
       "      <td>0</td>\n",
       "      <td>0</td>\n",
       "      <td>IlhanMN 0</td>\n",
       "    </tr>\n",
       "    <tr>\n",
       "      <th>930</th>\n",
       "      <td>2019-11-14 08:01:02+00:00</td>\n",
       "      <td>A week and a half ago, the top story on USA To...</td>\n",
       "      <td>aScaramucciAgo</td>\n",
       "      <td>1194887951072686081</td>\n",
       "      <td>0</td>\n",
       "      <td>0</td>\n",
       "      <td>0</td>\n",
       "      <td>0</td>\n",
       "      <td>0</td>\n",
       "      <td>0 0</td>\n",
       "    </tr>\n",
       "    <tr>\n",
       "      <th>955</th>\n",
       "      <td>2019-11-14 00:00:17+00:00</td>\n",
       "      <td>Utility to pay $360M for major Southern Califo...</td>\n",
       "      <td>wmalnews</td>\n",
       "      <td>1194766966067810304</td>\n",
       "      <td>0</td>\n",
       "      <td>0</td>\n",
       "      <td>0</td>\n",
       "      <td>0</td>\n",
       "      <td>0</td>\n",
       "      <td>0 0</td>\n",
       "    </tr>\n",
       "    <tr>\n",
       "      <th>956</th>\n",
       "      <td>2019-11-14 00:00:17+00:00</td>\n",
       "      <td>Utility to pay $360M for major Southern Califo...</td>\n",
       "      <td>WMALDC</td>\n",
       "      <td>1194766966017445889</td>\n",
       "      <td>0</td>\n",
       "      <td>0</td>\n",
       "      <td>0</td>\n",
       "      <td>0</td>\n",
       "      <td>0</td>\n",
       "      <td>0 0</td>\n",
       "    </tr>\n",
       "    <tr>\n",
       "      <th>957</th>\n",
       "      <td>2019-11-13 23:42:04+00:00</td>\n",
       "      <td>Utility to pay $360M for major Southern Califo...</td>\n",
       "      <td>Firefightingnew</td>\n",
       "      <td>1194762383790497792</td>\n",
       "      <td>0</td>\n",
       "      <td>0</td>\n",
       "      <td>0</td>\n",
       "      <td>0</td>\n",
       "      <td>0</td>\n",
       "      <td>0 0</td>\n",
       "    </tr>\n",
       "    <tr>\n",
       "      <th>...</th>\n",
       "      <td>...</td>\n",
       "      <td>...</td>\n",
       "      <td>...</td>\n",
       "      <td>...</td>\n",
       "      <td>...</td>\n",
       "      <td>...</td>\n",
       "      <td>...</td>\n",
       "      <td>...</td>\n",
       "      <td>...</td>\n",
       "      <td>...</td>\n",
       "    </tr>\n",
       "    <tr>\n",
       "      <th>28299</th>\n",
       "      <td>2019-10-09 06:03:55+00:00</td>\n",
       "      <td>Fact Sheet: California Wildfires Myth vs. Fact...</td>\n",
       "      <td>Headsnipe011</td>\n",
       "      <td>1181812514134339584</td>\n",
       "      <td>0</td>\n",
       "      <td>2</td>\n",
       "      <td>1</td>\n",
       "      <td>0</td>\n",
       "      <td>#California #pgeshutdown #WildFires</td>\n",
       "      <td>0 0</td>\n",
       "    </tr>\n",
       "    <tr>\n",
       "      <th>28300</th>\n",
       "      <td>2019-10-09 06:03:54+00:00</td>\n",
       "      <td>Fact Sheet: California Wildfires Myth vs. Fact...</td>\n",
       "      <td>Headsnipe011</td>\n",
       "      <td>1181812513228414976</td>\n",
       "      <td>0</td>\n",
       "      <td>2</td>\n",
       "      <td>1</td>\n",
       "      <td>0</td>\n",
       "      <td>#California #pgeshutdown #WildFires</td>\n",
       "      <td>0 0</td>\n",
       "    </tr>\n",
       "    <tr>\n",
       "      <th>28301</th>\n",
       "      <td>2019-10-09 06:03:54+00:00</td>\n",
       "      <td>Fact Sheet: California Wildfires Myth vs. Fact...</td>\n",
       "      <td>Headsnipe011</td>\n",
       "      <td>1181812512246964225</td>\n",
       "      <td>0</td>\n",
       "      <td>2</td>\n",
       "      <td>1</td>\n",
       "      <td>0</td>\n",
       "      <td>#California #pgeshutdown #WildFires</td>\n",
       "      <td>0 0</td>\n",
       "    </tr>\n",
       "    <tr>\n",
       "      <th>28302</th>\n",
       "      <td>2019-10-09 06:03:54+00:00</td>\n",
       "      <td>California Wildfires Myth vs. Fact III #Califo...</td>\n",
       "      <td>Headsnipe011</td>\n",
       "      <td>1181812511315759104</td>\n",
       "      <td>0</td>\n",
       "      <td>2</td>\n",
       "      <td>1</td>\n",
       "      <td>0</td>\n",
       "      <td>#California #pgeshutdown #WildFires</td>\n",
       "      <td>0 0</td>\n",
       "    </tr>\n",
       "    <tr>\n",
       "      <th>28303</th>\n",
       "      <td>2019-10-09 06:03:54+00:00</td>\n",
       "      <td>Fact Sheet: California Wildfires Myth vs. Fact...</td>\n",
       "      <td>Headsnipe011</td>\n",
       "      <td>1181812510309126144</td>\n",
       "      <td>0</td>\n",
       "      <td>16</td>\n",
       "      <td>4</td>\n",
       "      <td>0</td>\n",
       "      <td>#California #pgeshutdown #WildFires</td>\n",
       "      <td>0 0</td>\n",
       "    </tr>\n",
       "  </tbody>\n",
       "</table>\n",
       "<p>1263 rows × 10 columns</p>\n",
       "</div>"
      ],
      "text/plain": [
       "                            date  \\\n",
       "929    2019-11-14 08:01:02+00:00   \n",
       "930    2019-11-14 08:01:02+00:00   \n",
       "955    2019-11-14 00:00:17+00:00   \n",
       "956    2019-11-14 00:00:17+00:00   \n",
       "957    2019-11-13 23:42:04+00:00   \n",
       "...                          ...   \n",
       "28299  2019-10-09 06:03:55+00:00   \n",
       "28300  2019-10-09 06:03:54+00:00   \n",
       "28301  2019-10-09 06:03:54+00:00   \n",
       "28302  2019-10-09 06:03:54+00:00   \n",
       "28303  2019-10-09 06:03:54+00:00   \n",
       "\n",
       "                                                    text         username  \\\n",
       "929    The Sierra club is why you have all those Cali...     Desdichado17   \n",
       "930    A week and a half ago, the top story on USA To...   aScaramucciAgo   \n",
       "955    Utility to pay $360M for major Southern Califo...         wmalnews   \n",
       "956    Utility to pay $360M for major Southern Califo...           WMALDC   \n",
       "957    Utility to pay $360M for major Southern Califo...  Firefightingnew   \n",
       "...                                                  ...              ...   \n",
       "28299  Fact Sheet: California Wildfires Myth vs. Fact...     Headsnipe011   \n",
       "28300  Fact Sheet: California Wildfires Myth vs. Fact...     Headsnipe011   \n",
       "28301  Fact Sheet: California Wildfires Myth vs. Fact...     Headsnipe011   \n",
       "28302  California Wildfires Myth vs. Fact III #Califo...     Headsnipe011   \n",
       "28303  Fact Sheet: California Wildfires Myth vs. Fact...     Headsnipe011   \n",
       "\n",
       "                        id tweet_to  times_retweeted  times_favorited  \\\n",
       "929    1194887951861374977  IlhanMN                0                0   \n",
       "930    1194887951072686081        0                0                0   \n",
       "955    1194766966067810304        0                0                0   \n",
       "956    1194766966017445889        0                0                0   \n",
       "957    1194762383790497792        0                0                0   \n",
       "...                    ...      ...              ...              ...   \n",
       "28299  1181812514134339584        0                2                1   \n",
       "28300  1181812513228414976        0                2                1   \n",
       "28301  1181812512246964225        0                2                1   \n",
       "28302  1181812511315759104        0                2                1   \n",
       "28303  1181812510309126144        0               16                4   \n",
       "\n",
       "      mentions                             hashtags  addressee  \n",
       "929          0                                    0  IlhanMN 0  \n",
       "930          0                                    0        0 0  \n",
       "955          0                                    0        0 0  \n",
       "956          0                                    0        0 0  \n",
       "957          0                                    0        0 0  \n",
       "...        ...                                  ...        ...  \n",
       "28299        0  #California #pgeshutdown #WildFires        0 0  \n",
       "28300        0  #California #pgeshutdown #WildFires        0 0  \n",
       "28301        0  #California #pgeshutdown #WildFires        0 0  \n",
       "28302        0  #California #pgeshutdown #WildFires        0 0  \n",
       "28303        0  #California #pgeshutdown #WildFires        0 0  \n",
       "\n",
       "[1263 rows x 10 columns]"
      ]
     },
     "execution_count": 25,
     "metadata": {},
     "output_type": "execute_result"
    }
   ],
   "source": [
    "# Looking more in depth at the list of duplicated tweets. Unfortunately, the duplication in \n",
    "# dates does not help identifying actual duplicates as, even when the text and date appear \n",
    "# to be identical, the ids are different. The identical time suggest these are bots, but \n",
    "# the text appears to be legitimate and informative. \n",
    "twitter_firesv[twitter_firesv['date'].duplicated(keep=False) == True]"
   ]
  },
  {
   "cell_type": "code",
   "execution_count": 26,
   "metadata": {},
   "outputs": [
    {
     "name": "stdout",
     "output_type": "stream",
     "text": [
      "<class 'pandas.core.frame.DataFrame'>\n",
      "RangeIndex: 28479 entries, 0 to 28478\n",
      "Data columns (total 10 columns):\n",
      "date               28479 non-null object\n",
      "text               28479 non-null object\n",
      "username           28479 non-null object\n",
      "id                 28479 non-null int64\n",
      "tweet_to           28479 non-null object\n",
      "times_retweeted    28479 non-null int64\n",
      "times_favorited    28479 non-null int64\n",
      "mentions           28479 non-null object\n",
      "hashtags           28479 non-null object\n",
      "addressee          28479 non-null object\n",
      "dtypes: int64(3), object(7)\n",
      "memory usage: 2.2+ MB\n"
     ]
    }
   ],
   "source": [
    "# Looking at the data types and null values \n",
    "twitter_firesv.info()"
   ]
  },
  {
   "cell_type": "markdown",
   "metadata": {},
   "source": [
    "**Date patterns**"
   ]
  },
  {
   "cell_type": "code",
   "execution_count": 27,
   "metadata": {},
   "outputs": [],
   "source": [
    "#Our data covers October 1st through November 29, 2019. Tweet activity during this period is relatively higher \n",
    "# between October 28th to 30th. \n",
    "date_dist = twitter_firesv['date'].value_counts(normalize=True)"
   ]
  },
  {
   "cell_type": "code",
   "execution_count": 28,
   "metadata": {},
   "outputs": [
    {
     "data": {
      "text/plain": [
       "<bound method Series.sort_values of 2019-10-11 14:52:32+00:00    0.002037\n",
       "2019-10-30 22:27:32+00:00    0.000562\n",
       "2019-10-28 19:36:02+00:00    0.000562\n",
       "2019-10-28 19:36:03+00:00    0.000527\n",
       "2019-10-30 23:31:02+00:00    0.000527\n",
       "2019-10-28 19:31:32+00:00    0.000421\n",
       "2019-10-28 19:33:33+00:00    0.000386\n",
       "2019-10-30 23:33:05+00:00    0.000351\n",
       "2019-10-11 14:52:33+00:00    0.000281\n",
       "2019-10-31 01:29:03+00:00    0.000281\n",
       "Name: date, dtype: float64>"
      ]
     },
     "execution_count": 28,
     "metadata": {},
     "output_type": "execute_result"
    }
   ],
   "source": [
    "date_dist.nlargest(10).sort_values"
   ]
  },
  {
   "cell_type": "code",
   "execution_count": 29,
   "metadata": {
    "scrolled": true
   },
   "outputs": [
    {
     "data": {
      "text/plain": [
       "0    2019-11-29 23:10:01+00:00\n",
       "Name: date, dtype: object"
      ]
     },
     "execution_count": 29,
     "metadata": {},
     "output_type": "execute_result"
    }
   ],
   "source": [
    "twitter_firesv['date'].head(1)"
   ]
  },
  {
   "cell_type": "code",
   "execution_count": 30,
   "metadata": {},
   "outputs": [
    {
     "data": {
      "text/plain": [
       "28478    2019-10-01 00:14:48+00:00\n",
       "Name: date, dtype: object"
      ]
     },
     "execution_count": 30,
     "metadata": {},
     "output_type": "execute_result"
    }
   ],
   "source": [
    "twitter_firesv['date'].tail(1)"
   ]
  },
  {
   "cell_type": "markdown",
   "metadata": {},
   "source": [
    "**Username and id patterns:**"
   ]
  },
  {
   "cell_type": "code",
   "execution_count": 31,
   "metadata": {},
   "outputs": [
    {
     "data": {
      "text/plain": [
       "skaichat           0.003195\n",
       "poandpo            0.002704\n",
       "robinsnewswire     0.002669\n",
       "EdJoyce            0.002423\n",
       "amys_bus_ticket    0.002353\n",
       "                     ...   \n",
       "Atreides09         0.000035\n",
       "andrewapeterson    0.000035\n",
       "SDreg8             0.000035\n",
       "TheWrathOfQuote    0.000035\n",
       "pierremercer       0.000035\n",
       "Name: username, Length: 18765, dtype: float64"
      ]
     },
     "execution_count": 31,
     "metadata": {},
     "output_type": "execute_result"
    }
   ],
   "source": [
    "# Not much to be seen here. This is processed using the botometer, which will yield better information \n",
    "twitter_firesv['username'].value_counts(normalize=True)"
   ]
  },
  {
   "cell_type": "code",
   "execution_count": 32,
   "metadata": {},
   "outputs": [
    {
     "data": {
      "text/plain": [
       "1189439310841298944    1\n",
       "1185390162269949957    1\n",
       "1189248421020000261    1\n",
       "1192532264372097035    1\n",
       "1189717631617531905    1\n",
       "                      ..\n",
       "1187688595890593793    1\n",
       "1192192273079029767    1\n",
       "1188568242236874755    1\n",
       "1189518206307840003    1\n",
       "1182687515163029506    1\n",
       "Name: id, Length: 28479, dtype: int64"
      ]
     },
     "execution_count": 32,
     "metadata": {},
     "output_type": "execute_result"
    }
   ],
   "source": [
    "# id: Each tweet (not username) has a unique id. \n",
    "twitter_firesv['id'].value_counts()"
   ]
  },
  {
   "cell_type": "markdown",
   "metadata": {},
   "source": [
    "**Feature engineering: 'times_retweeted' vs. 'times_favorited'**"
   ]
  },
  {
   "cell_type": "code",
   "execution_count": 33,
   "metadata": {},
   "outputs": [
    {
     "data": {
      "text/plain": [
       "0       21023\n",
       "1        3221\n",
       "2        1254\n",
       "3         675\n",
       "4         402\n",
       "        ...  \n",
       "298         1\n",
       "282         1\n",
       "102         1\n",
       "266         1\n",
       "1647        1\n",
       "Name: times_retweeted, Length: 199, dtype: int64"
      ]
     },
     "execution_count": 33,
     "metadata": {},
     "output_type": "execute_result"
    }
   ],
   "source": [
    " twitter_firesv['times_retweeted'].value_counts()"
   ]
  },
  {
   "cell_type": "code",
   "execution_count": 34,
   "metadata": {},
   "outputs": [],
   "source": [
    "# Times retweeted : 73% of tweets are not retweeted. The distribution of retweeted tweets is interesting though. \n",
    "# Not many tweets get a considerable ammount of retweets: only 79 tweets get 10 retweets, only 24 get 20 retweets,\n",
    "# only 11 get 30 retweets. Subsequently, only 1 got more than 100 retweets. Research shows a direct relationship \n",
    "# between the number of retweets and the innacuracy of the information tweeted.  \n",
    "\n",
    "dist_retweets = twitter_firesv['times_retweeted'].value_counts()"
   ]
  },
  {
   "cell_type": "code",
   "execution_count": 35,
   "metadata": {},
   "outputs": [
    {
     "data": {
      "text/plain": [
       "0       21023\n",
       "1        3221\n",
       "2        1254\n",
       "3         675\n",
       "4         402\n",
       "        ...  \n",
       "298         1\n",
       "282         1\n",
       "102         1\n",
       "266         1\n",
       "1647        1\n",
       "Name: times_retweeted, Length: 199, dtype: int64"
      ]
     },
     "execution_count": 35,
     "metadata": {},
     "output_type": "execute_result"
    }
   ],
   "source": [
    "dist_retweets[:]"
   ]
  },
  {
   "cell_type": "code",
   "execution_count": 36,
   "metadata": {},
   "outputs": [
    {
     "data": {
      "image/png": "[encoded data removed]",
      "text/plain": [
       "<Figure size 432x288 with 1 Axes>"
      ]
     },
     "metadata": {
      "needs_background": "light"
     },
     "output_type": "display_data"
    }
   ],
   "source": [
    "plt.hist(dist_retweets[40:], bins=100)\n",
    "plt.xlabel('Distribution of tweets')\n",
    "plt.ylabel('Number of retweets');"
   ]
  },
  {
   "cell_type": "code",
   "execution_count": 37,
   "metadata": {},
   "outputs": [
    {
     "data": {
      "text/plain": [
       "0      0.624074\n",
       "1      0.141894\n",
       "2      0.060992\n",
       "3      0.034973\n",
       "4      0.023210\n",
       "         ...   \n",
       "264    0.000035\n",
       "248    0.000035\n",
       "216    0.000035\n",
       "168    0.000035\n",
       "695    0.000035\n",
       "Name: times_favorited, Length: 301, dtype: float64"
      ]
     },
     "execution_count": 37,
     "metadata": {},
     "output_type": "execute_result"
    }
   ],
   "source": [
    "# Times favorited: 62% of tweets were not favorited and 14% were only favorited once. This means that, similar to\n",
    "# the retweets, only a few (24%) are favorited twice or more times. It would be interesting to see if there is \n",
    "# a relationship between both \n",
    "twitter_firesv['times_favorited'].value_counts(normalize=True)"
   ]
  },
  {
   "cell_type": "code",
   "execution_count": 38,
   "metadata": {},
   "outputs": [
    {
     "data": {
      "text/plain": [
       "Text(0, 0.5, 'Number of times retweeted')"
      ]
     },
     "execution_count": 38,
     "metadata": {},
     "output_type": "execute_result"
    },
    {
     "data": {
      "image/png": "[encoded data removed]",
      "text/plain": [
       "<Figure size 432x288 with 1 Axes>"
      ]
     },
     "metadata": {
      "needs_background": "light"
     },
     "output_type": "display_data"
    }
   ],
   "source": [
    "# Visualizing how they relate. They have a clear positive correlation. \n",
    "plt.scatter(twitter_firesv['times_retweeted'],twitter_firesv['times_favorited'])\n",
    "plt.xlabel('Number of times favorited')\n",
    "plt.ylabel('Number of times retweeted')"
   ]
  },
  {
   "cell_type": "code",
   "execution_count": 39,
   "metadata": {},
   "outputs": [],
   "source": [
    "# Testing visualization excluding outliers \n",
    "withoutoutlier = twitter_firesv[(twitter_firesv['times_retweeted'] < 1000)\n",
    "                                  & \n",
    "                                  (twitter_firesv['times_favorited'] < 1000)]"
   ]
  },
  {
   "cell_type": "code",
   "execution_count": 40,
   "metadata": {
    "scrolled": true
   },
   "outputs": [
    {
     "data": {
      "text/plain": [
       "<matplotlib.collections.PathCollection at 0x1a1b2dedd0>"
      ]
     },
     "execution_count": 40,
     "metadata": {},
     "output_type": "execute_result"
    },
    {
     "data": {
      "image/png": "[encoded data removed]",
      "text/plain": [
       "<Figure size 432x288 with 1 Axes>"
      ]
     },
     "metadata": {
      "needs_background": "light"
     },
     "output_type": "display_data"
    }
   ],
   "source": [
    "plt.scatter(withoutoutlier['times_retweeted'],withoutoutlier['times_favorited'])"
   ]
  },
  {
   "cell_type": "markdown",
   "metadata": {},
   "source": [
    "**Pre-processing text data: Hashtags**"
   ]
  },
  {
   "cell_type": "code",
   "execution_count": 41,
   "metadata": {
    "scrolled": true
   },
   "outputs": [
    {
     "data": {
      "text/plain": [
       "0                                                                                                    0.563924\n",
       "#californiawildfires                                                                                 0.050212\n",
       "#CaliforniaWildfires                                                                                 0.022192\n",
       "#FoxNews                                                                                             0.009621\n",
       "#wildfires                                                                                           0.004319\n",
       "                                                                                                       ...   \n",
       "#insurance #insurancecommissioner #California #californiawildfires #GettyFire #KincadeFire #sosad    0.000035\n",
       "#ClimateChange #7ClimACTDetectives                                                                   0.000035\n",
       "#PGE #California #AIMC #Business_News #Canada #Market_News                                           0.000035\n",
       "#NDvsMich #SCvsTENN #californiawildfires #LivePD #okstate #myasu                                     0.000035\n",
       "#GettyFire #californiawildfires #LAfires #ucla                                                       0.000035\n",
       "Name: hashtags, Length: 7298, dtype: float64"
      ]
     },
     "execution_count": 41,
     "metadata": {},
     "output_type": "execute_result"
    }
   ],
   "source": [
    "# Looking at the distribution of values under the hashtag column. 56% do not have any hashtag \n",
    "twitter_firesv['hashtags'].value_counts(normalize=True)"
   ]
  },
  {
   "cell_type": "code",
   "execution_count": 42,
   "metadata": {},
   "outputs": [],
   "source": [
    "# I won't be able to vectorize the column if I have numeric values. Therefore, I am changing zeros to '0'. \n",
    "# twitter_firesv.loc[(twitter_firesv['hashtags'] == 0), 'hashtags'] == '0'\n",
    "twitter_firesv.replace(0,'0', inplace=True)"
   ]
  },
  {
   "cell_type": "code",
   "execution_count": 43,
   "metadata": {},
   "outputs": [],
   "source": [
    "hashtags = twitter_firesv['hashtags']"
   ]
  },
  {
   "cell_type": "code",
   "execution_count": 44,
   "metadata": {},
   "outputs": [
    {
     "data": {
      "text/plain": [
       "0                                                        0\n",
       "1        #californiawildfires #pge #FridayThoughts #Fri...\n",
       "2                         #CaliforniaWildFires #GOPTaxScam\n",
       "3                                                 #climate\n",
       "4                                                        0\n",
       "                               ...                        \n",
       "28474            #wildfires #globalwarming #ethoslifestyle\n",
       "28475                                          #California\n",
       "28476                                                    0\n",
       "28477                                                    0\n",
       "28478                                                    0\n",
       "Name: hashtags, Length: 28479, dtype: object"
      ]
     },
     "execution_count": 44,
     "metadata": {},
     "output_type": "execute_result"
    }
   ],
   "source": [
    "hashtags"
   ]
  },
  {
   "cell_type": "markdown",
   "metadata": {},
   "source": [
    "## Vectorizing and Modeling"
   ]
  },
  {
   "cell_type": "code",
   "execution_count": 51,
   "metadata": {},
   "outputs": [],
   "source": [
    "# Vectorizing hashtags to get a sense of what's there beyond 'californiawildfires'. Instantiating vectorizer \n",
    "cvectorizer = CountVectorizer()"
   ]
  },
  {
   "cell_type": "code",
   "execution_count": 52,
   "metadata": {},
   "outputs": [],
   "source": [
    "# Getting a word count sparse matrix  \n",
    "word_count = cvectorizer.fit_transform(hashtags)"
   ]
  },
  {
   "cell_type": "code",
   "execution_count": 53,
   "metadata": {},
   "outputs": [
    {
     "data": {
      "text/plain": [
       "(28479, 6967)"
      ]
     },
     "execution_count": 53,
     "metadata": {},
     "output_type": "execute_result"
    }
   ],
   "source": [
    "word_count.shape"
   ]
  },
  {
   "cell_type": "code",
   "execution_count": 54,
   "metadata": {},
   "outputs": [],
   "source": [
    "# Transforming the matrix into a dataframe\n",
    "hashtags_df = pd.DataFrame(word_count.todense(), columns=cvectorizer.get_feature_names())"
   ]
  },
  {
   "cell_type": "code",
   "execution_count": 55,
   "metadata": {},
   "outputs": [
    {
     "data": {
      "text/html": [
       "<div>\n",
       "<style scoped>\n",
       "    .dataframe tbody tr th:only-of-type {\n",
       "        vertical-align: middle;\n",
       "    }\n",
       "\n",
       "    .dataframe tbody tr th {\n",
       "        vertical-align: top;\n",
       "    }\n",
       "\n",
       "    .dataframe thead th {\n",
       "        text-align: right;\n",
       "    }\n",
       "</style>\n",
       "<table border=\"1\" class=\"dataframe\">\n",
       "  <thead>\n",
       "    <tr style=\"text-align: right;\">\n",
       "      <th></th>\n",
       "      <th>1010wins</th>\n",
       "      <th>10sand18s</th>\n",
       "      <th>10tanker</th>\n",
       "      <th>10tv</th>\n",
       "      <th>110envirojustice</th>\n",
       "      <th>113fire</th>\n",
       "      <th>118freeway</th>\n",
       "      <th>11alive</th>\n",
       "      <th>11thhour</th>\n",
       "      <th>12tribesofisrael</th>\n",
       "      <th>...</th>\n",
       "      <th>yrkkh</th>\n",
       "      <th>ytho</th>\n",
       "      <th>yum</th>\n",
       "      <th>yvr</th>\n",
       "      <th>yyc</th>\n",
       "      <th>zetatalk</th>\n",
       "      <th>zoedaniel</th>\n",
       "      <th>zombieapocalypse</th>\n",
       "      <th>zombies</th>\n",
       "      <th>zuckerberg</th>\n",
       "    </tr>\n",
       "  </thead>\n",
       "  <tbody>\n",
       "    <tr>\n",
       "      <th>0</th>\n",
       "      <td>0</td>\n",
       "      <td>0</td>\n",
       "      <td>0</td>\n",
       "      <td>0</td>\n",
       "      <td>0</td>\n",
       "      <td>0</td>\n",
       "      <td>0</td>\n",
       "      <td>0</td>\n",
       "      <td>0</td>\n",
       "      <td>0</td>\n",
       "      <td>...</td>\n",
       "      <td>0</td>\n",
       "      <td>0</td>\n",
       "      <td>0</td>\n",
       "      <td>0</td>\n",
       "      <td>0</td>\n",
       "      <td>0</td>\n",
       "      <td>0</td>\n",
       "      <td>0</td>\n",
       "      <td>0</td>\n",
       "      <td>0</td>\n",
       "    </tr>\n",
       "    <tr>\n",
       "      <th>1</th>\n",
       "      <td>0</td>\n",
       "      <td>0</td>\n",
       "      <td>0</td>\n",
       "      <td>0</td>\n",
       "      <td>0</td>\n",
       "      <td>0</td>\n",
       "      <td>0</td>\n",
       "      <td>0</td>\n",
       "      <td>0</td>\n",
       "      <td>0</td>\n",
       "      <td>...</td>\n",
       "      <td>0</td>\n",
       "      <td>0</td>\n",
       "      <td>0</td>\n",
       "      <td>0</td>\n",
       "      <td>0</td>\n",
       "      <td>0</td>\n",
       "      <td>0</td>\n",
       "      <td>0</td>\n",
       "      <td>0</td>\n",
       "      <td>0</td>\n",
       "    </tr>\n",
       "    <tr>\n",
       "      <th>2</th>\n",
       "      <td>0</td>\n",
       "      <td>0</td>\n",
       "      <td>0</td>\n",
       "      <td>0</td>\n",
       "      <td>0</td>\n",
       "      <td>0</td>\n",
       "      <td>0</td>\n",
       "      <td>0</td>\n",
       "      <td>0</td>\n",
       "      <td>0</td>\n",
       "      <td>...</td>\n",
       "      <td>0</td>\n",
       "      <td>0</td>\n",
       "      <td>0</td>\n",
       "      <td>0</td>\n",
       "      <td>0</td>\n",
       "      <td>0</td>\n",
       "      <td>0</td>\n",
       "      <td>0</td>\n",
       "      <td>0</td>\n",
       "      <td>0</td>\n",
       "    </tr>\n",
       "    <tr>\n",
       "      <th>3</th>\n",
       "      <td>0</td>\n",
       "      <td>0</td>\n",
       "      <td>0</td>\n",
       "      <td>0</td>\n",
       "      <td>0</td>\n",
       "      <td>0</td>\n",
       "      <td>0</td>\n",
       "      <td>0</td>\n",
       "      <td>0</td>\n",
       "      <td>0</td>\n",
       "      <td>...</td>\n",
       "      <td>0</td>\n",
       "      <td>0</td>\n",
       "      <td>0</td>\n",
       "      <td>0</td>\n",
       "      <td>0</td>\n",
       "      <td>0</td>\n",
       "      <td>0</td>\n",
       "      <td>0</td>\n",
       "      <td>0</td>\n",
       "      <td>0</td>\n",
       "    </tr>\n",
       "    <tr>\n",
       "      <th>4</th>\n",
       "      <td>0</td>\n",
       "      <td>0</td>\n",
       "      <td>0</td>\n",
       "      <td>0</td>\n",
       "      <td>0</td>\n",
       "      <td>0</td>\n",
       "      <td>0</td>\n",
       "      <td>0</td>\n",
       "      <td>0</td>\n",
       "      <td>0</td>\n",
       "      <td>...</td>\n",
       "      <td>0</td>\n",
       "      <td>0</td>\n",
       "      <td>0</td>\n",
       "      <td>0</td>\n",
       "      <td>0</td>\n",
       "      <td>0</td>\n",
       "      <td>0</td>\n",
       "      <td>0</td>\n",
       "      <td>0</td>\n",
       "      <td>0</td>\n",
       "    </tr>\n",
       "  </tbody>\n",
       "</table>\n",
       "<p>5 rows × 6967 columns</p>\n",
       "</div>"
      ],
      "text/plain": [
       "   1010wins  10sand18s  10tanker  10tv  110envirojustice  113fire  118freeway  \\\n",
       "0         0          0         0     0                 0        0           0   \n",
       "1         0          0         0     0                 0        0           0   \n",
       "2         0          0         0     0                 0        0           0   \n",
       "3         0          0         0     0                 0        0           0   \n",
       "4         0          0         0     0                 0        0           0   \n",
       "\n",
       "   11alive  11thhour  12tribesofisrael  ...  yrkkh  ytho  yum  yvr  yyc  \\\n",
       "0        0         0                 0  ...      0     0    0    0    0   \n",
       "1        0         0                 0  ...      0     0    0    0    0   \n",
       "2        0         0                 0  ...      0     0    0    0    0   \n",
       "3        0         0                 0  ...      0     0    0    0    0   \n",
       "4        0         0                 0  ...      0     0    0    0    0   \n",
       "\n",
       "   zetatalk  zoedaniel  zombieapocalypse  zombies  zuckerberg  \n",
       "0         0          0                 0        0           0  \n",
       "1         0          0                 0        0           0  \n",
       "2         0          0                 0        0           0  \n",
       "3         0          0                 0        0           0  \n",
       "4         0          0                 0        0           0  \n",
       "\n",
       "[5 rows x 6967 columns]"
      ]
     },
     "execution_count": 55,
     "metadata": {},
     "output_type": "execute_result"
    }
   ],
   "source": [
    "# Looking at the actual words \n",
    "hashtags_df.head()"
   ]
  },
  {
   "cell_type": "code",
   "execution_count": 56,
   "metadata": {},
   "outputs": [],
   "source": [
    "# Trying the TFIDF vectorizer. Instantiating so that it excludes words that appear in \n",
    "# less than 5 documents. Identified stopwords after grouping hashtags under 2 hashtags and \n",
    "# seeing they were repeated. \n",
    "tfidfvectorizer = TfidfVectorizer(stop_words=['californiawildfires',  'californiawildfire',\n",
    "                                              'californiafires', 'californiafire','california',\n",
    "                                              'wildfires', 'wildfire','calfire', 'calfires',\n",
    "                                              'fire', 'fires', 'cafire', 'ca', 'cafires'] \n",
    "                                             , min_df= 5)"
   ]
  },
  {
   "cell_type": "code",
   "execution_count": 57,
   "metadata": {},
   "outputs": [],
   "source": [
    "# Fitting it to the hashtags \n",
    "word_frequency = tfidfvectorizer.fit_transform(hashtags)"
   ]
  },
  {
   "cell_type": "code",
   "execution_count": 58,
   "metadata": {},
   "outputs": [
    {
     "data": {
      "text/plain": [
       "(28479, 775)"
      ]
     },
     "execution_count": 58,
     "metadata": {},
     "output_type": "execute_result"
    }
   ],
   "source": [
    "# Getting the number of words it identified above the threshold\n",
    "word_frequency.shape"
   ]
  },
  {
   "cell_type": "code",
   "execution_count": 59,
   "metadata": {},
   "outputs": [],
   "source": [
    "# Turning them into a dataframe\n",
    "hashtagsfreq_df = pd.DataFrame(word_frequency.todense(), columns = tfidfvectorizer.get_feature_names())"
   ]
  },
  {
   "cell_type": "code",
   "execution_count": 60,
   "metadata": {},
   "outputs": [
    {
     "data": {
      "text/html": [
       "<div>\n",
       "<style scoped>\n",
       "    .dataframe tbody tr th:only-of-type {\n",
       "        vertical-align: middle;\n",
       "    }\n",
       "\n",
       "    .dataframe tbody tr th {\n",
       "        vertical-align: top;\n",
       "    }\n",
       "\n",
       "    .dataframe thead th {\n",
       "        text-align: right;\n",
       "    }\n",
       "</style>\n",
       "<table border=\"1\" class=\"dataframe\">\n",
       "  <thead>\n",
       "    <tr style=\"text-align: right;\">\n",
       "      <th></th>\n",
       "      <th>25thamendmentnow</th>\n",
       "      <th>30seconds</th>\n",
       "      <th>46fire</th>\n",
       "      <th>7news</th>\n",
       "      <th>abc</th>\n",
       "      <th>abcnews</th>\n",
       "      <th>abubakralbaghdadi</th>\n",
       "      <th>acting</th>\n",
       "      <th>actnow</th>\n",
       "      <th>actonclimate</th>\n",
       "      <th>...</th>\n",
       "      <th>world</th>\n",
       "      <th>worldnews</th>\n",
       "      <th>worldseries</th>\n",
       "      <th>worstpresidentever</th>\n",
       "      <th>wtf</th>\n",
       "      <th>wuwei</th>\n",
       "      <th>wwe</th>\n",
       "      <th>wwg1wga</th>\n",
       "      <th>youtube</th>\n",
       "      <th>yrkkh</th>\n",
       "    </tr>\n",
       "  </thead>\n",
       "  <tbody>\n",
       "    <tr>\n",
       "      <th>0</th>\n",
       "      <td>0.0</td>\n",
       "      <td>0.0</td>\n",
       "      <td>0.0</td>\n",
       "      <td>0.0</td>\n",
       "      <td>0.0</td>\n",
       "      <td>0.0</td>\n",
       "      <td>0.0</td>\n",
       "      <td>0.0</td>\n",
       "      <td>0.0</td>\n",
       "      <td>0.0</td>\n",
       "      <td>...</td>\n",
       "      <td>0.0</td>\n",
       "      <td>0.0</td>\n",
       "      <td>0.0</td>\n",
       "      <td>0.0</td>\n",
       "      <td>0.0</td>\n",
       "      <td>0.0</td>\n",
       "      <td>0.0</td>\n",
       "      <td>0.0</td>\n",
       "      <td>0.0</td>\n",
       "      <td>0.0</td>\n",
       "    </tr>\n",
       "    <tr>\n",
       "      <th>1</th>\n",
       "      <td>0.0</td>\n",
       "      <td>0.0</td>\n",
       "      <td>0.0</td>\n",
       "      <td>0.0</td>\n",
       "      <td>0.0</td>\n",
       "      <td>0.0</td>\n",
       "      <td>0.0</td>\n",
       "      <td>0.0</td>\n",
       "      <td>0.0</td>\n",
       "      <td>0.0</td>\n",
       "      <td>...</td>\n",
       "      <td>0.0</td>\n",
       "      <td>0.0</td>\n",
       "      <td>0.0</td>\n",
       "      <td>0.0</td>\n",
       "      <td>0.0</td>\n",
       "      <td>0.0</td>\n",
       "      <td>0.0</td>\n",
       "      <td>0.0</td>\n",
       "      <td>0.0</td>\n",
       "      <td>0.0</td>\n",
       "    </tr>\n",
       "    <tr>\n",
       "      <th>2</th>\n",
       "      <td>0.0</td>\n",
       "      <td>0.0</td>\n",
       "      <td>0.0</td>\n",
       "      <td>0.0</td>\n",
       "      <td>0.0</td>\n",
       "      <td>0.0</td>\n",
       "      <td>0.0</td>\n",
       "      <td>0.0</td>\n",
       "      <td>0.0</td>\n",
       "      <td>0.0</td>\n",
       "      <td>...</td>\n",
       "      <td>0.0</td>\n",
       "      <td>0.0</td>\n",
       "      <td>0.0</td>\n",
       "      <td>0.0</td>\n",
       "      <td>0.0</td>\n",
       "      <td>0.0</td>\n",
       "      <td>0.0</td>\n",
       "      <td>0.0</td>\n",
       "      <td>0.0</td>\n",
       "      <td>0.0</td>\n",
       "    </tr>\n",
       "    <tr>\n",
       "      <th>3</th>\n",
       "      <td>0.0</td>\n",
       "      <td>0.0</td>\n",
       "      <td>0.0</td>\n",
       "      <td>0.0</td>\n",
       "      <td>0.0</td>\n",
       "      <td>0.0</td>\n",
       "      <td>0.0</td>\n",
       "      <td>0.0</td>\n",
       "      <td>0.0</td>\n",
       "      <td>0.0</td>\n",
       "      <td>...</td>\n",
       "      <td>0.0</td>\n",
       "      <td>0.0</td>\n",
       "      <td>0.0</td>\n",
       "      <td>0.0</td>\n",
       "      <td>0.0</td>\n",
       "      <td>0.0</td>\n",
       "      <td>0.0</td>\n",
       "      <td>0.0</td>\n",
       "      <td>0.0</td>\n",
       "      <td>0.0</td>\n",
       "    </tr>\n",
       "    <tr>\n",
       "      <th>4</th>\n",
       "      <td>0.0</td>\n",
       "      <td>0.0</td>\n",
       "      <td>0.0</td>\n",
       "      <td>0.0</td>\n",
       "      <td>0.0</td>\n",
       "      <td>0.0</td>\n",
       "      <td>0.0</td>\n",
       "      <td>0.0</td>\n",
       "      <td>0.0</td>\n",
       "      <td>0.0</td>\n",
       "      <td>...</td>\n",
       "      <td>0.0</td>\n",
       "      <td>0.0</td>\n",
       "      <td>0.0</td>\n",
       "      <td>0.0</td>\n",
       "      <td>0.0</td>\n",
       "      <td>0.0</td>\n",
       "      <td>0.0</td>\n",
       "      <td>0.0</td>\n",
       "      <td>0.0</td>\n",
       "      <td>0.0</td>\n",
       "    </tr>\n",
       "  </tbody>\n",
       "</table>\n",
       "<p>5 rows × 775 columns</p>\n",
       "</div>"
      ],
      "text/plain": [
       "   25thamendmentnow  30seconds  46fire  7news  abc  abcnews  \\\n",
       "0               0.0        0.0     0.0    0.0  0.0      0.0   \n",
       "1               0.0        0.0     0.0    0.0  0.0      0.0   \n",
       "2               0.0        0.0     0.0    0.0  0.0      0.0   \n",
       "3               0.0        0.0     0.0    0.0  0.0      0.0   \n",
       "4               0.0        0.0     0.0    0.0  0.0      0.0   \n",
       "\n",
       "   abubakralbaghdadi  acting  actnow  actonclimate  ...  world  worldnews  \\\n",
       "0                0.0     0.0     0.0           0.0  ...    0.0        0.0   \n",
       "1                0.0     0.0     0.0           0.0  ...    0.0        0.0   \n",
       "2                0.0     0.0     0.0           0.0  ...    0.0        0.0   \n",
       "3                0.0     0.0     0.0           0.0  ...    0.0        0.0   \n",
       "4                0.0     0.0     0.0           0.0  ...    0.0        0.0   \n",
       "\n",
       "   worldseries  worstpresidentever  wtf  wuwei  wwe  wwg1wga  youtube  yrkkh  \n",
       "0          0.0                 0.0  0.0    0.0  0.0      0.0      0.0    0.0  \n",
       "1          0.0                 0.0  0.0    0.0  0.0      0.0      0.0    0.0  \n",
       "2          0.0                 0.0  0.0    0.0  0.0      0.0      0.0    0.0  \n",
       "3          0.0                 0.0  0.0    0.0  0.0      0.0      0.0    0.0  \n",
       "4          0.0                 0.0  0.0    0.0  0.0      0.0      0.0    0.0  \n",
       "\n",
       "[5 rows x 775 columns]"
      ]
     },
     "execution_count": 60,
     "metadata": {},
     "output_type": "execute_result"
    }
   ],
   "source": [
    "# Looking at the actual words \n",
    "hashtagsfreq_df.head()"
   ]
  },
  {
   "cell_type": "code",
   "execution_count": 61,
   "metadata": {},
   "outputs": [],
   "source": [
    "# Trying to get the most important keywords. But couldn't. The vocabulary attribute \n",
    "# gives me words and indices, but I do not understand how it is orgnized. It is not \n",
    "# alphabetical and it is not by level of importance (I don't think). \n",
    "words_dict = tfidfvectorizer.vocabulary_"
   ]
  },
  {
   "cell_type": "code",
   "execution_count": 62,
   "metadata": {},
   "outputs": [],
   "source": [
    "# Turning the vocabulary into a dataframe to further explore the order of words \n",
    "frequent_words = pd.DataFrame.from_dict(words_dict, \n",
    "                                        orient='index', \n",
    "                                        columns=['Number'])"
   ]
  },
  {
   "cell_type": "code",
   "execution_count": 63,
   "metadata": {},
   "outputs": [
    {
     "data": {
      "text/html": [
       "<div>\n",
       "<style scoped>\n",
       "    .dataframe tbody tr th:only-of-type {\n",
       "        vertical-align: middle;\n",
       "    }\n",
       "\n",
       "    .dataframe tbody tr th {\n",
       "        vertical-align: top;\n",
       "    }\n",
       "\n",
       "    .dataframe thead th {\n",
       "        text-align: right;\n",
       "    }\n",
       "</style>\n",
       "<table border=\"1\" class=\"dataframe\">\n",
       "  <thead>\n",
       "    <tr style=\"text-align: right;\">\n",
       "      <th></th>\n",
       "      <th>Number</th>\n",
       "    </tr>\n",
       "  </thead>\n",
       "  <tbody>\n",
       "    <tr>\n",
       "      <th>25thamendmentnow</th>\n",
       "      <td>0</td>\n",
       "    </tr>\n",
       "    <tr>\n",
       "      <th>30seconds</th>\n",
       "      <td>1</td>\n",
       "    </tr>\n",
       "    <tr>\n",
       "      <th>46fire</th>\n",
       "      <td>2</td>\n",
       "    </tr>\n",
       "    <tr>\n",
       "      <th>7news</th>\n",
       "      <td>3</td>\n",
       "    </tr>\n",
       "    <tr>\n",
       "      <th>abc</th>\n",
       "      <td>4</td>\n",
       "    </tr>\n",
       "    <tr>\n",
       "      <th>...</th>\n",
       "      <td>...</td>\n",
       "    </tr>\n",
       "    <tr>\n",
       "      <th>wuwei</th>\n",
       "      <td>770</td>\n",
       "    </tr>\n",
       "    <tr>\n",
       "      <th>wwe</th>\n",
       "      <td>771</td>\n",
       "    </tr>\n",
       "    <tr>\n",
       "      <th>wwg1wga</th>\n",
       "      <td>772</td>\n",
       "    </tr>\n",
       "    <tr>\n",
       "      <th>youtube</th>\n",
       "      <td>773</td>\n",
       "    </tr>\n",
       "    <tr>\n",
       "      <th>yrkkh</th>\n",
       "      <td>774</td>\n",
       "    </tr>\n",
       "  </tbody>\n",
       "</table>\n",
       "<p>775 rows × 1 columns</p>\n",
       "</div>"
      ],
      "text/plain": [
       "                  Number\n",
       "25thamendmentnow       0\n",
       "30seconds              1\n",
       "46fire                 2\n",
       "7news                  3\n",
       "abc                    4\n",
       "...                  ...\n",
       "wuwei                770\n",
       "wwe                  771\n",
       "wwg1wga              772\n",
       "youtube              773\n",
       "yrkkh                774\n",
       "\n",
       "[775 rows x 1 columns]"
      ]
     },
     "execution_count": 63,
     "metadata": {},
     "output_type": "execute_result"
    }
   ],
   "source": [
    "# Not much help here... \n",
    "frequent_words.sort_values('Number')"
   ]
  },
  {
   "cell_type": "markdown",
   "metadata": {},
   "source": [
    "## Clustering by hashtag"
   ]
  },
  {
   "cell_type": "code",
   "execution_count": 64,
   "metadata": {},
   "outputs": [],
   "source": [
    "from sklearn.cluster import KMeans"
   ]
  },
  {
   "cell_type": "markdown",
   "metadata": {},
   "source": [
    "**Using KMeans clustering**: "
   ]
  },
  {
   "cell_type": "code",
   "execution_count": 65,
   "metadata": {},
   "outputs": [],
   "source": [
    "# Instantiating the model \n",
    "true_k = 20\n",
    "kmmodel = KMeans(true_k, random_state=17)"
   ]
  },
  {
   "cell_type": "code",
   "execution_count": 66,
   "metadata": {},
   "outputs": [
    {
     "data": {
      "text/plain": [
       "KMeans(algorithm='auto', copy_x=True, init='k-means++', max_iter=300,\n",
       "       n_clusters=20, n_init=10, n_jobs=None, precompute_distances='auto',\n",
       "       random_state=17, tol=0.0001, verbose=0)"
      ]
     },
     "execution_count": 66,
     "metadata": {},
     "output_type": "execute_result"
    }
   ],
   "source": [
    "# Fiting the model to our hashtags \n",
    "kmmodel.fit(word_frequency)"
   ]
  },
  {
   "cell_type": "code",
   "execution_count": 67,
   "metadata": {},
   "outputs": [],
   "source": [
    "# Getting centroids. Wrote this based on: https://towardsdatascience.com/applying-machine-learning-to-classify-an-unsupervised-text-document-e7bb6265f52\n",
    "hashtag_centroids = kmmodel.cluster_centers_.argsort()[:, ::-1]"
   ]
  },
  {
   "cell_type": "code",
   "execution_count": 68,
   "metadata": {},
   "outputs": [],
   "source": [
    "# Trying to see the words. Got this and next loop from https://towardsdatascience.com/applying-machine-learning-to-classify-an-unsupervised-text-document-e7bb6265f52\n",
    "terms = tfidfvectorizer.get_feature_names()"
   ]
  },
  {
   "cell_type": "code",
   "execution_count": 69,
   "metadata": {},
   "outputs": [
    {
     "name": "stdout",
     "output_type": "stream",
     "text": [
      "Cluster 0:\n",
      "californiapoweroutage\n",
      "californiaisburning\n",
      "pge\n",
      "easyfire\n",
      "kincaidfire\n",
      "Cluster 1:\n",
      "pgepowershutoff\n",
      "pgeshutoff\n",
      "kincadefire\n",
      "pge\n",
      "pgeshutdown\n",
      "Cluster 2:\n",
      "climatecrisis\n",
      "climatechange\n",
      "climateemergency\n",
      "greennewdeal\n",
      "actonclimate\n",
      "Cluster 3:\n",
      "news\n",
      "world\n",
      "business\n",
      "newsdigest\n",
      "breaking\n",
      "Cluster 4:\n",
      "firefighters\n",
      "firstresponders\n",
      "californiaisburning\n",
      "kincadefire\n",
      "mariafire\n",
      "Cluster 5:\n",
      "pgeshutoff\n",
      "pge\n",
      "pgepowershutdown\n",
      "pgeoutage\n",
      "kinkaidfire\n",
      "Cluster 6:\n",
      "kincadefire\n",
      "sonomacounty\n",
      "kincade\n",
      "kincadefires\n",
      "sonomafire\n",
      "Cluster 7:\n",
      "lafires\n",
      "gettyfire\n",
      "lafd\n",
      "lafire\n",
      "firefighters\n",
      "Cluster 8:\n",
      "matthewmcconaughey\n",
      "forestfires\n",
      "mondaymotivation\n",
      "firstresponders\n",
      "losangeles\n",
      "Cluster 9:\n",
      "foxnews\n",
      "tuckercarlson\n",
      "pray\n",
      "californiablackouts\n",
      "newsom\n",
      "Cluster 10:\n",
      "climatechange\n",
      "climateemergency\n",
      "globalwarming\n",
      "climate\n",
      "climateaction\n",
      "Cluster 11:\n",
      "cawx\n",
      "psps\n",
      "kincadefire\n",
      "firewx\n",
      "sonoma\n",
      "Cluster 12:\n",
      "patriotpowerhour\n",
      "brainimplants\n",
      "reporates\n",
      "russian\n",
      "constitution\n",
      "Cluster 13:\n",
      "impeachtrump\n",
      "theresistance\n",
      "25thamendmentnow\n",
      "lockhimup\n",
      "maga\n",
      "Cluster 14:\n",
      "saddleridgefire\n",
      "sandalwoodfire\n",
      "losangeles\n",
      "porterranch\n",
      "socalfirewatch\n",
      "Cluster 15:\n",
      "gettyfire\n",
      "kincadefire\n",
      "tickfire\n",
      "easyfire\n",
      "losangeles\n",
      "Cluster 16:\n",
      "tickfire\n",
      "kincadefire\n",
      "oldwaterfire\n",
      "sonomacounty\n",
      "unitedstates\n",
      "Cluster 17:\n",
      "climatechangeisreal\n",
      "climatechange\n",
      "climateaction\n",
      "climatecrisis\n",
      "climateemergency\n",
      "Cluster 18:\n",
      "poweroutages\n",
      "pge\n",
      "paradise\n",
      "psps\n",
      "campfire\n",
      "Cluster 19:\n",
      "trump\n",
      "potus\n",
      "firefighters\n",
      "climatechange\n",
      "news\n"
     ]
    }
   ],
   "source": [
    "# Again, trying to see how the words are clustered\n",
    "for i in range(true_k):\n",
    "    print('Cluster %d:' % i),\n",
    "    for ind in hashtag_centroids[i, :5]:\n",
    "        print('%s' % terms[ind])"
   ]
  },
  {
   "cell_type": "code",
   "execution_count": 70,
   "metadata": {},
   "outputs": [
    {
     "data": {
      "text/plain": [
       "array([0, 0, 0, ..., 0, 0, 0], dtype=int32)"
      ]
     },
     "execution_count": 70,
     "metadata": {},
     "output_type": "execute_result"
    }
   ],
   "source": [
    "# Getting the cluster predictions\n",
    "kmmodel.labels_"
   ]
  },
  {
   "cell_type": "code",
   "execution_count": 71,
   "metadata": {},
   "outputs": [],
   "source": [
    "# Adding them as a column to the original dataframe \n",
    "twitter_firesv['hashtag_km_cluster'] = kmmodel.labels_"
   ]
  },
  {
   "cell_type": "code",
   "execution_count": 72,
   "metadata": {},
   "outputs": [
    {
     "data": {
      "text/plain": [
       "0     25607\n",
       "6       368\n",
       "9       302\n",
       "10      300\n",
       "15      289\n",
       "16      180\n",
       "11      179\n",
       "4       175\n",
       "3       173\n",
       "2       171\n",
       "19      169\n",
       "5       126\n",
       "13       76\n",
       "17       76\n",
       "14       75\n",
       "1        73\n",
       "12       47\n",
       "7        44\n",
       "18       37\n",
       "8        12\n",
       "Name: hashtag_km_cluster, dtype: int64"
      ]
     },
     "execution_count": 72,
     "metadata": {},
     "output_type": "execute_result"
    }
   ],
   "source": [
    "# Looking at the distribution of clusters. It is not good in the sense that it is highly\n",
    "# ibalanced, but it seems to make sense as cluster 0 seems to pick up all fire-related\n",
    "# tweets, cluster 1 all trump/political-related tweets, and cluster 2 all climate-related\n",
    "# tweets. \n",
    "twitter_firesv['hashtag_km_cluster'].value_counts()"
   ]
  },
  {
   "cell_type": "markdown",
   "metadata": {},
   "source": [
    "**Using DBSCAN:**"
   ]
  },
  {
   "cell_type": "code",
   "execution_count": 73,
   "metadata": {},
   "outputs": [],
   "source": [
    "# Instantiating DBSCAN. I increased epsilon and minimum samples to get a somewhat reasonable\n",
    "# amount of samples. With the standard parameters, I get 238 clusters. With these \n",
    "# we get 16 clusters. \n",
    "dbscanmodel = DBSCAN(eps=0.5, min_samples=20)"
   ]
  },
  {
   "cell_type": "code",
   "execution_count": 74,
   "metadata": {},
   "outputs": [
    {
     "data": {
      "text/plain": [
       "DBSCAN(algorithm='auto', eps=0.5, leaf_size=30, metric='euclidean',\n",
       "       metric_params=None, min_samples=20, n_jobs=None, p=None)"
      ]
     },
     "execution_count": 74,
     "metadata": {},
     "output_type": "execute_result"
    }
   ],
   "source": [
    "# Fitting DBSCAN\n",
    "dbscanmodel.fit(word_frequency)"
   ]
  },
  {
   "cell_type": "code",
   "execution_count": 75,
   "metadata": {},
   "outputs": [
    {
     "data": {
      "text/plain": [
       "{-1,\n",
       " 0,\n",
       " 1,\n",
       " 2,\n",
       " 3,\n",
       " 4,\n",
       " 5,\n",
       " 6,\n",
       " 7,\n",
       " 8,\n",
       " 9,\n",
       " 10,\n",
       " 11,\n",
       " 12,\n",
       " 13,\n",
       " 14,\n",
       " 15,\n",
       " 16,\n",
       " 17,\n",
       " 18,\n",
       " 19,\n",
       " 20,\n",
       " 21,\n",
       " 22,\n",
       " 23,\n",
       " 24,\n",
       " 25,\n",
       " 26,\n",
       " 27,\n",
       " 28,\n",
       " 29,\n",
       " 30,\n",
       " 31,\n",
       " 32,\n",
       " 33,\n",
       " 34,\n",
       " 35,\n",
       " 36,\n",
       " 37,\n",
       " 38}"
      ]
     },
     "execution_count": 75,
     "metadata": {},
     "output_type": "execute_result"
    }
   ],
   "source": [
    "# Looking at the numbers of clusters. It created 238 clusters \n",
    "set(dbscanmodel.labels_)"
   ]
  },
  {
   "cell_type": "code",
   "execution_count": 76,
   "metadata": {},
   "outputs": [],
   "source": [
    "twitter_firesv['hashtag_dbscan_cluster'] = dbscanmodel.labels_"
   ]
  },
  {
   "cell_type": "code",
   "execution_count": 77,
   "metadata": {},
   "outputs": [
    {
     "data": {
      "text/html": [
       "<div>\n",
       "<style scoped>\n",
       "    .dataframe tbody tr th:only-of-type {\n",
       "        vertical-align: middle;\n",
       "    }\n",
       "\n",
       "    .dataframe tbody tr th {\n",
       "        vertical-align: top;\n",
       "    }\n",
       "\n",
       "    .dataframe thead th {\n",
       "        text-align: right;\n",
       "    }\n",
       "</style>\n",
       "<table border=\"1\" class=\"dataframe\">\n",
       "  <thead>\n",
       "    <tr style=\"text-align: right;\">\n",
       "      <th></th>\n",
       "      <th>date</th>\n",
       "      <th>text</th>\n",
       "      <th>username</th>\n",
       "      <th>id</th>\n",
       "      <th>tweet_to</th>\n",
       "      <th>times_retweeted</th>\n",
       "      <th>times_favorited</th>\n",
       "      <th>mentions</th>\n",
       "      <th>hashtags</th>\n",
       "      <th>addressee</th>\n",
       "      <th>hashtag_km_cluster</th>\n",
       "      <th>hashtag_dbscan_cluster</th>\n",
       "    </tr>\n",
       "  </thead>\n",
       "  <tbody>\n",
       "    <tr>\n",
       "      <th>0</th>\n",
       "      <td>2019-11-29 23:10:01+00:00</td>\n",
       "      <td>California Wildfires Inspire Entrepreneur to C...</td>\n",
       "      <td>ReginaBanali</td>\n",
       "      <td>1200552524291411970</td>\n",
       "      <td>0</td>\n",
       "      <td>0</td>\n",
       "      <td>0</td>\n",
       "      <td>0</td>\n",
       "      <td>0</td>\n",
       "      <td>0 0</td>\n",
       "      <td>0</td>\n",
       "      <td>0</td>\n",
       "    </tr>\n",
       "    <tr>\n",
       "      <th>1</th>\n",
       "      <td>2019-11-29 22:49:52+00:00</td>\n",
       "      <td>NEW! ‘Rage for Justice Report - Episode 2 How ...</td>\n",
       "      <td>ConsumerWD</td>\n",
       "      <td>1200547453948162048</td>\n",
       "      <td>0</td>\n",
       "      <td>0</td>\n",
       "      <td>0</td>\n",
       "      <td>@PGE4Me @californiapuc</td>\n",
       "      <td>#californiawildfires #pge #FridayThoughts #Fri...</td>\n",
       "      <td>0 @PGE4Me @californiapuc</td>\n",
       "      <td>0</td>\n",
       "      <td>-1</td>\n",
       "    </tr>\n",
       "    <tr>\n",
       "      <th>2</th>\n",
       "      <td>2019-11-29 22:46:00+00:00</td>\n",
       "      <td>With the #CaliforniaWildFires fresh in our min...</td>\n",
       "      <td>ChangeTheLAUSD</td>\n",
       "      <td>1200546481494577153</td>\n",
       "      <td>GOPChairwoman</td>\n",
       "      <td>0</td>\n",
       "      <td>2</td>\n",
       "      <td>@KatieHill4CA</td>\n",
       "      <td>#CaliforniaWildFires #GOPTaxScam</td>\n",
       "      <td>GOPChairwoman @KatieHill4CA</td>\n",
       "      <td>0</td>\n",
       "      <td>-1</td>\n",
       "    </tr>\n",
       "    <tr>\n",
       "      <th>3</th>\n",
       "      <td>2019-11-29 22:08:21+00:00</td>\n",
       "      <td>#climate “Each degree of warming causes way mo...</td>\n",
       "      <td>ECOWARRIORSS</td>\n",
       "      <td>1200537005396037632</td>\n",
       "      <td>0</td>\n",
       "      <td>17</td>\n",
       "      <td>15</td>\n",
       "      <td>@yayitsrob</td>\n",
       "      <td>#climate</td>\n",
       "      <td>0 @yayitsrob</td>\n",
       "      <td>0</td>\n",
       "      <td>1</td>\n",
       "    </tr>\n",
       "    <tr>\n",
       "      <th>4</th>\n",
       "      <td>2019-11-29 22:08:07+00:00</td>\n",
       "      <td>The California wildfires should come to SoHo</td>\n",
       "      <td>jamesdotcom</td>\n",
       "      <td>1200536945711108104</td>\n",
       "      <td>0</td>\n",
       "      <td>1</td>\n",
       "      <td>19</td>\n",
       "      <td>0</td>\n",
       "      <td>0</td>\n",
       "      <td>0 0</td>\n",
       "      <td>0</td>\n",
       "      <td>0</td>\n",
       "    </tr>\n",
       "  </tbody>\n",
       "</table>\n",
       "</div>"
      ],
      "text/plain": [
       "                        date  \\\n",
       "0  2019-11-29 23:10:01+00:00   \n",
       "1  2019-11-29 22:49:52+00:00   \n",
       "2  2019-11-29 22:46:00+00:00   \n",
       "3  2019-11-29 22:08:21+00:00   \n",
       "4  2019-11-29 22:08:07+00:00   \n",
       "\n",
       "                                                text        username  \\\n",
       "0  California Wildfires Inspire Entrepreneur to C...    ReginaBanali   \n",
       "1  NEW! ‘Rage for Justice Report - Episode 2 How ...      ConsumerWD   \n",
       "2  With the #CaliforniaWildFires fresh in our min...  ChangeTheLAUSD   \n",
       "3  #climate “Each degree of warming causes way mo...    ECOWARRIORSS   \n",
       "4       The California wildfires should come to SoHo     jamesdotcom   \n",
       "\n",
       "                    id       tweet_to times_retweeted times_favorited  \\\n",
       "0  1200552524291411970              0               0               0   \n",
       "1  1200547453948162048              0               0               0   \n",
       "2  1200546481494577153  GOPChairwoman               0               2   \n",
       "3  1200537005396037632              0              17              15   \n",
       "4  1200536945711108104              0               1              19   \n",
       "\n",
       "                 mentions                                           hashtags  \\\n",
       "0                       0                                                  0   \n",
       "1  @PGE4Me @californiapuc  #californiawildfires #pge #FridayThoughts #Fri...   \n",
       "2           @KatieHill4CA                   #CaliforniaWildFires #GOPTaxScam   \n",
       "3              @yayitsrob                                           #climate   \n",
       "4                       0                                                  0   \n",
       "\n",
       "                     addressee  hashtag_km_cluster  hashtag_dbscan_cluster  \n",
       "0                          0 0                   0                       0  \n",
       "1     0 @PGE4Me @californiapuc                   0                      -1  \n",
       "2  GOPChairwoman @KatieHill4CA                   0                      -1  \n",
       "3                 0 @yayitsrob                   0                       1  \n",
       "4                          0 0                   0                       0  "
      ]
     },
     "execution_count": 77,
     "metadata": {},
     "output_type": "execute_result"
    }
   ],
   "source": [
    "twitter_firesv.head()"
   ]
  },
  {
   "cell_type": "markdown",
   "metadata": {},
   "source": [
    "## Clustering by addressee"
   ]
  },
  {
   "cell_type": "markdown",
   "metadata": {},
   "source": [
    "**Using KMeans clustering**: "
   ]
  },
  {
   "cell_type": "code",
   "execution_count": 78,
   "metadata": {},
   "outputs": [
    {
     "data": {
      "text/plain": [
       "0 0                   19034\n",
       "0 @YouTube              425\n",
       "realDonaldTrump 0       250\n",
       "0 @realDonaldTrump      186\n",
       "0 @NBCNews              177\n",
       "                      ...  \n",
       "kelly_ramona 0            1\n",
       "0 @VOAShaka               1\n",
       "0 @CourtneyDeeren         1\n",
       "ABC @GMB                  1\n",
       "Zmarkus9 0                1\n",
       "Name: addressee, Length: 4917, dtype: int64"
      ]
     },
     "execution_count": 78,
     "metadata": {},
     "output_type": "execute_result"
    }
   ],
   "source": [
    "# Looking at the addresee column \n",
    "twitter_firesv['addressee'].value_counts()"
   ]
  },
  {
   "cell_type": "code",
   "execution_count": 79,
   "metadata": {},
   "outputs": [],
   "source": [
    "# Isolating the column to pre-process it. \n",
    "addressees = twitter_firesv['addressee']"
   ]
  },
  {
   "cell_type": "code",
   "execution_count": 80,
   "metadata": {},
   "outputs": [
    {
     "data": {
      "text/plain": [
       "0                                0 0\n",
       "1           0 @PGE4Me @californiapuc\n",
       "2        GOPChairwoman @KatieHill4CA\n",
       "3                       0 @yayitsrob\n",
       "4                                0 0\n",
       "                    ...             \n",
       "28474                   0 @yayitsrob\n",
       "28475                            0 0\n",
       "28476                            0 0\n",
       "28477                 AbdulElSayed 0\n",
       "28478              0 @crooksandliars\n",
       "Name: addressee, Length: 28479, dtype: object"
      ]
     },
     "execution_count": 80,
     "metadata": {},
     "output_type": "execute_result"
    }
   ],
   "source": [
    "addressees"
   ]
  },
  {
   "cell_type": "code",
   "execution_count": 81,
   "metadata": {},
   "outputs": [],
   "source": [
    "# Instantiating the TFIDF vectorizer\n",
    "tfidfvectorizerad = TfidfVectorizer()"
   ]
  },
  {
   "cell_type": "code",
   "execution_count": 82,
   "metadata": {},
   "outputs": [],
   "source": [
    "# Fitting it to the addresees \n",
    "addressee_frequency = tfidfvectorizerad.fit_transform(addressees)"
   ]
  },
  {
   "cell_type": "code",
   "execution_count": 83,
   "metadata": {},
   "outputs": [
    {
     "data": {
      "text/plain": [
       "(28479, 4870)"
      ]
     },
     "execution_count": 83,
     "metadata": {},
     "output_type": "execute_result"
    }
   ],
   "source": [
    "# Getting the number of words it identified \n",
    "addressee_frequency.shape"
   ]
  },
  {
   "cell_type": "code",
   "execution_count": 84,
   "metadata": {},
   "outputs": [
    {
     "data": {
      "text/plain": [
       "<28479x4870 sparse matrix of type '<class 'numpy.float64'>'\n",
       "\twith 13266 stored elements in Compressed Sparse Row format>"
      ]
     },
     "execution_count": 84,
     "metadata": {},
     "output_type": "execute_result"
    }
   ],
   "source": [
    "addressee_frequency"
   ]
  },
  {
   "cell_type": "code",
   "execution_count": 85,
   "metadata": {},
   "outputs": [],
   "source": [
    "# Turning them into a dataframe\n",
    "addreseesfreq_df = pd.DataFrame(addressee_frequency.todense(), columns = tfidfvectorizerad.get_feature_names())"
   ]
  },
  {
   "cell_type": "code",
   "execution_count": 86,
   "metadata": {},
   "outputs": [
    {
     "data": {
      "text/html": [
       "<div>\n",
       "<style scoped>\n",
       "    .dataframe tbody tr th:only-of-type {\n",
       "        vertical-align: middle;\n",
       "    }\n",
       "\n",
       "    .dataframe tbody tr th {\n",
       "        vertical-align: top;\n",
       "    }\n",
       "\n",
       "    .dataframe thead th {\n",
       "        text-align: right;\n",
       "    }\n",
       "</style>\n",
       "<table border=\"1\" class=\"dataframe\">\n",
       "  <thead>\n",
       "    <tr style=\"text-align: right;\">\n",
       "      <th></th>\n",
       "      <th>0cean_sky</th>\n",
       "      <th>0sundance</th>\n",
       "      <th>10</th>\n",
       "      <th>1010wins</th>\n",
       "      <th>10monicawoods</th>\n",
       "      <th>10newswtsp</th>\n",
       "      <th>11</th>\n",
       "      <th>11alivenews</th>\n",
       "      <th>11thhour</th>\n",
       "      <th>1208snooks</th>\n",
       "      <th>...</th>\n",
       "      <th>zibalady1</th>\n",
       "      <th>zillowgroup</th>\n",
       "      <th>zimmerdiamonds</th>\n",
       "      <th>zmarkus9</th>\n",
       "      <th>zmcgowanfanclub</th>\n",
       "      <th>zonehaveninc</th>\n",
       "      <th>zsmitty11</th>\n",
       "      <th>zuleykalovers</th>\n",
       "      <th>zumapress</th>\n",
       "      <th>zyyral</th>\n",
       "    </tr>\n",
       "  </thead>\n",
       "  <tbody>\n",
       "    <tr>\n",
       "      <th>0</th>\n",
       "      <td>0.0</td>\n",
       "      <td>0.0</td>\n",
       "      <td>0.0</td>\n",
       "      <td>0.0</td>\n",
       "      <td>0.0</td>\n",
       "      <td>0.0</td>\n",
       "      <td>0.0</td>\n",
       "      <td>0.0</td>\n",
       "      <td>0.0</td>\n",
       "      <td>0.0</td>\n",
       "      <td>...</td>\n",
       "      <td>0.0</td>\n",
       "      <td>0.0</td>\n",
       "      <td>0.0</td>\n",
       "      <td>0.0</td>\n",
       "      <td>0.0</td>\n",
       "      <td>0.0</td>\n",
       "      <td>0.0</td>\n",
       "      <td>0.0</td>\n",
       "      <td>0.0</td>\n",
       "      <td>0.0</td>\n",
       "    </tr>\n",
       "    <tr>\n",
       "      <th>1</th>\n",
       "      <td>0.0</td>\n",
       "      <td>0.0</td>\n",
       "      <td>0.0</td>\n",
       "      <td>0.0</td>\n",
       "      <td>0.0</td>\n",
       "      <td>0.0</td>\n",
       "      <td>0.0</td>\n",
       "      <td>0.0</td>\n",
       "      <td>0.0</td>\n",
       "      <td>0.0</td>\n",
       "      <td>...</td>\n",
       "      <td>0.0</td>\n",
       "      <td>0.0</td>\n",
       "      <td>0.0</td>\n",
       "      <td>0.0</td>\n",
       "      <td>0.0</td>\n",
       "      <td>0.0</td>\n",
       "      <td>0.0</td>\n",
       "      <td>0.0</td>\n",
       "      <td>0.0</td>\n",
       "      <td>0.0</td>\n",
       "    </tr>\n",
       "    <tr>\n",
       "      <th>2</th>\n",
       "      <td>0.0</td>\n",
       "      <td>0.0</td>\n",
       "      <td>0.0</td>\n",
       "      <td>0.0</td>\n",
       "      <td>0.0</td>\n",
       "      <td>0.0</td>\n",
       "      <td>0.0</td>\n",
       "      <td>0.0</td>\n",
       "      <td>0.0</td>\n",
       "      <td>0.0</td>\n",
       "      <td>...</td>\n",
       "      <td>0.0</td>\n",
       "      <td>0.0</td>\n",
       "      <td>0.0</td>\n",
       "      <td>0.0</td>\n",
       "      <td>0.0</td>\n",
       "      <td>0.0</td>\n",
       "      <td>0.0</td>\n",
       "      <td>0.0</td>\n",
       "      <td>0.0</td>\n",
       "      <td>0.0</td>\n",
       "    </tr>\n",
       "    <tr>\n",
       "      <th>3</th>\n",
       "      <td>0.0</td>\n",
       "      <td>0.0</td>\n",
       "      <td>0.0</td>\n",
       "      <td>0.0</td>\n",
       "      <td>0.0</td>\n",
       "      <td>0.0</td>\n",
       "      <td>0.0</td>\n",
       "      <td>0.0</td>\n",
       "      <td>0.0</td>\n",
       "      <td>0.0</td>\n",
       "      <td>...</td>\n",
       "      <td>0.0</td>\n",
       "      <td>0.0</td>\n",
       "      <td>0.0</td>\n",
       "      <td>0.0</td>\n",
       "      <td>0.0</td>\n",
       "      <td>0.0</td>\n",
       "      <td>0.0</td>\n",
       "      <td>0.0</td>\n",
       "      <td>0.0</td>\n",
       "      <td>0.0</td>\n",
       "    </tr>\n",
       "    <tr>\n",
       "      <th>4</th>\n",
       "      <td>0.0</td>\n",
       "      <td>0.0</td>\n",
       "      <td>0.0</td>\n",
       "      <td>0.0</td>\n",
       "      <td>0.0</td>\n",
       "      <td>0.0</td>\n",
       "      <td>0.0</td>\n",
       "      <td>0.0</td>\n",
       "      <td>0.0</td>\n",
       "      <td>0.0</td>\n",
       "      <td>...</td>\n",
       "      <td>0.0</td>\n",
       "      <td>0.0</td>\n",
       "      <td>0.0</td>\n",
       "      <td>0.0</td>\n",
       "      <td>0.0</td>\n",
       "      <td>0.0</td>\n",
       "      <td>0.0</td>\n",
       "      <td>0.0</td>\n",
       "      <td>0.0</td>\n",
       "      <td>0.0</td>\n",
       "    </tr>\n",
       "  </tbody>\n",
       "</table>\n",
       "<p>5 rows × 4870 columns</p>\n",
       "</div>"
      ],
      "text/plain": [
       "   0cean_sky  0sundance   10  1010wins  10monicawoods  10newswtsp   11  \\\n",
       "0        0.0        0.0  0.0       0.0            0.0         0.0  0.0   \n",
       "1        0.0        0.0  0.0       0.0            0.0         0.0  0.0   \n",
       "2        0.0        0.0  0.0       0.0            0.0         0.0  0.0   \n",
       "3        0.0        0.0  0.0       0.0            0.0         0.0  0.0   \n",
       "4        0.0        0.0  0.0       0.0            0.0         0.0  0.0   \n",
       "\n",
       "   11alivenews  11thhour  1208snooks  ...  zibalady1  zillowgroup  \\\n",
       "0          0.0       0.0         0.0  ...        0.0          0.0   \n",
       "1          0.0       0.0         0.0  ...        0.0          0.0   \n",
       "2          0.0       0.0         0.0  ...        0.0          0.0   \n",
       "3          0.0       0.0         0.0  ...        0.0          0.0   \n",
       "4          0.0       0.0         0.0  ...        0.0          0.0   \n",
       "\n",
       "   zimmerdiamonds  zmarkus9  zmcgowanfanclub  zonehaveninc  zsmitty11  \\\n",
       "0             0.0       0.0              0.0           0.0        0.0   \n",
       "1             0.0       0.0              0.0           0.0        0.0   \n",
       "2             0.0       0.0              0.0           0.0        0.0   \n",
       "3             0.0       0.0              0.0           0.0        0.0   \n",
       "4             0.0       0.0              0.0           0.0        0.0   \n",
       "\n",
       "   zuleykalovers  zumapress  zyyral  \n",
       "0            0.0        0.0     0.0  \n",
       "1            0.0        0.0     0.0  \n",
       "2            0.0        0.0     0.0  \n",
       "3            0.0        0.0     0.0  \n",
       "4            0.0        0.0     0.0  \n",
       "\n",
       "[5 rows x 4870 columns]"
      ]
     },
     "execution_count": 86,
     "metadata": {},
     "output_type": "execute_result"
    }
   ],
   "source": [
    "# Looking at the actual words \n",
    "addreseesfreq_df.head()"
   ]
  },
  {
   "cell_type": "code",
   "execution_count": 179,
   "metadata": {},
   "outputs": [],
   "source": [
    "# Trying to get the most important keywords. But couldn't. The vocabulary attribute \n",
    "# gives me words and indices, but I do not understand how it is orgnized. It is not \n",
    "# alphabetical and it is not by level of importance (I don't think). \n",
    "# Commenting this out to save space\n",
    "# tfidfvectorizerad.vocabulary_"
   ]
  },
  {
   "cell_type": "code",
   "execution_count": 92,
   "metadata": {},
   "outputs": [],
   "source": [
    "# Instantiating the model to cluster in 5 (we tried different k and this made the most \n",
    "# sense of all)\n",
    "true_kad = 20\n",
    "kmmodelad = KMeans(true_kad, random_state=17)"
   ]
  },
  {
   "cell_type": "code",
   "execution_count": 93,
   "metadata": {},
   "outputs": [
    {
     "data": {
      "text/plain": [
       "KMeans(algorithm='auto', copy_x=True, init='k-means++', max_iter=300,\n",
       "       n_clusters=20, n_init=10, n_jobs=None, precompute_distances='auto',\n",
       "       random_state=17, tol=0.0001, verbose=0)"
      ]
     },
     "execution_count": 93,
     "metadata": {},
     "output_type": "execute_result"
    }
   ],
   "source": [
    "# Fiting the model to our addressees \n",
    "kmmodelad.fit(addressee_frequency)"
   ]
  },
  {
   "cell_type": "code",
   "execution_count": 94,
   "metadata": {},
   "outputs": [],
   "source": [
    "# Getting centroids.\n",
    "addressee_centroids = kmmodelad.cluster_centers_.argsort()[:, ::-1]"
   ]
  },
  {
   "cell_type": "code",
   "execution_count": 95,
   "metadata": {},
   "outputs": [],
   "source": [
    "# Trying to see the words. \n",
    "addressesnames = tfidfvectorizerad.get_feature_names()"
   ]
  },
  {
   "cell_type": "code",
   "execution_count": 96,
   "metadata": {},
   "outputs": [
    {
     "name": "stdout",
     "output_type": "stream",
     "text": [
      "Cluster 0:\n",
      "johncornyn\n",
      "geigernews\n",
      "zyyral\n",
      "gadinbc\n",
      "g1\n",
      "Cluster 1:\n",
      "latimes\n",
      "pge4me\n",
      "aoc\n",
      "cal_fire\n",
      "kamalaharris\n",
      "Cluster 2:\n",
      "usatoday\n",
      "realdonaldtrump\n",
      "twittermoments\n",
      "potus\n",
      "gabriel_mann\n",
      "Cluster 3:\n",
      "abc\n",
      "realdonaldtrump\n",
      "reevewill\n",
      "mattgutmanabc\n",
      "lookner\n",
      "Cluster 4:\n",
      "leahstokes\n",
      "democracynow\n",
      "ucsantabarbara\n",
      "sunrisemvmt\n",
      "womenalsoknow\n",
      "Cluster 5:\n",
      "youtube\n",
      "rubinreport\n",
      "drvox\n",
      "redtraccoon\n",
      "realdonaldtrump\n",
      "Cluster 6:\n",
      "abc7\n",
      "realdonaldtrump\n",
      "abc7alexcheney\n",
      "marston4ca42\n",
      "calfire\n",
      "Cluster 7:\n",
      "nbcnews\n",
      "realdonaldtrump\n",
      "potus\n",
      "gop\n",
      "gabriela__gs\n",
      "Cluster 8:\n",
      "googlenews\n",
      "tomleykis\n",
      "therealdvorak\n",
      "tesla\n",
      "whitehouse\n",
      "Cluster 9:\n",
      "npr\n",
      "npratc\n",
      "conorsen\n",
      "berkeleyside\n",
      "kcbsradio\n",
      "Cluster 10:\n",
      "realdonaldtrump\n",
      "potus\n",
      "gop\n",
      "speakerpelosi\n",
      "whitehouse\n",
      "Cluster 11:\n",
      "nypost\n",
      "gabriela__gs\n",
      "futuritynews\n",
      "fwcallaway\n",
      "g1\n",
      "Cluster 12:\n",
      "gavinnewsom\n",
      "realdonaldtrump\n",
      "pge4me\n",
      "speakerpelosi\n",
      "cagovernor\n",
      "Cluster 13:\n",
      "cbspolitics\n",
      "realdonaldtrump\n",
      "morgfair\n",
      "gaelle_mg\n",
      "g_meslin\n",
      "Cluster 14:\n",
      "laist\n",
      "kpcc\n",
      "exposwillreturn\n",
      "ryfons\n",
      "zyyral\n",
      "Cluster 15:\n",
      "cbsnews\n",
      "climatehuman\n",
      "cbsthismorning\n",
      "kpixtv\n",
      "cbsla\n",
      "Cluster 16:\n",
      "caseymmiller\n",
      "datagraphics\n",
      "latimes\n",
      "palewire\n",
      "wallacetim\n",
      "Cluster 17:\n",
      "yahoo\n",
      "potus\n",
      "realdonaldtrump\n",
      "pge4me\n",
      "zyyral\n",
      "Cluster 18:\n",
      "sfgate\n",
      "zyyral\n",
      "gabriela__gs\n",
      "futuritynews\n",
      "fwcallaway\n",
      "Cluster 19:\n",
      "ap\n",
      "marciosanchez06\n",
      "cbsla\n",
      "zyyral\n",
      "gadinbc\n"
     ]
    }
   ],
   "source": [
    "# Trying to see how the words are clustered\n",
    "for i in range(true_kad):\n",
    "    print('Cluster %d:' % i),\n",
    "    for ind in addressee_centroids[i, :5]:\n",
    "        print('%s' % addressesnames[ind])"
   ]
  },
  {
   "cell_type": "code",
   "execution_count": 97,
   "metadata": {},
   "outputs": [
    {
     "data": {
      "text/plain": [
       "array([1, 1, 1, ..., 1, 1, 1], dtype=int32)"
      ]
     },
     "execution_count": 97,
     "metadata": {},
     "output_type": "execute_result"
    }
   ],
   "source": [
    "# Getting the cluster predictions\n",
    "kmmodelad.labels_"
   ]
  },
  {
   "cell_type": "code",
   "execution_count": 98,
   "metadata": {},
   "outputs": [],
   "source": [
    "# Adding them as a column to the original dataframe \n",
    "twitter_firesv['addressee_km_cluster'] = kmmodelad.labels_"
   ]
  },
  {
   "cell_type": "code",
   "execution_count": 99,
   "metadata": {},
   "outputs": [
    {
     "data": {
      "text/plain": [
       "1     26303\n",
       "10      491\n",
       "5       430\n",
       "12      252\n",
       "3       213\n",
       "7       190\n",
       "2       119\n",
       "8       119\n",
       "6        71\n",
       "19       63\n",
       "13       57\n",
       "15       39\n",
       "17       37\n",
       "11       34\n",
       "4        12\n",
       "14       12\n",
       "9        12\n",
       "18       11\n",
       "16        9\n",
       "0         5\n",
       "Name: addressee_km_cluster, dtype: int64"
      ]
     },
     "execution_count": 99,
     "metadata": {},
     "output_type": "execute_result"
    }
   ],
   "source": [
    "# Looking at the distribution of clusters. It is not good in the sense that it is highly\n",
    "# ibalanced, but it seems to make sense as cluster 0 seems to pick up all fire-related\n",
    "# tweets, cluster 1 all trump/political-related tweets, and cluster 2 all climate-related\n",
    "# tweets. \n",
    "twitter_firesv['addressee_km_cluster'].value_counts()"
   ]
  },
  {
   "cell_type": "markdown",
   "metadata": {},
   "source": [
    "**Using DBSCAN:**"
   ]
  },
  {
   "cell_type": "code",
   "execution_count": 100,
   "metadata": {},
   "outputs": [],
   "source": [
    "# Instantiating DBSCAN. I increased epsilon and minimum samples to get a somewhat reasonable\n",
    "# amount of samples. With the standard parameters, I get 241 clusters. With these \n",
    "# we get 21 clusters. \n",
    "dbscanmodelad = DBSCAN(eps=0.5, min_samples=30)"
   ]
  },
  {
   "cell_type": "code",
   "execution_count": 101,
   "metadata": {},
   "outputs": [
    {
     "data": {
      "text/plain": [
       "DBSCAN(algorithm='auto', eps=0.5, leaf_size=30, metric='euclidean',\n",
       "       metric_params=None, min_samples=30, n_jobs=None, p=None)"
      ]
     },
     "execution_count": 101,
     "metadata": {},
     "output_type": "execute_result"
    }
   ],
   "source": [
    "# Fitting DBSCAN\n",
    "dbscanmodelad.fit(addressee_frequency)"
   ]
  },
  {
   "cell_type": "code",
   "execution_count": 102,
   "metadata": {},
   "outputs": [
    {
     "data": {
      "text/plain": [
       "{-1, 0, 1, 2, 3, 4, 5, 6, 7, 8, 9, 10, 11, 12, 13, 14, 15, 16, 17, 18, 19, 20}"
      ]
     },
     "execution_count": 102,
     "metadata": {},
     "output_type": "execute_result"
    }
   ],
   "source": [
    "# Looking at the numbers of clusters. \n",
    "set(dbscanmodelad.labels_)"
   ]
  },
  {
   "cell_type": "code",
   "execution_count": 103,
   "metadata": {},
   "outputs": [],
   "source": [
    "twitter_firesv['addresse_dbscan_cluster'] = dbscanmodelad.labels_"
   ]
  },
  {
   "cell_type": "code",
   "execution_count": 104,
   "metadata": {},
   "outputs": [
    {
     "data": {
      "text/html": [
       "<div>\n",
       "<style scoped>\n",
       "    .dataframe tbody tr th:only-of-type {\n",
       "        vertical-align: middle;\n",
       "    }\n",
       "\n",
       "    .dataframe tbody tr th {\n",
       "        vertical-align: top;\n",
       "    }\n",
       "\n",
       "    .dataframe thead th {\n",
       "        text-align: right;\n",
       "    }\n",
       "</style>\n",
       "<table border=\"1\" class=\"dataframe\">\n",
       "  <thead>\n",
       "    <tr style=\"text-align: right;\">\n",
       "      <th></th>\n",
       "      <th>date</th>\n",
       "      <th>text</th>\n",
       "      <th>username</th>\n",
       "      <th>id</th>\n",
       "      <th>tweet_to</th>\n",
       "      <th>times_retweeted</th>\n",
       "      <th>times_favorited</th>\n",
       "      <th>mentions</th>\n",
       "      <th>hashtags</th>\n",
       "      <th>addressee</th>\n",
       "      <th>hashtag_km_cluster</th>\n",
       "      <th>hashtag_dbscan_cluster</th>\n",
       "      <th>addressee_km_cluster</th>\n",
       "      <th>addresse_dbscan_cluster</th>\n",
       "    </tr>\n",
       "  </thead>\n",
       "  <tbody>\n",
       "    <tr>\n",
       "      <th>0</th>\n",
       "      <td>2019-11-29 23:10:01+00:00</td>\n",
       "      <td>California Wildfires Inspire Entrepreneur to C...</td>\n",
       "      <td>ReginaBanali</td>\n",
       "      <td>1200552524291411970</td>\n",
       "      <td>0</td>\n",
       "      <td>0</td>\n",
       "      <td>0</td>\n",
       "      <td>0</td>\n",
       "      <td>0</td>\n",
       "      <td>0 0</td>\n",
       "      <td>0</td>\n",
       "      <td>0</td>\n",
       "      <td>1</td>\n",
       "      <td>0</td>\n",
       "    </tr>\n",
       "    <tr>\n",
       "      <th>1</th>\n",
       "      <td>2019-11-29 22:49:52+00:00</td>\n",
       "      <td>NEW! ‘Rage for Justice Report - Episode 2 How ...</td>\n",
       "      <td>ConsumerWD</td>\n",
       "      <td>1200547453948162048</td>\n",
       "      <td>0</td>\n",
       "      <td>0</td>\n",
       "      <td>0</td>\n",
       "      <td>@PGE4Me @californiapuc</td>\n",
       "      <td>#californiawildfires #pge #FridayThoughts #Fri...</td>\n",
       "      <td>0 @PGE4Me @californiapuc</td>\n",
       "      <td>0</td>\n",
       "      <td>-1</td>\n",
       "      <td>1</td>\n",
       "      <td>-1</td>\n",
       "    </tr>\n",
       "    <tr>\n",
       "      <th>2</th>\n",
       "      <td>2019-11-29 22:46:00+00:00</td>\n",
       "      <td>With the #CaliforniaWildFires fresh in our min...</td>\n",
       "      <td>ChangeTheLAUSD</td>\n",
       "      <td>1200546481494577153</td>\n",
       "      <td>GOPChairwoman</td>\n",
       "      <td>0</td>\n",
       "      <td>2</td>\n",
       "      <td>@KatieHill4CA</td>\n",
       "      <td>#CaliforniaWildFires #GOPTaxScam</td>\n",
       "      <td>GOPChairwoman @KatieHill4CA</td>\n",
       "      <td>0</td>\n",
       "      <td>-1</td>\n",
       "      <td>1</td>\n",
       "      <td>-1</td>\n",
       "    </tr>\n",
       "    <tr>\n",
       "      <th>3</th>\n",
       "      <td>2019-11-29 22:08:21+00:00</td>\n",
       "      <td>#climate “Each degree of warming causes way mo...</td>\n",
       "      <td>ECOWARRIORSS</td>\n",
       "      <td>1200537005396037632</td>\n",
       "      <td>0</td>\n",
       "      <td>17</td>\n",
       "      <td>15</td>\n",
       "      <td>@yayitsrob</td>\n",
       "      <td>#climate</td>\n",
       "      <td>0 @yayitsrob</td>\n",
       "      <td>0</td>\n",
       "      <td>1</td>\n",
       "      <td>1</td>\n",
       "      <td>-1</td>\n",
       "    </tr>\n",
       "    <tr>\n",
       "      <th>4</th>\n",
       "      <td>2019-11-29 22:08:07+00:00</td>\n",
       "      <td>The California wildfires should come to SoHo</td>\n",
       "      <td>jamesdotcom</td>\n",
       "      <td>1200536945711108104</td>\n",
       "      <td>0</td>\n",
       "      <td>1</td>\n",
       "      <td>19</td>\n",
       "      <td>0</td>\n",
       "      <td>0</td>\n",
       "      <td>0 0</td>\n",
       "      <td>0</td>\n",
       "      <td>0</td>\n",
       "      <td>1</td>\n",
       "      <td>0</td>\n",
       "    </tr>\n",
       "  </tbody>\n",
       "</table>\n",
       "</div>"
      ],
      "text/plain": [
       "                        date  \\\n",
       "0  2019-11-29 23:10:01+00:00   \n",
       "1  2019-11-29 22:49:52+00:00   \n",
       "2  2019-11-29 22:46:00+00:00   \n",
       "3  2019-11-29 22:08:21+00:00   \n",
       "4  2019-11-29 22:08:07+00:00   \n",
       "\n",
       "                                                text        username  \\\n",
       "0  California Wildfires Inspire Entrepreneur to C...    ReginaBanali   \n",
       "1  NEW! ‘Rage for Justice Report - Episode 2 How ...      ConsumerWD   \n",
       "2  With the #CaliforniaWildFires fresh in our min...  ChangeTheLAUSD   \n",
       "3  #climate “Each degree of warming causes way mo...    ECOWARRIORSS   \n",
       "4       The California wildfires should come to SoHo     jamesdotcom   \n",
       "\n",
       "                    id       tweet_to times_retweeted times_favorited  \\\n",
       "0  1200552524291411970              0               0               0   \n",
       "1  1200547453948162048              0               0               0   \n",
       "2  1200546481494577153  GOPChairwoman               0               2   \n",
       "3  1200537005396037632              0              17              15   \n",
       "4  1200536945711108104              0               1              19   \n",
       "\n",
       "                 mentions                                           hashtags  \\\n",
       "0                       0                                                  0   \n",
       "1  @PGE4Me @californiapuc  #californiawildfires #pge #FridayThoughts #Fri...   \n",
       "2           @KatieHill4CA                   #CaliforniaWildFires #GOPTaxScam   \n",
       "3              @yayitsrob                                           #climate   \n",
       "4                       0                                                  0   \n",
       "\n",
       "                     addressee  hashtag_km_cluster  hashtag_dbscan_cluster  \\\n",
       "0                          0 0                   0                       0   \n",
       "1     0 @PGE4Me @californiapuc                   0                      -1   \n",
       "2  GOPChairwoman @KatieHill4CA                   0                      -1   \n",
       "3                 0 @yayitsrob                   0                       1   \n",
       "4                          0 0                   0                       0   \n",
       "\n",
       "   addressee_km_cluster  addresse_dbscan_cluster  \n",
       "0                     1                        0  \n",
       "1                     1                       -1  \n",
       "2                     1                       -1  \n",
       "3                     1                       -1  \n",
       "4                     1                        0  "
      ]
     },
     "execution_count": 104,
     "metadata": {},
     "output_type": "execute_result"
    }
   ],
   "source": [
    "twitter_firesv.head()"
   ]
  },
  {
   "cell_type": "markdown",
   "metadata": {},
   "source": [
    "## Clustering by tweet"
   ]
  },
  {
   "cell_type": "code",
   "execution_count": 105,
   "metadata": {},
   "outputs": [
    {
     "data": {
      "text/plain": [
       "0        California Wildfires Inspire Entrepreneur to C...\n",
       "1        NEW! ‘Rage for Justice Report - Episode 2 How ...\n",
       "2        With the #CaliforniaWildFires fresh in our min...\n",
       "3        #climate “Each degree of warming causes way mo...\n",
       "4             The California wildfires should come to SoHo\n",
       "                               ...                        \n",
       "28474    California wildfires have quintupled in size o...\n",
       "28475    How can you remind your clients of your value ...\n",
       "28476    rich people be like climate change is bad act ...\n",
       "28477    This is how the California wildfires started, ...\n",
       "28478    Domestic Terrorist Intentionally Sets Californ...\n",
       "Name: text, Length: 28479, dtype: object"
      ]
     },
     "execution_count": 105,
     "metadata": {},
     "output_type": "execute_result"
    }
   ],
   "source": [
    "# Looking at the tweet column \n",
    "twitter_firesv['text']"
   ]
  },
  {
   "cell_type": "code",
   "execution_count": 106,
   "metadata": {},
   "outputs": [],
   "source": [
    "tweets = twitter_firesv['text']"
   ]
  },
  {
   "cell_type": "markdown",
   "metadata": {},
   "source": [
    "**TFIDF Vectorizing using ngram(1,1)**: "
   ]
  },
  {
   "cell_type": "code",
   "execution_count": 107,
   "metadata": {},
   "outputs": [],
   "source": [
    "# Instantiating the vectorizer with ngram(1,1) to start. Will subsequently try a couple of \n",
    "# ngrams. \n",
    "tfidfvect_text = TfidfVectorizer(\n",
    "    strip_accents='ascii', \n",
    "    stop_words = ['californiawildfires','californiawildfire','californiafires', \n",
    "    'californiafire','california','wildfires', 'wildfire','calfire', 'calfires','fire', \n",
    "    'fires', 'cafire', 'ca', 'cafires', 'it', 'its', 'itself', 'what', 'which', 'whom', 'this',\n",
    "    'that', 'these', 'those','a','an','the','and','but','or','as','of','at','by','for',\n",
    "    'with', 'into','to','up','down','in','on','off', 'such', 'so', 'than', 'too', 'very', 'http', \n",
    "    'https', 'www', 'com', 's', 'e','is','you','are','i','be','all','we','our','your','if','re'],\n",
    "    token_pattern = r'[a-zA-Z]+', \n",
    "    min_df = 3,\n",
    "    ngram_range=(1,1)\n",
    ")"
   ]
  },
  {
   "cell_type": "code",
   "execution_count": 108,
   "metadata": {},
   "outputs": [],
   "source": [
    "# Fitting the vectorizer\n",
    "tweetword_freq1 = tfidfvect_text.fit_transform(tweets)"
   ]
  },
  {
   "cell_type": "code",
   "execution_count": 109,
   "metadata": {},
   "outputs": [],
   "source": [
    "# Setting the sparse matrix as a dataframe  \n",
    "tweetwordfreq_df1= pd.DataFrame(tweetword_freq1.todense(), columns = tfidfvect_text.get_feature_names())"
   ]
  },
  {
   "cell_type": "code",
   "execution_count": 110,
   "metadata": {},
   "outputs": [
    {
     "data": {
      "text/plain": [
       "(28479, 9473)"
      ]
     },
     "execution_count": 110,
     "metadata": {},
     "output_type": "execute_result"
    }
   ],
   "source": [
    "tweetwordfreq_df1.shape"
   ]
  },
  {
   "cell_type": "code",
   "execution_count": 111,
   "metadata": {
    "scrolled": true
   },
   "outputs": [
    {
     "data": {
      "text/html": [
       "<div>\n",
       "<style scoped>\n",
       "    .dataframe tbody tr th:only-of-type {\n",
       "        vertical-align: middle;\n",
       "    }\n",
       "\n",
       "    .dataframe tbody tr th {\n",
       "        vertical-align: top;\n",
       "    }\n",
       "\n",
       "    .dataframe thead th {\n",
       "        text-align: right;\n",
       "    }\n",
       "</style>\n",
       "<table border=\"1\" class=\"dataframe\">\n",
       "  <thead>\n",
       "    <tr style=\"text-align: right;\">\n",
       "      <th></th>\n",
       "      <th>TM</th>\n",
       "      <th>aa</th>\n",
       "      <th>aag</th>\n",
       "      <th>aaidh</th>\n",
       "      <th>aaidkx</th>\n",
       "      <th>aaiennp</th>\n",
       "      <th>aajmp</th>\n",
       "      <th>aajocpm</th>\n",
       "      <th>aajritf</th>\n",
       "      <th>aajs</th>\n",
       "      <th>...</th>\n",
       "      <th>zp</th>\n",
       "      <th>zpr</th>\n",
       "      <th>zr</th>\n",
       "      <th>zrhaq</th>\n",
       "      <th>zrrczr</th>\n",
       "      <th>zta</th>\n",
       "      <th>ztpr</th>\n",
       "      <th>zuckerberg</th>\n",
       "      <th>zuma</th>\n",
       "      <th>zz</th>\n",
       "    </tr>\n",
       "  </thead>\n",
       "  <tbody>\n",
       "    <tr>\n",
       "      <th>0</th>\n",
       "      <td>0.0</td>\n",
       "      <td>0.0</td>\n",
       "      <td>0.0</td>\n",
       "      <td>0.0</td>\n",
       "      <td>0.0</td>\n",
       "      <td>0.0</td>\n",
       "      <td>0.0</td>\n",
       "      <td>0.0</td>\n",
       "      <td>0.0</td>\n",
       "      <td>0.0</td>\n",
       "      <td>...</td>\n",
       "      <td>0.0</td>\n",
       "      <td>0.0</td>\n",
       "      <td>0.0</td>\n",
       "      <td>0.0</td>\n",
       "      <td>0.0</td>\n",
       "      <td>0.0</td>\n",
       "      <td>0.0</td>\n",
       "      <td>0.0</td>\n",
       "      <td>0.0</td>\n",
       "      <td>0.0</td>\n",
       "    </tr>\n",
       "    <tr>\n",
       "      <th>1</th>\n",
       "      <td>0.0</td>\n",
       "      <td>0.0</td>\n",
       "      <td>0.0</td>\n",
       "      <td>0.0</td>\n",
       "      <td>0.0</td>\n",
       "      <td>0.0</td>\n",
       "      <td>0.0</td>\n",
       "      <td>0.0</td>\n",
       "      <td>0.0</td>\n",
       "      <td>0.0</td>\n",
       "      <td>...</td>\n",
       "      <td>0.0</td>\n",
       "      <td>0.0</td>\n",
       "      <td>0.0</td>\n",
       "      <td>0.0</td>\n",
       "      <td>0.0</td>\n",
       "      <td>0.0</td>\n",
       "      <td>0.0</td>\n",
       "      <td>0.0</td>\n",
       "      <td>0.0</td>\n",
       "      <td>0.0</td>\n",
       "    </tr>\n",
       "    <tr>\n",
       "      <th>2</th>\n",
       "      <td>0.0</td>\n",
       "      <td>0.0</td>\n",
       "      <td>0.0</td>\n",
       "      <td>0.0</td>\n",
       "      <td>0.0</td>\n",
       "      <td>0.0</td>\n",
       "      <td>0.0</td>\n",
       "      <td>0.0</td>\n",
       "      <td>0.0</td>\n",
       "      <td>0.0</td>\n",
       "      <td>...</td>\n",
       "      <td>0.0</td>\n",
       "      <td>0.0</td>\n",
       "      <td>0.0</td>\n",
       "      <td>0.0</td>\n",
       "      <td>0.0</td>\n",
       "      <td>0.0</td>\n",
       "      <td>0.0</td>\n",
       "      <td>0.0</td>\n",
       "      <td>0.0</td>\n",
       "      <td>0.0</td>\n",
       "    </tr>\n",
       "    <tr>\n",
       "      <th>3</th>\n",
       "      <td>0.0</td>\n",
       "      <td>0.0</td>\n",
       "      <td>0.0</td>\n",
       "      <td>0.0</td>\n",
       "      <td>0.0</td>\n",
       "      <td>0.0</td>\n",
       "      <td>0.0</td>\n",
       "      <td>0.0</td>\n",
       "      <td>0.0</td>\n",
       "      <td>0.0</td>\n",
       "      <td>...</td>\n",
       "      <td>0.0</td>\n",
       "      <td>0.0</td>\n",
       "      <td>0.0</td>\n",
       "      <td>0.0</td>\n",
       "      <td>0.0</td>\n",
       "      <td>0.0</td>\n",
       "      <td>0.0</td>\n",
       "      <td>0.0</td>\n",
       "      <td>0.0</td>\n",
       "      <td>0.0</td>\n",
       "    </tr>\n",
       "    <tr>\n",
       "      <th>4</th>\n",
       "      <td>0.0</td>\n",
       "      <td>0.0</td>\n",
       "      <td>0.0</td>\n",
       "      <td>0.0</td>\n",
       "      <td>0.0</td>\n",
       "      <td>0.0</td>\n",
       "      <td>0.0</td>\n",
       "      <td>0.0</td>\n",
       "      <td>0.0</td>\n",
       "      <td>0.0</td>\n",
       "      <td>...</td>\n",
       "      <td>0.0</td>\n",
       "      <td>0.0</td>\n",
       "      <td>0.0</td>\n",
       "      <td>0.0</td>\n",
       "      <td>0.0</td>\n",
       "      <td>0.0</td>\n",
       "      <td>0.0</td>\n",
       "      <td>0.0</td>\n",
       "      <td>0.0</td>\n",
       "      <td>0.0</td>\n",
       "    </tr>\n",
       "  </tbody>\n",
       "</table>\n",
       "<p>5 rows × 9473 columns</p>\n",
       "</div>"
      ],
      "text/plain": [
       "    TM   aa  aag  aaidh  aaidkx  aaiennp  aajmp  aajocpm  aajritf  aajs  ...  \\\n",
       "0  0.0  0.0  0.0    0.0     0.0      0.0    0.0      0.0      0.0   0.0  ...   \n",
       "1  0.0  0.0  0.0    0.0     0.0      0.0    0.0      0.0      0.0   0.0  ...   \n",
       "2  0.0  0.0  0.0    0.0     0.0      0.0    0.0      0.0      0.0   0.0  ...   \n",
       "3  0.0  0.0  0.0    0.0     0.0      0.0    0.0      0.0      0.0   0.0  ...   \n",
       "4  0.0  0.0  0.0    0.0     0.0      0.0    0.0      0.0      0.0   0.0  ...   \n",
       "\n",
       "    zp  zpr   zr  zrhaq  zrrczr  zta  ztpr  zuckerberg  zuma   zz  \n",
       "0  0.0  0.0  0.0    0.0     0.0  0.0   0.0         0.0   0.0  0.0  \n",
       "1  0.0  0.0  0.0    0.0     0.0  0.0   0.0         0.0   0.0  0.0  \n",
       "2  0.0  0.0  0.0    0.0     0.0  0.0   0.0         0.0   0.0  0.0  \n",
       "3  0.0  0.0  0.0    0.0     0.0  0.0   0.0         0.0   0.0  0.0  \n",
       "4  0.0  0.0  0.0    0.0     0.0  0.0   0.0         0.0   0.0  0.0  \n",
       "\n",
       "[5 rows x 9473 columns]"
      ]
     },
     "execution_count": 111,
     "metadata": {},
     "output_type": "execute_result"
    }
   ],
   "source": [
    "# Looking at the words \n",
    "tweetwordfreq_df1.head()"
   ]
  },
  {
   "cell_type": "code",
   "execution_count": 178,
   "metadata": {},
   "outputs": [],
   "source": [
    "# Commenting this out to save space, but this is the vocabulary counts\n",
    "# tfidfvect_text.vocabulary_"
   ]
  },
  {
   "cell_type": "markdown",
   "metadata": {},
   "source": [
    "**KMeans Clustering using TFIDFVec ngram 1,1:**"
   ]
  },
  {
   "cell_type": "code",
   "execution_count": 113,
   "metadata": {},
   "outputs": [],
   "source": [
    "# Instantiating the model. Smaller k yield very imbalanced classes. We tried different \n",
    "# k values and this one yielded clusters that made most sense. \n",
    "true_ktweet = 20\n",
    "kmmodeltweet1 = KMeans(true_ktweet, random_state=17)"
   ]
  },
  {
   "cell_type": "code",
   "execution_count": 114,
   "metadata": {},
   "outputs": [
    {
     "data": {
      "text/plain": [
       "KMeans(algorithm='auto', copy_x=True, init='k-means++', max_iter=300,\n",
       "       n_clusters=20, n_init=10, n_jobs=None, precompute_distances='auto',\n",
       "       random_state=17, tol=0.0001, verbose=0)"
      ]
     },
     "execution_count": 114,
     "metadata": {},
     "output_type": "execute_result"
    }
   ],
   "source": [
    "# Fiting the model to our addressees \n",
    "kmmodeltweet1.fit(tweetword_freq1)"
   ]
  },
  {
   "cell_type": "code",
   "execution_count": 115,
   "metadata": {},
   "outputs": [],
   "source": [
    "# Getting centroids.\n",
    "tweet_centroids1 = kmmodeltweet1.cluster_centers_.argsort()[:, ::-1]"
   ]
  },
  {
   "cell_type": "code",
   "execution_count": 116,
   "metadata": {},
   "outputs": [],
   "source": [
    "# Trying to see the words. \n",
    "tweetwords1 = tfidfvect_text.get_feature_names()"
   ]
  },
  {
   "cell_type": "code",
   "execution_count": 117,
   "metadata": {},
   "outputs": [
    {
     "name": "stdout",
     "output_type": "stream",
     "text": [
      "Cluster 0:\n",
      "from\n",
      "power\n",
      "pg\n",
      "have\n",
      "climate\n",
      "amp\n",
      "help\n",
      "news\n",
      "how\n",
      "via\n",
      "Cluster 1:\n",
      "fight\n",
      "no\n",
      "funds\n",
      "ll\n",
      "more\n",
      "trump\n",
      "says\n",
      "he\n",
      "federal\n",
      "cut\n",
      "Cluster 2:\n",
      "funding\n",
      "cut\n",
      "trump\n",
      "fema\n",
      "ordered\n",
      "threatens\n",
      "says\n",
      "has\n",
      "he\n",
      "us\n",
      "Cluster 3:\n",
      "new\n",
      "live\n",
      "winds\n",
      "blaze\n",
      "library\n",
      "reagan\n",
      "strong\n",
      "news\n",
      "kincade\n",
      "amid\n",
      "Cluster 4:\n",
      "cena\n",
      "john\n",
      "responders\n",
      "first\n",
      "battling\n",
      "k\n",
      "donating\n",
      "donates\n",
      "pledges\n",
      "fighting\n",
      "Cluster 5:\n",
      "los\n",
      "angeles\n",
      "photos\n",
      "from\n",
      "homes\n",
      "threaten\n",
      "holman\n",
      "jenkins\n",
      "revolt\n",
      "sent\n",
      "Cluster 6:\n",
      "southern\n",
      "deaths\n",
      "three\n",
      "tied\n",
      "authorities\n",
      "unchecked\n",
      "burning\n",
      "dead\n",
      "following\n",
      "linked\n",
      "Cluster 7:\n",
      "about\n",
      "trump\n",
      "not\n",
      "climate\n",
      "he\n",
      "t\n",
      "how\n",
      "know\n",
      "pelosi\n",
      "talking\n",
      "Cluster 8:\n",
      "more\n",
      "event\n",
      "historic\n",
      "wind\n",
      "evacuations\n",
      "shutoffs\n",
      "power\n",
      "force\n",
      "after\n",
      "foxnews\n",
      "Cluster 9:\n",
      "force\n",
      "emergency\n",
      "statewide\n",
      "evacuate\n",
      "evacuations\n",
      "evacuation\n",
      "winds\n",
      "trigger\n",
      "nearly\n",
      "declared\n",
      "Cluster 10:\n",
      "bbc\n",
      "warned\n",
      "possible\n",
      "millions\n",
      "news\n",
      "canada\n",
      "world\n",
      "power\n",
      "cut\n",
      "us\n",
      "Cluster 11:\n",
      "firefighters\n",
      "battle\n",
      "illustrate\n",
      "exhausting\n",
      "against\n",
      "thank\n",
      "dramatic\n",
      "inmate\n",
      "facing\n",
      "light\n",
      "Cluster 12:\n",
      "erupt\n",
      "wine\n",
      "country\n",
      "burn\n",
      "la\n",
      "angeles\n",
      "los\n",
      "rh\n",
      "dlvr\n",
      "aajs\n",
      "Cluster 13:\n",
      "age\n",
      "signal\n",
      "planetary\n",
      "arrival\n",
      "pyrocene\n",
      "utm\n",
      "theconversation\n",
      "livescience\n",
      "expert\n",
      "entered\n",
      "Cluster 14:\n",
      "threatens\n",
      "federal\n",
      "trump\n",
      "aid\n",
      "pull\n",
      "cut\n",
      "funding\n",
      "nbcnews\n",
      "abc\n",
      "easy\n",
      "Cluster 15:\n",
      "utm\n",
      "amp\n",
      "medium\n",
      "source\n",
      "content\n",
      "campaign\n",
      "trueanthem\n",
      "twitter\n",
      "confirmed\n",
      "return\n",
      "Cluster 16:\n",
      "aoc\n",
      "turner\n",
      "daniel\n",
      "government\n",
      "change\n",
      "climate\n",
      "dereliction\n",
      "duty\n",
      "hey\n",
      "look\n",
      "Cluster 17:\n",
      "kincadefire\n",
      "tickfire\n",
      "sonomacounty\n",
      "gettyfire\n",
      "cawx\n",
      "oldwaterfire\n",
      "evacuation\n",
      "sonoma\n",
      "emergency\n",
      "state\n",
      "Cluster 18:\n",
      "thousands\n",
      "evacuated\n",
      "tens\n",
      "hillside\n",
      "join\n",
      "critical\n",
      "blazes\n",
      "acres\n",
      "burned\n",
      "rage\n",
      "Cluster 19:\n",
      "least\n",
      "maria\n",
      "forces\n",
      "dead\n",
      "poandpo\n",
      "evacuations\n",
      "near\n",
      "one\n",
      "two\n",
      "angeles\n"
     ]
    }
   ],
   "source": [
    "# Trying to see how the words are clustered\n",
    "for i in range(true_ktweet):\n",
    "    print('Cluster %d:' % i),\n",
    "    for ind in tweet_centroids1[i, :10]:\n",
    "        print('%s' % tweetwords1[ind])"
   ]
  },
  {
   "cell_type": "code",
   "execution_count": 118,
   "metadata": {},
   "outputs": [
    {
     "data": {
      "text/plain": [
       "array([0, 0, 0, ..., 0, 0, 0], dtype=int32)"
      ]
     },
     "execution_count": 118,
     "metadata": {},
     "output_type": "execute_result"
    }
   ],
   "source": [
    "# Getting the cluster predictions\n",
    "kmmodeltweet1.labels_"
   ]
  },
  {
   "cell_type": "code",
   "execution_count": 119,
   "metadata": {},
   "outputs": [],
   "source": [
    "# Adding them as a column to the original dataframe \n",
    "twitter_firesv['tweet_km_cluster_ngram1_1'] = kmmodeltweet1.labels_"
   ]
  },
  {
   "cell_type": "code",
   "execution_count": 120,
   "metadata": {},
   "outputs": [
    {
     "data": {
      "text/plain": [
       "0     17778\n",
       "7      1243\n",
       "3       971\n",
       "14      894\n",
       "17      859\n",
       "5       792\n",
       "2       672\n",
       "18      640\n",
       "1       623\n",
       "6       618\n",
       "9       577\n",
       "15      543\n",
       "10      407\n",
       "16      398\n",
       "19      290\n",
       "8       282\n",
       "4       249\n",
       "11      234\n",
       "13      221\n",
       "12      188\n",
       "Name: tweet_km_cluster_ngram1_1, dtype: int64"
      ]
     },
     "execution_count": 120,
     "metadata": {},
     "output_type": "execute_result"
    }
   ],
   "source": [
    "# Looking at the distribution of clusters. It is not good in the sense that it is highly\n",
    "# ibalanced, but it seems to make sense as cluster 0 seems to pick up all fire-related\n",
    "# tweets, cluster 1 all trump/political-related tweets, and cluster 2 all climate-related\n",
    "# tweets. \n",
    "twitter_firesv['tweet_km_cluster_ngram1_1'].value_counts()"
   ]
  },
  {
   "cell_type": "markdown",
   "metadata": {},
   "source": [
    "**TFIDF Vectorizing using ngram(2,2)**: "
   ]
  },
  {
   "cell_type": "code",
   "execution_count": 121,
   "metadata": {},
   "outputs": [],
   "source": [
    "# Instantiating the vectorizer with ngram(1,1) to start. Will subsequently try a couple of \n",
    "# ngrams. \n",
    "tfidfvect_text2 = TfidfVectorizer(\n",
    "    strip_accents='ascii', \n",
    "    stop_words = ['californiawildfires','californiawildfire','californiafires', \n",
    "    'californiafire','california','wildfires', 'wildfire','calfire', 'calfires','fire', \n",
    "    'fires', 'cafire', 'ca', 'cafires', 'it', 'its', 'itself', 'what', 'which', 'whom', 'this',\n",
    "    'that', 'these', 'those','a','an','the','and','but','or','as','of','at','by','for',\n",
    "    'with', 'into','to','up','down','in','on','off', 'such', 'so', 'than', 'too', 'very', 'http', \n",
    "    'https', 'www', 'com', 's', 'e','is','you','are','i','be','all','we','our','your','if','re'],\n",
    "    token_pattern = r'[a-zA-Z]+', \n",
    "    min_df = 3,\n",
    "    ngram_range=(2,2)\n",
    ")"
   ]
  },
  {
   "cell_type": "code",
   "execution_count": 122,
   "metadata": {},
   "outputs": [],
   "source": [
    "# Fitting the vectorizer\n",
    "tweetword_freq2 = tfidfvect_text2.fit_transform(tweets)"
   ]
  },
  {
   "cell_type": "code",
   "execution_count": 123,
   "metadata": {},
   "outputs": [],
   "source": [
    "# Setting the sparse matrix as a dataframe  \n",
    "tweetwordfreq_df2= pd.DataFrame(tweetword_freq2.todense(), columns = tfidfvect_text2.get_feature_names())"
   ]
  },
  {
   "cell_type": "code",
   "execution_count": 124,
   "metadata": {},
   "outputs": [
    {
     "data": {
      "text/plain": [
       "(28479, 16555)"
      ]
     },
     "execution_count": 124,
     "metadata": {},
     "output_type": "execute_result"
    }
   ],
   "source": [
    "tweetwordfreq_df2.shape"
   ]
  },
  {
   "cell_type": "code",
   "execution_count": 125,
   "metadata": {
    "scrolled": true
   },
   "outputs": [
    {
     "data": {
      "text/html": [
       "<div>\n",
       "<style scoped>\n",
       "    .dataframe tbody tr th:only-of-type {\n",
       "        vertical-align: middle;\n",
       "    }\n",
       "\n",
       "    .dataframe tbody tr th {\n",
       "        vertical-align: top;\n",
       "    }\n",
       "\n",
       "    .dataframe thead th {\n",
       "        text-align: right;\n",
       "    }\n",
       "</style>\n",
       "<table border=\"1\" class=\"dataframe\">\n",
       "  <thead>\n",
       "    <tr style=\"text-align: right;\">\n",
       "      <th></th>\n",
       "      <th>aa news</th>\n",
       "      <th>aag aag</th>\n",
       "      <th>aaidh ocid</th>\n",
       "      <th>aaidkx ocid</th>\n",
       "      <th>aaiennp ocid</th>\n",
       "      <th>aajmp d</th>\n",
       "      <th>aajocpm ocid</th>\n",
       "      <th>aajritf ocid</th>\n",
       "      <th>aajs ae</th>\n",
       "      <th>aajuzbb ocid</th>\n",
       "      <th>...</th>\n",
       "      <th>znw ogski</th>\n",
       "      <th>zone evacuation</th>\n",
       "      <th>zones now</th>\n",
       "      <th>zpr io</th>\n",
       "      <th>zrhaq via</th>\n",
       "      <th>zta via</th>\n",
       "      <th>ztpr qtwayoaqdj</th>\n",
       "      <th>zuma october</th>\n",
       "      <th>zuma wire</th>\n",
       "      <th>zz news</th>\n",
       "    </tr>\n",
       "  </thead>\n",
       "  <tbody>\n",
       "    <tr>\n",
       "      <th>0</th>\n",
       "      <td>0.0</td>\n",
       "      <td>0.0</td>\n",
       "      <td>0.0</td>\n",
       "      <td>0.0</td>\n",
       "      <td>0.0</td>\n",
       "      <td>0.0</td>\n",
       "      <td>0.0</td>\n",
       "      <td>0.0</td>\n",
       "      <td>0.0</td>\n",
       "      <td>0.0</td>\n",
       "      <td>...</td>\n",
       "      <td>0.0</td>\n",
       "      <td>0.0</td>\n",
       "      <td>0.0</td>\n",
       "      <td>0.0</td>\n",
       "      <td>0.0</td>\n",
       "      <td>0.0</td>\n",
       "      <td>0.0</td>\n",
       "      <td>0.0</td>\n",
       "      <td>0.0</td>\n",
       "      <td>0.0</td>\n",
       "    </tr>\n",
       "    <tr>\n",
       "      <th>1</th>\n",
       "      <td>0.0</td>\n",
       "      <td>0.0</td>\n",
       "      <td>0.0</td>\n",
       "      <td>0.0</td>\n",
       "      <td>0.0</td>\n",
       "      <td>0.0</td>\n",
       "      <td>0.0</td>\n",
       "      <td>0.0</td>\n",
       "      <td>0.0</td>\n",
       "      <td>0.0</td>\n",
       "      <td>...</td>\n",
       "      <td>0.0</td>\n",
       "      <td>0.0</td>\n",
       "      <td>0.0</td>\n",
       "      <td>0.0</td>\n",
       "      <td>0.0</td>\n",
       "      <td>0.0</td>\n",
       "      <td>0.0</td>\n",
       "      <td>0.0</td>\n",
       "      <td>0.0</td>\n",
       "      <td>0.0</td>\n",
       "    </tr>\n",
       "    <tr>\n",
       "      <th>2</th>\n",
       "      <td>0.0</td>\n",
       "      <td>0.0</td>\n",
       "      <td>0.0</td>\n",
       "      <td>0.0</td>\n",
       "      <td>0.0</td>\n",
       "      <td>0.0</td>\n",
       "      <td>0.0</td>\n",
       "      <td>0.0</td>\n",
       "      <td>0.0</td>\n",
       "      <td>0.0</td>\n",
       "      <td>...</td>\n",
       "      <td>0.0</td>\n",
       "      <td>0.0</td>\n",
       "      <td>0.0</td>\n",
       "      <td>0.0</td>\n",
       "      <td>0.0</td>\n",
       "      <td>0.0</td>\n",
       "      <td>0.0</td>\n",
       "      <td>0.0</td>\n",
       "      <td>0.0</td>\n",
       "      <td>0.0</td>\n",
       "    </tr>\n",
       "    <tr>\n",
       "      <th>3</th>\n",
       "      <td>0.0</td>\n",
       "      <td>0.0</td>\n",
       "      <td>0.0</td>\n",
       "      <td>0.0</td>\n",
       "      <td>0.0</td>\n",
       "      <td>0.0</td>\n",
       "      <td>0.0</td>\n",
       "      <td>0.0</td>\n",
       "      <td>0.0</td>\n",
       "      <td>0.0</td>\n",
       "      <td>...</td>\n",
       "      <td>0.0</td>\n",
       "      <td>0.0</td>\n",
       "      <td>0.0</td>\n",
       "      <td>0.0</td>\n",
       "      <td>0.0</td>\n",
       "      <td>0.0</td>\n",
       "      <td>0.0</td>\n",
       "      <td>0.0</td>\n",
       "      <td>0.0</td>\n",
       "      <td>0.0</td>\n",
       "    </tr>\n",
       "    <tr>\n",
       "      <th>4</th>\n",
       "      <td>0.0</td>\n",
       "      <td>0.0</td>\n",
       "      <td>0.0</td>\n",
       "      <td>0.0</td>\n",
       "      <td>0.0</td>\n",
       "      <td>0.0</td>\n",
       "      <td>0.0</td>\n",
       "      <td>0.0</td>\n",
       "      <td>0.0</td>\n",
       "      <td>0.0</td>\n",
       "      <td>...</td>\n",
       "      <td>0.0</td>\n",
       "      <td>0.0</td>\n",
       "      <td>0.0</td>\n",
       "      <td>0.0</td>\n",
       "      <td>0.0</td>\n",
       "      <td>0.0</td>\n",
       "      <td>0.0</td>\n",
       "      <td>0.0</td>\n",
       "      <td>0.0</td>\n",
       "      <td>0.0</td>\n",
       "    </tr>\n",
       "  </tbody>\n",
       "</table>\n",
       "<p>5 rows × 16555 columns</p>\n",
       "</div>"
      ],
      "text/plain": [
       "   aa news  aag aag  aaidh ocid  aaidkx ocid  aaiennp ocid  aajmp d  \\\n",
       "0      0.0      0.0         0.0          0.0           0.0      0.0   \n",
       "1      0.0      0.0         0.0          0.0           0.0      0.0   \n",
       "2      0.0      0.0         0.0          0.0           0.0      0.0   \n",
       "3      0.0      0.0         0.0          0.0           0.0      0.0   \n",
       "4      0.0      0.0         0.0          0.0           0.0      0.0   \n",
       "\n",
       "   aajocpm ocid  aajritf ocid  aajs ae  aajuzbb ocid  ...  znw ogski  \\\n",
       "0           0.0           0.0      0.0           0.0  ...        0.0   \n",
       "1           0.0           0.0      0.0           0.0  ...        0.0   \n",
       "2           0.0           0.0      0.0           0.0  ...        0.0   \n",
       "3           0.0           0.0      0.0           0.0  ...        0.0   \n",
       "4           0.0           0.0      0.0           0.0  ...        0.0   \n",
       "\n",
       "   zone evacuation  zones now  zpr io  zrhaq via  zta via  ztpr qtwayoaqdj  \\\n",
       "0              0.0        0.0     0.0        0.0      0.0              0.0   \n",
       "1              0.0        0.0     0.0        0.0      0.0              0.0   \n",
       "2              0.0        0.0     0.0        0.0      0.0              0.0   \n",
       "3              0.0        0.0     0.0        0.0      0.0              0.0   \n",
       "4              0.0        0.0     0.0        0.0      0.0              0.0   \n",
       "\n",
       "   zuma october  zuma wire  zz news  \n",
       "0           0.0        0.0      0.0  \n",
       "1           0.0        0.0      0.0  \n",
       "2           0.0        0.0      0.0  \n",
       "3           0.0        0.0      0.0  \n",
       "4           0.0        0.0      0.0  \n",
       "\n",
       "[5 rows x 16555 columns]"
      ]
     },
     "execution_count": 125,
     "metadata": {},
     "output_type": "execute_result"
    }
   ],
   "source": [
    "# Looking at the words \n",
    "tweetwordfreq_df2.head()"
   ]
  },
  {
   "cell_type": "code",
   "execution_count": 126,
   "metadata": {},
   "outputs": [],
   "source": [
    "# For seeing the vocabulary, but commented out to save space\n",
    "# tfidfvect_text2.vocabulary_"
   ]
  },
  {
   "cell_type": "markdown",
   "metadata": {},
   "source": [
    "**KMeans Clustering using TFIDFVec ngram 2,2:**"
   ]
  },
  {
   "cell_type": "code",
   "execution_count": 127,
   "metadata": {},
   "outputs": [],
   "source": [
    "# Instantiating the model. Smaller k yield very imbalanced classes. We tried different \n",
    "# k values and this one yielded clusters that made most sense. \n",
    "true_ktweet2 = 20\n",
    "kmmodeltweet2 = KMeans(true_ktweet2, random_state=17)"
   ]
  },
  {
   "cell_type": "code",
   "execution_count": 128,
   "metadata": {},
   "outputs": [
    {
     "data": {
      "text/plain": [
       "KMeans(algorithm='auto', copy_x=True, init='k-means++', max_iter=300,\n",
       "       n_clusters=20, n_init=10, n_jobs=None, precompute_distances='auto',\n",
       "       random_state=17, tol=0.0001, verbose=0)"
      ]
     },
     "execution_count": 128,
     "metadata": {},
     "output_type": "execute_result"
    }
   ],
   "source": [
    "# Fiting the model to our addressees \n",
    "kmmodeltweet2.fit(tweetword_freq2)"
   ]
  },
  {
   "cell_type": "code",
   "execution_count": 129,
   "metadata": {},
   "outputs": [],
   "source": [
    "# Getting centroids.\n",
    "tweet_centroids2 = kmmodeltweet2.cluster_centers_.argsort()[:, ::-1]"
   ]
  },
  {
   "cell_type": "code",
   "execution_count": 130,
   "metadata": {},
   "outputs": [],
   "source": [
    "# Trying to see the words. \n",
    "tweetwords2 = tfidfvect_text2.get_feature_names()"
   ]
  },
  {
   "cell_type": "code",
   "execution_count": 131,
   "metadata": {
    "scrolled": true
   },
   "outputs": [
    {
     "name": "stdout",
     "output_type": "stream",
     "text": [
      "Cluster 0:\n",
      "have done\n",
      "would have\n",
      "everything have\n",
      "electra oann\n",
      "loss property\n",
      "dating back\n",
      "fema gov\n",
      "control have\n",
      "federal control\n",
      "under federal\n",
      "Cluster 1:\n",
      "millions warned\n",
      "warned possible\n",
      "possible power\n",
      "power cut\n",
      "cut bbc\n",
      "bbc news\n",
      "us canada\n",
      "world us\n",
      "news world\n",
      "news millions\n",
      "Cluster 2:\n",
      "winery rebuild\n",
      "maria evacuations\n",
      "lifted winery\n",
      "nation maria\n",
      "evacuations lifted\n",
      "story news\n",
      "usatoday story\n",
      "news nation\n",
      "fight usatoday\n",
      "ll cut\n",
      "Cluster 3:\n",
      "threatens cut\n",
      "trump threatens\n",
      "federal funding\n",
      "cut federal\n",
      "us funding\n",
      "cut us\n",
      "funding abc\n",
      "abc news\n",
      "cut funding\n",
      "via abc\n",
      "Cluster 4:\n",
      "los angeles\n",
      "climate change\n",
      "bit ly\n",
      "first responders\n",
      "amp utm\n",
      "thousands evacuated\n",
      "via youtube\n",
      "wine country\n",
      "power outages\n",
      "pg amp\n",
      "Cluster 5:\n",
      "menace reagan\n",
      "library getty\n",
      "twin southern\n",
      "southern menace\n",
      "museum homes\n",
      "getty museum\n",
      "reagan library\n",
      "homes dlvr\n",
      "update twin\n",
      "homes reuters\n",
      "Cluster 6:\n",
      "threatens pull\n",
      "pull federal\n",
      "federal aid\n",
      "trump threatens\n",
      "aid nbcnews\n",
      "aid n\n",
      "politics donald\n",
      "nbcnews politics\n",
      "trump trump\n",
      "donald trump\n",
      "Cluster 7:\n",
      "signal arrival\n",
      "arrival planetary\n",
      "planetary age\n",
      "theconversation signal\n",
      "age theconversation\n",
      "age html\n",
      "age livescience\n",
      "age utm\n",
      "pyrocene age\n",
      "entered pyrocene\n",
      "Cluster 8:\n",
      "flee after\n",
      "after governor\n",
      "declares state\n",
      "state emergency\n",
      "governor declares\n",
      "thousands flee\n",
      "emergency kincadefire\n",
      "oldwaterfire sonomacounty\n",
      "tickfire oldwaterfire\n",
      "kincadefire tickfire\n",
      "Cluster 9:\n",
      "blaze erupts\n",
      "new blaze\n",
      "after new\n",
      "library evacuated\n",
      "erupts near\n",
      "evacuated after\n",
      "near la\n",
      "la live\n",
      "ronald reagan\n",
      "reagan library\n",
      "Cluster 10:\n",
      "exhausting battle\n",
      "illustrate exhausting\n",
      "battle against\n",
      "thank firefighters\n",
      "dramatic photos\n",
      "photos illustrate\n",
      "firefighters dramatic\n",
      "images illustrate\n",
      "firefighters images\n",
      "against abc\n",
      "Cluster 11:\n",
      "threatens more\n",
      "easy threatens\n",
      "more homes\n",
      "homes twitter\n",
      "twitter events\n",
      "easyfire threatens\n",
      "sending prayers\n",
      "friends family\n",
      "safe everyone\n",
      "state thank\n",
      "Cluster 12:\n",
      "funds fight\n",
      "federal funds\n",
      "ll cut\n",
      "he ll\n",
      "more trump\n",
      "no more\n",
      "trump says\n",
      "cut federal\n",
      "says he\n",
      "aajmp d\n",
      "Cluster 13:\n",
      "amid warning\n",
      "warning over\n",
      "over strong\n",
      "evacuations amid\n",
      "new evacuations\n",
      "strong winds\n",
      "winds bbc\n",
      "bbc news\n",
      "news new\n",
      "us canada\n",
      "Cluster 14:\n",
      "looming blackouts\n",
      "face looming\n",
      "million face\n",
      "ravage state\n",
      "state million\n",
      "blazes ravage\n",
      "two million\n",
      "over two\n",
      "blackouts dlvr\n",
      "state two\n",
      "Cluster 15:\n",
      "amp utm\n",
      "content dbc\n",
      "ex cid\n",
      "abc ex\n",
      "kabc fb\n",
      "dbc c\n",
      "cid ta\n",
      "ta kabc\n",
      "fb amp\n",
      "b amp\n",
      "Cluster 16:\n",
      "winds helping\n",
      "subsiding winds\n",
      "helping containment\n",
      "containment dlvr\n",
      "time subsiding\n",
      "dlvr rhp\n",
      "time winds\n",
      "ti me\n",
      "ift tt\n",
      "business feedly\n",
      "Cluster 17:\n",
      "daniel turner\n",
      "climate change\n",
      "dereliction duty\n",
      "hey aoc\n",
      "government dereliction\n",
      "like government\n",
      "aoc look\n",
      "duty not\n",
      "look like\n",
      "not climate\n",
      "Cluster 18:\n",
      "r avjq\n",
      "avjq via\n",
      "j r\n",
      "causing youtu\n",
      "youtu j\n",
      "pg causing\n",
      "via youtube\n",
      "amp causing\n",
      "here another\n",
      "their homes\n",
      "Cluster 19:\n",
      "ordered fema\n",
      "fema cut\n",
      "has ordered\n",
      "he has\n",
      "cut funding\n",
      "says he\n",
      "trump says\n",
      "news trump\n",
      "cbsnews news\n",
      "funding cbs\n"
     ]
    }
   ],
   "source": [
    "# Trying to see how the words are clustered\n",
    "for i in range(true_ktweet2):\n",
    "    print('Cluster %d:' % i),\n",
    "    for ind in tweet_centroids2[i, :10]:\n",
    "        print('%s' % tweetwords2[ind])"
   ]
  },
  {
   "cell_type": "code",
   "execution_count": 132,
   "metadata": {},
   "outputs": [
    {
     "data": {
      "text/plain": [
       "array([4, 4, 4, ..., 4, 4, 4], dtype=int32)"
      ]
     },
     "execution_count": 132,
     "metadata": {},
     "output_type": "execute_result"
    }
   ],
   "source": [
    "# Getting the cluster predictions\n",
    "kmmodeltweet2.labels_"
   ]
  },
  {
   "cell_type": "code",
   "execution_count": 133,
   "metadata": {},
   "outputs": [],
   "source": [
    "# Adding them as a column to the original dataframe \n",
    "twitter_firesv['tweet_km_cluster_ngram2_2'] = kmmodeltweet2.labels_"
   ]
  },
  {
   "cell_type": "code",
   "execution_count": 134,
   "metadata": {},
   "outputs": [
    {
     "data": {
      "text/plain": [
       "4     25193\n",
       "3       696\n",
       "17      394\n",
       "19      351\n",
       "6       348\n",
       "12      272\n",
       "1       249\n",
       "7       204\n",
       "10      143\n",
       "2       134\n",
       "11       95\n",
       "15       87\n",
       "13       75\n",
       "14       65\n",
       "8        50\n",
       "9        37\n",
       "5        34\n",
       "18       31\n",
       "16       11\n",
       "0        10\n",
       "Name: tweet_km_cluster_ngram2_2, dtype: int64"
      ]
     },
     "execution_count": 134,
     "metadata": {},
     "output_type": "execute_result"
    }
   ],
   "source": [
    "# Looking at the distribution of clusters. It is not good in the sense that it is highly\n",
    "# ibalanced, but it seems to make sense as cluster 0 seems to pick up all fire-related\n",
    "# tweets, cluster 1 all trump/political-related tweets, and cluster 2 all climate-related\n",
    "# tweets. \n",
    "twitter_firesv['tweet_km_cluster_ngram2_2'].value_counts()"
   ]
  },
  {
   "cell_type": "markdown",
   "metadata": {},
   "source": [
    "**DBSCAN Clustering using TFIDFVec ngram 2,2:**"
   ]
  },
  {
   "cell_type": "code",
   "execution_count": 135,
   "metadata": {},
   "outputs": [],
   "source": [
    "# Instantiating the model. The standard parameters give us 600+ clusters. These parameters \n",
    "# give us 29\n",
    "dbscan_tweet = DBSCAN(eps=0.5, min_samples=70)"
   ]
  },
  {
   "cell_type": "code",
   "execution_count": 136,
   "metadata": {},
   "outputs": [
    {
     "data": {
      "text/plain": [
       "DBSCAN(algorithm='auto', eps=0.5, leaf_size=30, metric='euclidean',\n",
       "       metric_params=None, min_samples=70, n_jobs=None, p=None)"
      ]
     },
     "execution_count": 136,
     "metadata": {},
     "output_type": "execute_result"
    }
   ],
   "source": [
    "# Fiting the model to our addressees \n",
    "dbscan_tweet.fit(tweetword_freq2)"
   ]
  },
  {
   "cell_type": "code",
   "execution_count": 137,
   "metadata": {},
   "outputs": [
    {
     "data": {
      "text/plain": [
       "{-1, 0, 1, 2, 3, 4, 5, 6, 7, 8, 9, 10, 11, 12, 13, 14, 15, 16, 17, 18, 19}"
      ]
     },
     "execution_count": 137,
     "metadata": {},
     "output_type": "execute_result"
    }
   ],
   "source": [
    "# Looking at the numbers of clusters. \n",
    "set(dbscan_tweet.labels_)"
   ]
  },
  {
   "cell_type": "code",
   "execution_count": 138,
   "metadata": {},
   "outputs": [],
   "source": [
    "# Adding a colum with the clusters \n",
    "twitter_firesv['tweets_dbscan_cluster'] = dbscan_tweet.labels_"
   ]
  },
  {
   "cell_type": "code",
   "execution_count": 139,
   "metadata": {},
   "outputs": [
    {
     "data": {
      "text/html": [
       "<div>\n",
       "<style scoped>\n",
       "    .dataframe tbody tr th:only-of-type {\n",
       "        vertical-align: middle;\n",
       "    }\n",
       "\n",
       "    .dataframe tbody tr th {\n",
       "        vertical-align: top;\n",
       "    }\n",
       "\n",
       "    .dataframe thead th {\n",
       "        text-align: right;\n",
       "    }\n",
       "</style>\n",
       "<table border=\"1\" class=\"dataframe\">\n",
       "  <thead>\n",
       "    <tr style=\"text-align: right;\">\n",
       "      <th></th>\n",
       "      <th>date</th>\n",
       "      <th>text</th>\n",
       "      <th>username</th>\n",
       "      <th>id</th>\n",
       "      <th>tweet_to</th>\n",
       "      <th>times_retweeted</th>\n",
       "      <th>times_favorited</th>\n",
       "      <th>mentions</th>\n",
       "      <th>hashtags</th>\n",
       "      <th>addressee</th>\n",
       "      <th>hashtag_km_cluster</th>\n",
       "      <th>hashtag_dbscan_cluster</th>\n",
       "      <th>addressee_km_cluster</th>\n",
       "      <th>addresse_dbscan_cluster</th>\n",
       "      <th>tweet_km_cluster_ngram1_1</th>\n",
       "      <th>tweet_km_cluster_ngram2_2</th>\n",
       "      <th>tweets_dbscan_cluster</th>\n",
       "    </tr>\n",
       "  </thead>\n",
       "  <tbody>\n",
       "    <tr>\n",
       "      <th>0</th>\n",
       "      <td>2019-11-29 23:10:01+00:00</td>\n",
       "      <td>California Wildfires Inspire Entrepreneur to C...</td>\n",
       "      <td>ReginaBanali</td>\n",
       "      <td>1200552524291411970</td>\n",
       "      <td>0</td>\n",
       "      <td>0</td>\n",
       "      <td>0</td>\n",
       "      <td>0</td>\n",
       "      <td>0</td>\n",
       "      <td>0 0</td>\n",
       "      <td>0</td>\n",
       "      <td>0</td>\n",
       "      <td>1</td>\n",
       "      <td>0</td>\n",
       "      <td>0</td>\n",
       "      <td>4</td>\n",
       "      <td>-1</td>\n",
       "    </tr>\n",
       "    <tr>\n",
       "      <th>1</th>\n",
       "      <td>2019-11-29 22:49:52+00:00</td>\n",
       "      <td>NEW! ‘Rage for Justice Report - Episode 2 How ...</td>\n",
       "      <td>ConsumerWD</td>\n",
       "      <td>1200547453948162048</td>\n",
       "      <td>0</td>\n",
       "      <td>0</td>\n",
       "      <td>0</td>\n",
       "      <td>@PGE4Me @californiapuc</td>\n",
       "      <td>#californiawildfires #pge #FridayThoughts #Fri...</td>\n",
       "      <td>0 @PGE4Me @californiapuc</td>\n",
       "      <td>0</td>\n",
       "      <td>-1</td>\n",
       "      <td>1</td>\n",
       "      <td>-1</td>\n",
       "      <td>0</td>\n",
       "      <td>4</td>\n",
       "      <td>-1</td>\n",
       "    </tr>\n",
       "    <tr>\n",
       "      <th>2</th>\n",
       "      <td>2019-11-29 22:46:00+00:00</td>\n",
       "      <td>With the #CaliforniaWildFires fresh in our min...</td>\n",
       "      <td>ChangeTheLAUSD</td>\n",
       "      <td>1200546481494577153</td>\n",
       "      <td>GOPChairwoman</td>\n",
       "      <td>0</td>\n",
       "      <td>2</td>\n",
       "      <td>@KatieHill4CA</td>\n",
       "      <td>#CaliforniaWildFires #GOPTaxScam</td>\n",
       "      <td>GOPChairwoman @KatieHill4CA</td>\n",
       "      <td>0</td>\n",
       "      <td>-1</td>\n",
       "      <td>1</td>\n",
       "      <td>-1</td>\n",
       "      <td>0</td>\n",
       "      <td>4</td>\n",
       "      <td>-1</td>\n",
       "    </tr>\n",
       "    <tr>\n",
       "      <th>3</th>\n",
       "      <td>2019-11-29 22:08:21+00:00</td>\n",
       "      <td>#climate “Each degree of warming causes way mo...</td>\n",
       "      <td>ECOWARRIORSS</td>\n",
       "      <td>1200537005396037632</td>\n",
       "      <td>0</td>\n",
       "      <td>17</td>\n",
       "      <td>15</td>\n",
       "      <td>@yayitsrob</td>\n",
       "      <td>#climate</td>\n",
       "      <td>0 @yayitsrob</td>\n",
       "      <td>0</td>\n",
       "      <td>1</td>\n",
       "      <td>1</td>\n",
       "      <td>-1</td>\n",
       "      <td>0</td>\n",
       "      <td>4</td>\n",
       "      <td>-1</td>\n",
       "    </tr>\n",
       "    <tr>\n",
       "      <th>4</th>\n",
       "      <td>2019-11-29 22:08:07+00:00</td>\n",
       "      <td>The California wildfires should come to SoHo</td>\n",
       "      <td>jamesdotcom</td>\n",
       "      <td>1200536945711108104</td>\n",
       "      <td>0</td>\n",
       "      <td>1</td>\n",
       "      <td>19</td>\n",
       "      <td>0</td>\n",
       "      <td>0</td>\n",
       "      <td>0 0</td>\n",
       "      <td>0</td>\n",
       "      <td>0</td>\n",
       "      <td>1</td>\n",
       "      <td>0</td>\n",
       "      <td>0</td>\n",
       "      <td>4</td>\n",
       "      <td>0</td>\n",
       "    </tr>\n",
       "  </tbody>\n",
       "</table>\n",
       "</div>"
      ],
      "text/plain": [
       "                        date  \\\n",
       "0  2019-11-29 23:10:01+00:00   \n",
       "1  2019-11-29 22:49:52+00:00   \n",
       "2  2019-11-29 22:46:00+00:00   \n",
       "3  2019-11-29 22:08:21+00:00   \n",
       "4  2019-11-29 22:08:07+00:00   \n",
       "\n",
       "                                                text        username  \\\n",
       "0  California Wildfires Inspire Entrepreneur to C...    ReginaBanali   \n",
       "1  NEW! ‘Rage for Justice Report - Episode 2 How ...      ConsumerWD   \n",
       "2  With the #CaliforniaWildFires fresh in our min...  ChangeTheLAUSD   \n",
       "3  #climate “Each degree of warming causes way mo...    ECOWARRIORSS   \n",
       "4       The California wildfires should come to SoHo     jamesdotcom   \n",
       "\n",
       "                    id       tweet_to times_retweeted times_favorited  \\\n",
       "0  1200552524291411970              0               0               0   \n",
       "1  1200547453948162048              0               0               0   \n",
       "2  1200546481494577153  GOPChairwoman               0               2   \n",
       "3  1200537005396037632              0              17              15   \n",
       "4  1200536945711108104              0               1              19   \n",
       "\n",
       "                 mentions                                           hashtags  \\\n",
       "0                       0                                                  0   \n",
       "1  @PGE4Me @californiapuc  #californiawildfires #pge #FridayThoughts #Fri...   \n",
       "2           @KatieHill4CA                   #CaliforniaWildFires #GOPTaxScam   \n",
       "3              @yayitsrob                                           #climate   \n",
       "4                       0                                                  0   \n",
       "\n",
       "                     addressee  hashtag_km_cluster  hashtag_dbscan_cluster  \\\n",
       "0                          0 0                   0                       0   \n",
       "1     0 @PGE4Me @californiapuc                   0                      -1   \n",
       "2  GOPChairwoman @KatieHill4CA                   0                      -1   \n",
       "3                 0 @yayitsrob                   0                       1   \n",
       "4                          0 0                   0                       0   \n",
       "\n",
       "   addressee_km_cluster  addresse_dbscan_cluster  tweet_km_cluster_ngram1_1  \\\n",
       "0                     1                        0                          0   \n",
       "1                     1                       -1                          0   \n",
       "2                     1                       -1                          0   \n",
       "3                     1                       -1                          0   \n",
       "4                     1                        0                          0   \n",
       "\n",
       "   tweet_km_cluster_ngram2_2  tweets_dbscan_cluster  \n",
       "0                          4                     -1  \n",
       "1                          4                     -1  \n",
       "2                          4                     -1  \n",
       "3                          4                     -1  \n",
       "4                          4                      0  "
      ]
     },
     "execution_count": 139,
     "metadata": {},
     "output_type": "execute_result"
    }
   ],
   "source": [
    "twitter_firesv.head()"
   ]
  },
  {
   "cell_type": "markdown",
   "metadata": {},
   "source": [
    "## Bringing in Bot Rating Data\n",
    "\n",
    "### We decided to do some analysis of bot likelihood compared to the clusters. This way, if particular clusters were associated with high bot activity, agencies would know that certain information could be spread fast and work to counter it. "
   ]
  },
  {
   "cell_type": "code",
   "execution_count": 141,
   "metadata": {},
   "outputs": [],
   "source": [
    "# Saving the clusters into a csv file\n",
    "twitter_firesv.to_csv('./data/twitter_clusters.csv', index=False)"
   ]
  },
  {
   "cell_type": "code",
   "execution_count": 142,
   "metadata": {},
   "outputs": [],
   "source": [
    "# Reading in data with botrating \n",
    "twitter_botrating = pd.read_csv('./data/twitter_preprocessed_all.csv')"
   ]
  },
  {
   "cell_type": "code",
   "execution_count": 143,
   "metadata": {},
   "outputs": [
    {
     "data": {
      "text/html": [
       "<div>\n",
       "<style scoped>\n",
       "    .dataframe tbody tr th:only-of-type {\n",
       "        vertical-align: middle;\n",
       "    }\n",
       "\n",
       "    .dataframe tbody tr th {\n",
       "        vertical-align: top;\n",
       "    }\n",
       "\n",
       "    .dataframe thead th {\n",
       "        text-align: right;\n",
       "    }\n",
       "</style>\n",
       "<table border=\"1\" class=\"dataframe\">\n",
       "  <thead>\n",
       "    <tr style=\"text-align: right;\">\n",
       "      <th></th>\n",
       "      <th>date</th>\n",
       "      <th>times_retweeted</th>\n",
       "      <th>times_favorited</th>\n",
       "      <th>bot_rating</th>\n",
       "      <th>words</th>\n",
       "    </tr>\n",
       "  </thead>\n",
       "  <tbody>\n",
       "    <tr>\n",
       "      <th>0</th>\n",
       "      <td>2019-10-28 16:04:00+00:00</td>\n",
       "      <td>0</td>\n",
       "      <td>1</td>\n",
       "      <td>0.005364</td>\n",
       "      <td>AMPMUZIC #CaliforniaFires #californiawildfires...</td>\n",
       "    </tr>\n",
       "    <tr>\n",
       "      <th>1</th>\n",
       "      <td>2019-11-12 03:06:00+00:00</td>\n",
       "      <td>2</td>\n",
       "      <td>1</td>\n",
       "      <td>0.014544</td>\n",
       "      <td>dwatchnews nam   Rebirth, angst and the 'new n...</td>\n",
       "    </tr>\n",
       "    <tr>\n",
       "      <th>2</th>\n",
       "      <td>2019-11-03 20:10:28+00:00</td>\n",
       "      <td>0</td>\n",
       "      <td>0</td>\n",
       "      <td>0.036578</td>\n",
       "      <td>WaterSolarWind   Trump melts down on Pelosi du...</td>\n",
       "    </tr>\n",
       "    <tr>\n",
       "      <th>3</th>\n",
       "      <td>2019-10-26 08:48:42+00:00</td>\n",
       "      <td>2</td>\n",
       "      <td>2</td>\n",
       "      <td>0.097414</td>\n",
       "      <td>BombayHeadlines #CaliforniaWildfire #californi...</td>\n",
       "    </tr>\n",
       "    <tr>\n",
       "      <th>4</th>\n",
       "      <td>2019-11-02 21:57:37+00:00</td>\n",
       "      <td>1</td>\n",
       "      <td>1</td>\n",
       "      <td>0.008751</td>\n",
       "      <td>studentveronica   California Wildfires Signal ...</td>\n",
       "    </tr>\n",
       "  </tbody>\n",
       "</table>\n",
       "</div>"
      ],
      "text/plain": [
       "                        date  times_retweeted  times_favorited  bot_rating  \\\n",
       "0  2019-10-28 16:04:00+00:00                0                1    0.005364   \n",
       "1  2019-11-12 03:06:00+00:00                2                1    0.014544   \n",
       "2  2019-11-03 20:10:28+00:00                0                0    0.036578   \n",
       "3  2019-10-26 08:48:42+00:00                2                2    0.097414   \n",
       "4  2019-11-02 21:57:37+00:00                1                1    0.008751   \n",
       "\n",
       "                                               words  \n",
       "0  AMPMUZIC #CaliforniaFires #californiawildfires...  \n",
       "1  dwatchnews nam   Rebirth, angst and the 'new n...  \n",
       "2  WaterSolarWind   Trump melts down on Pelosi du...  \n",
       "3  BombayHeadlines #CaliforniaWildfire #californi...  \n",
       "4  studentveronica   California Wildfires Signal ...  "
      ]
     },
     "execution_count": 143,
     "metadata": {},
     "output_type": "execute_result"
    }
   ],
   "source": [
    "# Looking at the data \n",
    "twitter_botrating.head()"
   ]
  },
  {
   "cell_type": "code",
   "execution_count": 144,
   "metadata": {},
   "outputs": [],
   "source": [
    "# Separating the username\n",
    "twitter_botrating['username'] = twitter_botrating['words'].str.split().str[0].str.strip()"
   ]
  },
  {
   "cell_type": "code",
   "execution_count": 145,
   "metadata": {},
   "outputs": [
    {
     "data": {
      "text/html": [
       "<div>\n",
       "<style scoped>\n",
       "    .dataframe tbody tr th:only-of-type {\n",
       "        vertical-align: middle;\n",
       "    }\n",
       "\n",
       "    .dataframe tbody tr th {\n",
       "        vertical-align: top;\n",
       "    }\n",
       "\n",
       "    .dataframe thead th {\n",
       "        text-align: right;\n",
       "    }\n",
       "</style>\n",
       "<table border=\"1\" class=\"dataframe\">\n",
       "  <thead>\n",
       "    <tr style=\"text-align: right;\">\n",
       "      <th></th>\n",
       "      <th>date</th>\n",
       "      <th>times_retweeted</th>\n",
       "      <th>times_favorited</th>\n",
       "      <th>bot_rating</th>\n",
       "      <th>words</th>\n",
       "      <th>username</th>\n",
       "    </tr>\n",
       "  </thead>\n",
       "  <tbody>\n",
       "    <tr>\n",
       "      <th>0</th>\n",
       "      <td>2019-10-28 16:04:00+00:00</td>\n",
       "      <td>0</td>\n",
       "      <td>1</td>\n",
       "      <td>0.005364</td>\n",
       "      <td>AMPMUZIC #CaliforniaFires #californiawildfires...</td>\n",
       "      <td>AMPMUZIC</td>\n",
       "    </tr>\n",
       "    <tr>\n",
       "      <th>1</th>\n",
       "      <td>2019-11-12 03:06:00+00:00</td>\n",
       "      <td>2</td>\n",
       "      <td>1</td>\n",
       "      <td>0.014544</td>\n",
       "      <td>dwatchnews nam   Rebirth, angst and the 'new n...</td>\n",
       "      <td>dwatchnews</td>\n",
       "    </tr>\n",
       "    <tr>\n",
       "      <th>2</th>\n",
       "      <td>2019-11-03 20:10:28+00:00</td>\n",
       "      <td>0</td>\n",
       "      <td>0</td>\n",
       "      <td>0.036578</td>\n",
       "      <td>WaterSolarWind   Trump melts down on Pelosi du...</td>\n",
       "      <td>WaterSolarWind</td>\n",
       "    </tr>\n",
       "    <tr>\n",
       "      <th>3</th>\n",
       "      <td>2019-10-26 08:48:42+00:00</td>\n",
       "      <td>2</td>\n",
       "      <td>2</td>\n",
       "      <td>0.097414</td>\n",
       "      <td>BombayHeadlines #CaliforniaWildfire #californi...</td>\n",
       "      <td>BombayHeadlines</td>\n",
       "    </tr>\n",
       "    <tr>\n",
       "      <th>4</th>\n",
       "      <td>2019-11-02 21:57:37+00:00</td>\n",
       "      <td>1</td>\n",
       "      <td>1</td>\n",
       "      <td>0.008751</td>\n",
       "      <td>studentveronica   California Wildfires Signal ...</td>\n",
       "      <td>studentveronica</td>\n",
       "    </tr>\n",
       "  </tbody>\n",
       "</table>\n",
       "</div>"
      ],
      "text/plain": [
       "                        date  times_retweeted  times_favorited  bot_rating  \\\n",
       "0  2019-10-28 16:04:00+00:00                0                1    0.005364   \n",
       "1  2019-11-12 03:06:00+00:00                2                1    0.014544   \n",
       "2  2019-11-03 20:10:28+00:00                0                0    0.036578   \n",
       "3  2019-10-26 08:48:42+00:00                2                2    0.097414   \n",
       "4  2019-11-02 21:57:37+00:00                1                1    0.008751   \n",
       "\n",
       "                                               words         username  \n",
       "0  AMPMUZIC #CaliforniaFires #californiawildfires...         AMPMUZIC  \n",
       "1  dwatchnews nam   Rebirth, angst and the 'new n...       dwatchnews  \n",
       "2  WaterSolarWind   Trump melts down on Pelosi du...   WaterSolarWind  \n",
       "3  BombayHeadlines #CaliforniaWildfire #californi...  BombayHeadlines  \n",
       "4  studentveronica   California Wildfires Signal ...  studentveronica  "
      ]
     },
     "execution_count": 145,
     "metadata": {},
     "output_type": "execute_result"
    }
   ],
   "source": [
    "# Looking again \n",
    "twitter_botrating.head()"
   ]
  },
  {
   "cell_type": "code",
   "execution_count": 146,
   "metadata": {},
   "outputs": [],
   "source": [
    "# Merging botrating and cluster data frames \n",
    "twitter_firesall = pd.merge(twitter_firesv, twitter_botrating, on ='username')"
   ]
  },
  {
   "cell_type": "code",
   "execution_count": 147,
   "metadata": {},
   "outputs": [
    {
     "data": {
      "text/html": [
       "<div>\n",
       "<style scoped>\n",
       "    .dataframe tbody tr th:only-of-type {\n",
       "        vertical-align: middle;\n",
       "    }\n",
       "\n",
       "    .dataframe tbody tr th {\n",
       "        vertical-align: top;\n",
       "    }\n",
       "\n",
       "    .dataframe thead th {\n",
       "        text-align: right;\n",
       "    }\n",
       "</style>\n",
       "<table border=\"1\" class=\"dataframe\">\n",
       "  <thead>\n",
       "    <tr style=\"text-align: right;\">\n",
       "      <th></th>\n",
       "      <th>date_x</th>\n",
       "      <th>text</th>\n",
       "      <th>username</th>\n",
       "      <th>id</th>\n",
       "      <th>tweet_to</th>\n",
       "      <th>times_retweeted_x</th>\n",
       "      <th>times_favorited_x</th>\n",
       "      <th>mentions</th>\n",
       "      <th>hashtags</th>\n",
       "      <th>addressee</th>\n",
       "      <th>...</th>\n",
       "      <th>addressee_km_cluster</th>\n",
       "      <th>addresse_dbscan_cluster</th>\n",
       "      <th>tweet_km_cluster_ngram1_1</th>\n",
       "      <th>tweet_km_cluster_ngram2_2</th>\n",
       "      <th>tweets_dbscan_cluster</th>\n",
       "      <th>date_y</th>\n",
       "      <th>times_retweeted_y</th>\n",
       "      <th>times_favorited_y</th>\n",
       "      <th>bot_rating</th>\n",
       "      <th>words</th>\n",
       "    </tr>\n",
       "  </thead>\n",
       "  <tbody>\n",
       "    <tr>\n",
       "      <th>0</th>\n",
       "      <td>2019-11-29 23:10:01+00:00</td>\n",
       "      <td>California Wildfires Inspire Entrepreneur to C...</td>\n",
       "      <td>ReginaBanali</td>\n",
       "      <td>1200552524291411970</td>\n",
       "      <td>0</td>\n",
       "      <td>0</td>\n",
       "      <td>0</td>\n",
       "      <td>0</td>\n",
       "      <td>0</td>\n",
       "      <td>0 0</td>\n",
       "      <td>...</td>\n",
       "      <td>1</td>\n",
       "      <td>0</td>\n",
       "      <td>0</td>\n",
       "      <td>4</td>\n",
       "      <td>-1</td>\n",
       "      <td>2019-11-29 23:10:01+00:00</td>\n",
       "      <td>0</td>\n",
       "      <td>0</td>\n",
       "      <td>0.041425</td>\n",
       "      <td>ReginaBanali   California Wildfires Inspire En...</td>\n",
       "    </tr>\n",
       "    <tr>\n",
       "      <th>1</th>\n",
       "      <td>2019-11-29 22:49:52+00:00</td>\n",
       "      <td>NEW! ‘Rage for Justice Report - Episode 2 How ...</td>\n",
       "      <td>ConsumerWD</td>\n",
       "      <td>1200547453948162048</td>\n",
       "      <td>0</td>\n",
       "      <td>0</td>\n",
       "      <td>0</td>\n",
       "      <td>@PGE4Me @californiapuc</td>\n",
       "      <td>#californiawildfires #pge #FridayThoughts #Fri...</td>\n",
       "      <td>0 @PGE4Me @californiapuc</td>\n",
       "      <td>...</td>\n",
       "      <td>1</td>\n",
       "      <td>-1</td>\n",
       "      <td>0</td>\n",
       "      <td>4</td>\n",
       "      <td>-1</td>\n",
       "      <td>2019-11-29 22:49:52+00:00</td>\n",
       "      <td>0</td>\n",
       "      <td>0</td>\n",
       "      <td>0.036578</td>\n",
       "      <td>ConsumerWD #californiawildfires #pge #FridayTh...</td>\n",
       "    </tr>\n",
       "    <tr>\n",
       "      <th>2</th>\n",
       "      <td>2019-11-29 22:49:52+00:00</td>\n",
       "      <td>NEW! ‘Rage for Justice Report - Episode 2 How ...</td>\n",
       "      <td>ConsumerWD</td>\n",
       "      <td>1200547453948162048</td>\n",
       "      <td>0</td>\n",
       "      <td>0</td>\n",
       "      <td>0</td>\n",
       "      <td>@PGE4Me @californiapuc</td>\n",
       "      <td>#californiawildfires #pge #FridayThoughts #Fri...</td>\n",
       "      <td>0 @PGE4Me @californiapuc</td>\n",
       "      <td>...</td>\n",
       "      <td>1</td>\n",
       "      <td>-1</td>\n",
       "      <td>0</td>\n",
       "      <td>4</td>\n",
       "      <td>-1</td>\n",
       "      <td>2019-10-31 16:53:34+00:00</td>\n",
       "      <td>2</td>\n",
       "      <td>1</td>\n",
       "      <td>0.003457</td>\n",
       "      <td>ConsumerWD #HillsideFire #46Fire #kinkaidfire ...</td>\n",
       "    </tr>\n",
       "    <tr>\n",
       "      <th>3</th>\n",
       "      <td>2019-11-29 22:49:52+00:00</td>\n",
       "      <td>NEW! ‘Rage for Justice Report - Episode 2 How ...</td>\n",
       "      <td>ConsumerWD</td>\n",
       "      <td>1200547453948162048</td>\n",
       "      <td>0</td>\n",
       "      <td>0</td>\n",
       "      <td>0</td>\n",
       "      <td>@PGE4Me @californiapuc</td>\n",
       "      <td>#californiawildfires #pge #FridayThoughts #Fri...</td>\n",
       "      <td>0 @PGE4Me @californiapuc</td>\n",
       "      <td>...</td>\n",
       "      <td>1</td>\n",
       "      <td>-1</td>\n",
       "      <td>0</td>\n",
       "      <td>4</td>\n",
       "      <td>-1</td>\n",
       "      <td>2019-11-13 01:24:09+00:00</td>\n",
       "      <td>1</td>\n",
       "      <td>2</td>\n",
       "      <td>0.003457</td>\n",
       "      <td>ConsumerWD #californiawildfires #tuesdayvibes ...</td>\n",
       "    </tr>\n",
       "    <tr>\n",
       "      <th>4</th>\n",
       "      <td>2019-11-13 01:24:09+00:00</td>\n",
       "      <td>What do we need to do as an alternative to @PG...</td>\n",
       "      <td>ConsumerWD</td>\n",
       "      <td>1194425683709059073</td>\n",
       "      <td>0</td>\n",
       "      <td>1</td>\n",
       "      <td>2</td>\n",
       "      <td>@PGE4Me @RaisingHellNow</td>\n",
       "      <td>#californiawildfires #tuesdayvibes</td>\n",
       "      <td>0 @PGE4Me @RaisingHellNow</td>\n",
       "      <td>...</td>\n",
       "      <td>1</td>\n",
       "      <td>-1</td>\n",
       "      <td>0</td>\n",
       "      <td>4</td>\n",
       "      <td>-1</td>\n",
       "      <td>2019-11-29 22:49:52+00:00</td>\n",
       "      <td>0</td>\n",
       "      <td>0</td>\n",
       "      <td>0.036578</td>\n",
       "      <td>ConsumerWD #californiawildfires #pge #FridayTh...</td>\n",
       "    </tr>\n",
       "  </tbody>\n",
       "</table>\n",
       "<p>5 rows × 22 columns</p>\n",
       "</div>"
      ],
      "text/plain": [
       "                      date_x  \\\n",
       "0  2019-11-29 23:10:01+00:00   \n",
       "1  2019-11-29 22:49:52+00:00   \n",
       "2  2019-11-29 22:49:52+00:00   \n",
       "3  2019-11-29 22:49:52+00:00   \n",
       "4  2019-11-13 01:24:09+00:00   \n",
       "\n",
       "                                                text      username  \\\n",
       "0  California Wildfires Inspire Entrepreneur to C...  ReginaBanali   \n",
       "1  NEW! ‘Rage for Justice Report - Episode 2 How ...    ConsumerWD   \n",
       "2  NEW! ‘Rage for Justice Report - Episode 2 How ...    ConsumerWD   \n",
       "3  NEW! ‘Rage for Justice Report - Episode 2 How ...    ConsumerWD   \n",
       "4  What do we need to do as an alternative to @PG...    ConsumerWD   \n",
       "\n",
       "                    id tweet_to times_retweeted_x times_favorited_x  \\\n",
       "0  1200552524291411970        0                 0                 0   \n",
       "1  1200547453948162048        0                 0                 0   \n",
       "2  1200547453948162048        0                 0                 0   \n",
       "3  1200547453948162048        0                 0                 0   \n",
       "4  1194425683709059073        0                 1                 2   \n",
       "\n",
       "                  mentions                                           hashtags  \\\n",
       "0                        0                                                  0   \n",
       "1   @PGE4Me @californiapuc  #californiawildfires #pge #FridayThoughts #Fri...   \n",
       "2   @PGE4Me @californiapuc  #californiawildfires #pge #FridayThoughts #Fri...   \n",
       "3   @PGE4Me @californiapuc  #californiawildfires #pge #FridayThoughts #Fri...   \n",
       "4  @PGE4Me @RaisingHellNow                 #californiawildfires #tuesdayvibes   \n",
       "\n",
       "                   addressee  ...  addressee_km_cluster  \\\n",
       "0                        0 0  ...                     1   \n",
       "1   0 @PGE4Me @californiapuc  ...                     1   \n",
       "2   0 @PGE4Me @californiapuc  ...                     1   \n",
       "3   0 @PGE4Me @californiapuc  ...                     1   \n",
       "4  0 @PGE4Me @RaisingHellNow  ...                     1   \n",
       "\n",
       "   addresse_dbscan_cluster  tweet_km_cluster_ngram1_1  \\\n",
       "0                        0                          0   \n",
       "1                       -1                          0   \n",
       "2                       -1                          0   \n",
       "3                       -1                          0   \n",
       "4                       -1                          0   \n",
       "\n",
       "   tweet_km_cluster_ngram2_2  tweets_dbscan_cluster  \\\n",
       "0                          4                     -1   \n",
       "1                          4                     -1   \n",
       "2                          4                     -1   \n",
       "3                          4                     -1   \n",
       "4                          4                     -1   \n",
       "\n",
       "                      date_y  times_retweeted_y times_favorited_y  bot_rating  \\\n",
       "0  2019-11-29 23:10:01+00:00                  0                 0    0.041425   \n",
       "1  2019-11-29 22:49:52+00:00                  0                 0    0.036578   \n",
       "2  2019-10-31 16:53:34+00:00                  2                 1    0.003457   \n",
       "3  2019-11-13 01:24:09+00:00                  1                 2    0.003457   \n",
       "4  2019-11-29 22:49:52+00:00                  0                 0    0.036578   \n",
       "\n",
       "                                               words  \n",
       "0  ReginaBanali   California Wildfires Inspire En...  \n",
       "1  ConsumerWD #californiawildfires #pge #FridayTh...  \n",
       "2  ConsumerWD #HillsideFire #46Fire #kinkaidfire ...  \n",
       "3  ConsumerWD #californiawildfires #tuesdayvibes ...  \n",
       "4  ConsumerWD #californiawildfires #pge #FridayTh...  \n",
       "\n",
       "[5 rows x 22 columns]"
      ]
     },
     "execution_count": 147,
     "metadata": {},
     "output_type": "execute_result"
    }
   ],
   "source": [
    "twitter_firesall.head()"
   ]
  },
  {
   "cell_type": "code",
   "execution_count": 148,
   "metadata": {},
   "outputs": [],
   "source": [
    "# Dropping repeated columns \n",
    "twitter_firesall1 = twitter_firesall.drop(columns=['date_y', 'times_retweeted_y','times_favorited_y', 'words'])"
   ]
  },
  {
   "cell_type": "code",
   "execution_count": 149,
   "metadata": {},
   "outputs": [],
   "source": [
    "# Taking a final look at the data \n",
    "twitter_firesall = twitter_firesall.to_csv('./data/final_final_final_final_dataframe.csv')"
   ]
  },
  {
   "cell_type": "code",
   "execution_count": 150,
   "metadata": {},
   "outputs": [
    {
     "data": {
      "text/plain": [
       "pandas.core.frame.DataFrame"
      ]
     },
     "execution_count": 150,
     "metadata": {},
     "output_type": "execute_result"
    }
   ],
   "source": [
    "# Checking data types \n",
    "type(twitter_firesall1)"
   ]
  },
  {
   "cell_type": "code",
   "execution_count": 151,
   "metadata": {},
   "outputs": [
    {
     "data": {
      "text/html": [
       "<div>\n",
       "<style scoped>\n",
       "    .dataframe tbody tr th:only-of-type {\n",
       "        vertical-align: middle;\n",
       "    }\n",
       "\n",
       "    .dataframe tbody tr th {\n",
       "        vertical-align: top;\n",
       "    }\n",
       "\n",
       "    .dataframe thead th {\n",
       "        text-align: right;\n",
       "    }\n",
       "</style>\n",
       "<table border=\"1\" class=\"dataframe\">\n",
       "  <thead>\n",
       "    <tr style=\"text-align: right;\">\n",
       "      <th></th>\n",
       "      <th>date_x</th>\n",
       "      <th>text</th>\n",
       "      <th>username</th>\n",
       "      <th>id</th>\n",
       "      <th>tweet_to</th>\n",
       "      <th>times_retweeted_x</th>\n",
       "      <th>times_favorited_x</th>\n",
       "      <th>mentions</th>\n",
       "      <th>hashtags</th>\n",
       "      <th>addressee</th>\n",
       "      <th>hashtag_km_cluster</th>\n",
       "      <th>hashtag_dbscan_cluster</th>\n",
       "      <th>addressee_km_cluster</th>\n",
       "      <th>addresse_dbscan_cluster</th>\n",
       "      <th>tweet_km_cluster_ngram1_1</th>\n",
       "      <th>tweet_km_cluster_ngram2_2</th>\n",
       "      <th>tweets_dbscan_cluster</th>\n",
       "      <th>bot_rating</th>\n",
       "    </tr>\n",
       "  </thead>\n",
       "  <tbody>\n",
       "    <tr>\n",
       "      <th>0</th>\n",
       "      <td>2019-11-29 23:10:01+00:00</td>\n",
       "      <td>California Wildfires Inspire Entrepreneur to C...</td>\n",
       "      <td>ReginaBanali</td>\n",
       "      <td>1200552524291411970</td>\n",
       "      <td>0</td>\n",
       "      <td>0</td>\n",
       "      <td>0</td>\n",
       "      <td>0</td>\n",
       "      <td>0</td>\n",
       "      <td>0 0</td>\n",
       "      <td>0</td>\n",
       "      <td>0</td>\n",
       "      <td>1</td>\n",
       "      <td>0</td>\n",
       "      <td>0</td>\n",
       "      <td>4</td>\n",
       "      <td>-1</td>\n",
       "      <td>0.041425</td>\n",
       "    </tr>\n",
       "  </tbody>\n",
       "</table>\n",
       "</div>"
      ],
      "text/plain": [
       "                      date_x  \\\n",
       "0  2019-11-29 23:10:01+00:00   \n",
       "\n",
       "                                                text      username  \\\n",
       "0  California Wildfires Inspire Entrepreneur to C...  ReginaBanali   \n",
       "\n",
       "                    id tweet_to times_retweeted_x times_favorited_x mentions  \\\n",
       "0  1200552524291411970        0                 0                 0        0   \n",
       "\n",
       "  hashtags addressee  hashtag_km_cluster  hashtag_dbscan_cluster  \\\n",
       "0        0       0 0                   0                       0   \n",
       "\n",
       "   addressee_km_cluster  addresse_dbscan_cluster  tweet_km_cluster_ngram1_1  \\\n",
       "0                     1                        0                          0   \n",
       "\n",
       "   tweet_km_cluster_ngram2_2  tweets_dbscan_cluster  bot_rating  \n",
       "0                          4                     -1    0.041425  "
      ]
     },
     "execution_count": 151,
     "metadata": {},
     "output_type": "execute_result"
    }
   ],
   "source": [
    "twitter_firesall1.head(1)"
   ]
  },
  {
   "cell_type": "code",
   "execution_count": 152,
   "metadata": {},
   "outputs": [],
   "source": [
    "# Looking at the average bot rating for hashtag clusters using kmeans clustering\n",
    "hashtag_botrkm = twitter_firesall1.groupby('hashtag_km_cluster')['bot_rating'].mean()"
   ]
  },
  {
   "cell_type": "code",
   "execution_count": 153,
   "metadata": {},
   "outputs": [
    {
     "data": {
      "text/plain": [
       "<matplotlib.axes._subplots.AxesSubplot at 0x1b2fb81750>"
      ]
     },
     "execution_count": 153,
     "metadata": {},
     "output_type": "execute_result"
    },
    {
     "data": {
      "image/png": "[encoded data removed]",
      "text/plain": [
       "<Figure size 432x288 with 1 Axes>"
      ]
     },
     "metadata": {
      "needs_background": "light"
     },
     "output_type": "display_data"
    }
   ],
   "source": [
    "hashtag_botrkm.plot.bar()"
   ]
  },
  {
   "cell_type": "code",
   "execution_count": 154,
   "metadata": {},
   "outputs": [],
   "source": [
    "# Looking at the average bot rating for hashtag clusters using dbscan clustering\n",
    "hashtag_botdb = twitter_firesall1.groupby('hashtag_dbscan_cluster')['bot_rating'].mean()"
   ]
  },
  {
   "cell_type": "code",
   "execution_count": 155,
   "metadata": {},
   "outputs": [
    {
     "data": {
      "text/plain": [
       "<matplotlib.axes._subplots.AxesSubplot at 0x1b2fb64ad0>"
      ]
     },
     "execution_count": 155,
     "metadata": {},
     "output_type": "execute_result"
    },
    {
     "data": {
      "image/png": "[encoded data removed]",
      "text/plain": [
       "<Figure size 432x288 with 1 Axes>"
      ]
     },
     "metadata": {
      "needs_background": "light"
     },
     "output_type": "display_data"
    }
   ],
   "source": [
    "hashtag_botdb.plot.bar()"
   ]
  },
  {
   "cell_type": "code",
   "execution_count": 156,
   "metadata": {},
   "outputs": [],
   "source": [
    "# Looking at the average bot rating for addressee clusters using kmeans clustering\n",
    "addresee_botkm = twitter_firesall1.groupby('addressee_km_cluster')['bot_rating'].mean()"
   ]
  },
  {
   "cell_type": "code",
   "execution_count": 157,
   "metadata": {},
   "outputs": [
    {
     "data": {
      "text/plain": [
       "<matplotlib.axes._subplots.AxesSubplot at 0x1b2fb38990>"
      ]
     },
     "execution_count": 157,
     "metadata": {},
     "output_type": "execute_result"
    },
    {
     "data": {
      "image/png": "[encoded data removed]",
      "text/plain": [
       "<Figure size 432x288 with 1 Axes>"
      ]
     },
     "metadata": {
      "needs_background": "light"
     },
     "output_type": "display_data"
    }
   ],
   "source": [
    "addresee_botkm.plot.bar()"
   ]
  },
  {
   "cell_type": "code",
   "execution_count": 158,
   "metadata": {},
   "outputs": [],
   "source": [
    "# Looking at the average bot rating for addressee clusters using dbscan clustering\n",
    "addresee_botdbscan = twitter_firesall1.groupby('addresse_dbscan_cluster')['bot_rating'].mean()"
   ]
  },
  {
   "cell_type": "code",
   "execution_count": 159,
   "metadata": {},
   "outputs": [
    {
     "data": {
      "text/plain": [
       "<matplotlib.axes._subplots.AxesSubplot at 0x1b2fb15990>"
      ]
     },
     "execution_count": 159,
     "metadata": {},
     "output_type": "execute_result"
    },
    {
     "data": {
      "image/png": "[encoded data removed]",
      "text/plain": [
       "<Figure size 432x288 with 1 Axes>"
      ]
     },
     "metadata": {
      "needs_background": "light"
     },
     "output_type": "display_data"
    }
   ],
   "source": [
    "addresee_botdbscan.plot.bar()"
   ]
  },
  {
   "cell_type": "code",
   "execution_count": 160,
   "metadata": {},
   "outputs": [],
   "source": [
    "# Looking at the average bot rating for tweet text clusters using kmeans clustering on ngram:1,1\n",
    "tweetkm11_bot = twitter_firesall1.groupby('tweet_km_cluster_ngram1_1')['bot_rating'].mean()"
   ]
  },
  {
   "cell_type": "code",
   "execution_count": 161,
   "metadata": {},
   "outputs": [
    {
     "data": {
      "text/plain": [
       "<matplotlib.axes._subplots.AxesSubplot at 0x1b2faf4d10>"
      ]
     },
     "execution_count": 161,
     "metadata": {},
     "output_type": "execute_result"
    },
    {
     "data": {
      "image/png": "[encoded data removed]",
      "text/plain": [
       "<Figure size 432x288 with 1 Axes>"
      ]
     },
     "metadata": {
      "needs_background": "light"
     },
     "output_type": "display_data"
    }
   ],
   "source": [
    "tweetkm11_bot.plot.bar()"
   ]
  },
  {
   "cell_type": "code",
   "execution_count": 162,
   "metadata": {},
   "outputs": [],
   "source": [
    "# Looking at the average bot rating for tweet text clusters using kmeans clustering on ngram:2,2\n",
    "twitterkm22_bot = twitter_firesall1.groupby('tweet_km_cluster_ngram2_2')['bot_rating'].mean()"
   ]
  },
  {
   "cell_type": "code",
   "execution_count": 163,
   "metadata": {},
   "outputs": [
    {
     "data": {
      "text/plain": [
       "<matplotlib.axes._subplots.AxesSubplot at 0x1b2fad6550>"
      ]
     },
     "execution_count": 163,
     "metadata": {},
     "output_type": "execute_result"
    },
    {
     "data": {
      "image/png": "[encoded data removed]",
      "text/plain": [
       "<Figure size 432x288 with 1 Axes>"
      ]
     },
     "metadata": {
      "needs_background": "light"
     },
     "output_type": "display_data"
    }
   ],
   "source": [
    "twitterkm22_bot.plot.bar()"
   ]
  },
  {
   "cell_type": "code",
   "execution_count": 164,
   "metadata": {},
   "outputs": [],
   "source": [
    "# Looking at the average bot rating for tweet text clusters using dbscan clustering on ngram:1,1\n",
    "twitterdb22_bot = twitter_firesall1.groupby('tweets_dbscan_cluster')['bot_rating'].mean()"
   ]
  },
  {
   "cell_type": "code",
   "execution_count": 165,
   "metadata": {},
   "outputs": [
    {
     "data": {
      "text/plain": [
       "<matplotlib.axes._subplots.AxesSubplot at 0x1b2fac3dd0>"
      ]
     },
     "execution_count": 165,
     "metadata": {},
     "output_type": "execute_result"
    },
    {
     "data": {
      "image/png": "[encoded data removed]",
      "text/plain": [
       "<Figure size 432x288 with 1 Axes>"
      ]
     },
     "metadata": {
      "needs_background": "light"
     },
     "output_type": "display_data"
    }
   ],
   "source": [
    "twitterdb22_bot.plot.bar()"
   ]
  },
  {
   "cell_type": "code",
   "execution_count": 166,
   "metadata": {},
   "outputs": [],
   "source": [
    "# Looking \n",
    "twitterclustered19 = twitter_firesall1[twitter_firesall1['tweets_dbscan_cluster'] == 19]"
   ]
  },
  {
   "cell_type": "code",
   "execution_count": 167,
   "metadata": {},
   "outputs": [],
   "source": [
    "twitc19text = twitterclustered19['text']"
   ]
  },
  {
   "cell_type": "code",
   "execution_count": 168,
   "metadata": {},
   "outputs": [],
   "source": [
    "# Instantiating the vectorizer with ngram(1,1) to start. Will subsequently try a couple of \n",
    "# ngrams. \n",
    "tfidfvec = TfidfVectorizer(\n",
    "    strip_accents='ascii', \n",
    "    stop_words = ['californiawildfires','californiawildfire','californiafires', \n",
    "    'californiafire','california','wildfires', 'wildfire','calfire', 'calfires','fire', \n",
    "    'fires', 'cafire', 'ca', 'cafires', 'it', 'its', 'itself', 'what', 'which', 'whom', 'this',\n",
    "    'that', 'these', 'those','a','an','the','and','but','or','as','of','at','by','for',\n",
    "    'with', 'into','to','up','down','in','on','off', 'such', 'so', 'than', 'too', 'very', 'http', \n",
    "    'https', 'www', 'com', 's', 'e','is','you','are','i','be','all','we','our','your','if','re'],\n",
    "    token_pattern = r'[a-zA-Z]+', \n",
    "    min_df = 3,\n",
    "    ngram_range=(2,2)\n",
    ")"
   ]
  },
  {
   "cell_type": "code",
   "execution_count": 169,
   "metadata": {},
   "outputs": [],
   "source": [
    "# Fitting the vectorizer\n",
    "fittedtweets = tfidfvec.fit_transform(twitc19text)"
   ]
  },
  {
   "cell_type": "code",
   "execution_count": 170,
   "metadata": {},
   "outputs": [],
   "source": [
    "# Setting the sparse matrix as a dataframe  \n",
    "fittedtweets_df = pd.DataFrame(fittedtweets.todense(), columns = tfidfvec.get_feature_names())"
   ]
  },
  {
   "cell_type": "code",
   "execution_count": 171,
   "metadata": {},
   "outputs": [
    {
     "data": {
      "text/plain": [
       "(115, 15)"
      ]
     },
     "execution_count": 171,
     "metadata": {},
     "output_type": "execute_result"
    }
   ],
   "source": [
    "fittedtweets_df.shape"
   ]
  },
  {
   "cell_type": "code",
   "execution_count": 172,
   "metadata": {
    "scrolled": true
   },
   "outputs": [
    {
     "data": {
      "text/html": [
       "<div>\n",
       "<style scoped>\n",
       "    .dataframe tbody tr th:only-of-type {\n",
       "        vertical-align: middle;\n",
       "    }\n",
       "\n",
       "    .dataframe tbody tr th {\n",
       "        vertical-align: top;\n",
       "    }\n",
       "\n",
       "    .dataframe thead th {\n",
       "        text-align: right;\n",
       "    }\n",
       "</style>\n",
       "<table border=\"1\" class=\"dataframe\">\n",
       "  <thead>\n",
       "    <tr style=\"text-align: right;\">\n",
       "      <th></th>\n",
       "      <th>acres burned</th>\n",
       "      <th>burned dlvr</th>\n",
       "      <th>dlvr rfzx</th>\n",
       "      <th>dlvr rfzydn</th>\n",
       "      <th>dlvr rfzyj</th>\n",
       "      <th>dlvr rfzyjb</th>\n",
       "      <th>dlvr rfzyjm</th>\n",
       "      <th>dlvr rfzyks</th>\n",
       "      <th>dlvr rfzykw</th>\n",
       "      <th>dlvr rfzyl</th>\n",
       "      <th>dlvr rfzylr</th>\n",
       "      <th>dlvr rg</th>\n",
       "      <th>evacuated k</th>\n",
       "      <th>k acres</th>\n",
       "      <th>thousands evacuated</th>\n",
       "    </tr>\n",
       "  </thead>\n",
       "  <tbody>\n",
       "    <tr>\n",
       "      <th>0</th>\n",
       "      <td>0.447214</td>\n",
       "      <td>0.447214</td>\n",
       "      <td>0.0</td>\n",
       "      <td>0.0</td>\n",
       "      <td>0.0</td>\n",
       "      <td>0.0</td>\n",
       "      <td>0.0</td>\n",
       "      <td>0.0</td>\n",
       "      <td>0.0</td>\n",
       "      <td>0.0</td>\n",
       "      <td>0.0</td>\n",
       "      <td>0.0</td>\n",
       "      <td>0.447214</td>\n",
       "      <td>0.447214</td>\n",
       "      <td>0.447214</td>\n",
       "    </tr>\n",
       "    <tr>\n",
       "      <th>1</th>\n",
       "      <td>0.447214</td>\n",
       "      <td>0.447214</td>\n",
       "      <td>0.0</td>\n",
       "      <td>0.0</td>\n",
       "      <td>0.0</td>\n",
       "      <td>0.0</td>\n",
       "      <td>0.0</td>\n",
       "      <td>0.0</td>\n",
       "      <td>0.0</td>\n",
       "      <td>0.0</td>\n",
       "      <td>0.0</td>\n",
       "      <td>0.0</td>\n",
       "      <td>0.447214</td>\n",
       "      <td>0.447214</td>\n",
       "      <td>0.447214</td>\n",
       "    </tr>\n",
       "    <tr>\n",
       "      <th>2</th>\n",
       "      <td>0.447214</td>\n",
       "      <td>0.447214</td>\n",
       "      <td>0.0</td>\n",
       "      <td>0.0</td>\n",
       "      <td>0.0</td>\n",
       "      <td>0.0</td>\n",
       "      <td>0.0</td>\n",
       "      <td>0.0</td>\n",
       "      <td>0.0</td>\n",
       "      <td>0.0</td>\n",
       "      <td>0.0</td>\n",
       "      <td>0.0</td>\n",
       "      <td>0.447214</td>\n",
       "      <td>0.447214</td>\n",
       "      <td>0.447214</td>\n",
       "    </tr>\n",
       "    <tr>\n",
       "      <th>3</th>\n",
       "      <td>0.447214</td>\n",
       "      <td>0.447214</td>\n",
       "      <td>0.0</td>\n",
       "      <td>0.0</td>\n",
       "      <td>0.0</td>\n",
       "      <td>0.0</td>\n",
       "      <td>0.0</td>\n",
       "      <td>0.0</td>\n",
       "      <td>0.0</td>\n",
       "      <td>0.0</td>\n",
       "      <td>0.0</td>\n",
       "      <td>0.0</td>\n",
       "      <td>0.447214</td>\n",
       "      <td>0.447214</td>\n",
       "      <td>0.447214</td>\n",
       "    </tr>\n",
       "    <tr>\n",
       "      <th>4</th>\n",
       "      <td>0.447214</td>\n",
       "      <td>0.447214</td>\n",
       "      <td>0.0</td>\n",
       "      <td>0.0</td>\n",
       "      <td>0.0</td>\n",
       "      <td>0.0</td>\n",
       "      <td>0.0</td>\n",
       "      <td>0.0</td>\n",
       "      <td>0.0</td>\n",
       "      <td>0.0</td>\n",
       "      <td>0.0</td>\n",
       "      <td>0.0</td>\n",
       "      <td>0.447214</td>\n",
       "      <td>0.447214</td>\n",
       "      <td>0.447214</td>\n",
       "    </tr>\n",
       "  </tbody>\n",
       "</table>\n",
       "</div>"
      ],
      "text/plain": [
       "   acres burned  burned dlvr  dlvr rfzx  dlvr rfzydn  dlvr rfzyj  dlvr rfzyjb  \\\n",
       "0      0.447214     0.447214        0.0          0.0         0.0          0.0   \n",
       "1      0.447214     0.447214        0.0          0.0         0.0          0.0   \n",
       "2      0.447214     0.447214        0.0          0.0         0.0          0.0   \n",
       "3      0.447214     0.447214        0.0          0.0         0.0          0.0   \n",
       "4      0.447214     0.447214        0.0          0.0         0.0          0.0   \n",
       "\n",
       "   dlvr rfzyjm  dlvr rfzyks  dlvr rfzykw  dlvr rfzyl  dlvr rfzylr  dlvr rg  \\\n",
       "0          0.0          0.0          0.0         0.0          0.0      0.0   \n",
       "1          0.0          0.0          0.0         0.0          0.0      0.0   \n",
       "2          0.0          0.0          0.0         0.0          0.0      0.0   \n",
       "3          0.0          0.0          0.0         0.0          0.0      0.0   \n",
       "4          0.0          0.0          0.0         0.0          0.0      0.0   \n",
       "\n",
       "   evacuated k   k acres  thousands evacuated  \n",
       "0     0.447214  0.447214             0.447214  \n",
       "1     0.447214  0.447214             0.447214  \n",
       "2     0.447214  0.447214             0.447214  \n",
       "3     0.447214  0.447214             0.447214  \n",
       "4     0.447214  0.447214             0.447214  "
      ]
     },
     "execution_count": 172,
     "metadata": {},
     "output_type": "execute_result"
    }
   ],
   "source": [
    "# Looking at the words \n",
    "fittedtweets_df.head()"
   ]
  },
  {
   "cell_type": "markdown",
   "metadata": {},
   "source": [
    "**KMeans Clustering using TFIDFVec ngram 2,2:**"
   ]
  },
  {
   "cell_type": "code",
   "execution_count": 173,
   "metadata": {},
   "outputs": [],
   "source": [
    "# Instantiating the model. Smaller k yield very imbalanced classes. We tried different \n",
    "# k values and this one yielded clusters that made most sense. \n",
    "true_kfittedtweet = 2\n",
    "kmmodelfittedtweet = KMeans(true_kfittedtweet, random_state=17)"
   ]
  },
  {
   "cell_type": "code",
   "execution_count": 174,
   "metadata": {},
   "outputs": [
    {
     "data": {
      "text/plain": [
       "KMeans(algorithm='auto', copy_x=True, init='k-means++', max_iter=300,\n",
       "       n_clusters=2, n_init=10, n_jobs=None, precompute_distances='auto',\n",
       "       random_state=17, tol=0.0001, verbose=0)"
      ]
     },
     "execution_count": 174,
     "metadata": {},
     "output_type": "execute_result"
    }
   ],
   "source": [
    "# Fiting the model to our addressees \n",
    "kmmodelfittedtweet.fit(fittedtweets)"
   ]
  },
  {
   "cell_type": "code",
   "execution_count": 175,
   "metadata": {},
   "outputs": [],
   "source": [
    "# Getting centroids.\n",
    "fittedtweet_centroids = kmmodelfittedtweet.cluster_centers_.argsort()[:, ::-1]"
   ]
  },
  {
   "cell_type": "code",
   "execution_count": 176,
   "metadata": {},
   "outputs": [],
   "source": [
    "# Trying to see the words. \n",
    "fittedtweetswords = tfidfvec.get_feature_names()"
   ]
  },
  {
   "cell_type": "code",
   "execution_count": 177,
   "metadata": {
    "scrolled": true
   },
   "outputs": [
    {
     "name": "stdout",
     "output_type": "stream",
     "text": [
      "Cluster 0:\n",
      "thousands evacuated\n",
      "k acres\n",
      "evacuated k\n",
      "burned dlvr\n",
      "acres burned\n",
      "dlvr rg\n",
      "dlvr rfzylr\n",
      "dlvr rfzyl\n",
      "dlvr rfzyks\n",
      "dlvr rfzyjm\n",
      "dlvr rfzyjb\n",
      "dlvr rfzyj\n",
      "dlvr rfzydn\n",
      "dlvr rfzx\n",
      "dlvr rfzykw\n",
      "Cluster 1:\n",
      "dlvr rfzykw\n",
      "thousands evacuated\n",
      "k acres\n",
      "evacuated k\n",
      "burned dlvr\n",
      "acres burned\n",
      "dlvr rg\n",
      "dlvr rfzylr\n",
      "dlvr rfzyl\n",
      "dlvr rfzyks\n",
      "dlvr rfzyjm\n",
      "dlvr rfzyjb\n",
      "dlvr rfzyj\n",
      "dlvr rfzydn\n",
      "dlvr rfzx\n"
     ]
    }
   ],
   "source": [
    "# Trying to see how the words are clustered\n",
    "for i in range(true_kfittedtweet):\n",
    "    print('Cluster %d:' % i),\n",
    "    for ind in fittedtweet_centroids[i, :20]:\n",
    "        print('%s' % fittedtweetswords[ind])"
   ]
  }
 ],
 "metadata": {
  "kernelspec": {
   "display_name": "Python 3",
   "language": "python",
   "name": "python3"
  },
  "language_info": {
   "codemirror_mode": {
    "name": "ipython",
    "version": 3
   },
   "file_extension": ".py",
   "mimetype": "text/x-python",
   "name": "python",
   "nbconvert_exporter": "python",
   "pygments_lexer": "ipython3",
   "version": "3.7.6"
  }
 },
 "nbformat": 4,
 "nbformat_minor": 4
}
