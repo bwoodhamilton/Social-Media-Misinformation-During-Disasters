{
 "cells": [
  {
   "cell_type": "markdown",
   "metadata": {},
   "source": [
    "# Data Cleaning and EDA"
   ]
  },
  {
   "cell_type": "markdown",
   "metadata": {},
   "source": [
    "### Contents:\n",
    "- [Data Cleaning](#Data-Cleaning)\n",
    "- [Exploratory Data Analysis](#Exploratory-Data-Analysis)\n",
    "- [Saving CSV to File](#Saving-CSV-to-File)"
   ]
  },
  {
   "cell_type": "code",
   "execution_count": 20,
   "metadata": {},
   "outputs": [],
   "source": [
    "# Importing packages needed for Data Cleaning and EDA\n",
    "import pandas as pd \n",
    "import matplotlib.pyplot as plt"
   ]
  },
  {
   "cell_type": "code",
   "execution_count": 21,
   "metadata": {},
   "outputs": [],
   "source": [
    "# Reading the API data from a csv\n",
    "twitter_fire = pd.read_csv('./data/tweets_raw.csv')"
   ]
  },
  {
   "cell_type": "markdown",
   "metadata": {},
   "source": [
    "### Data Cleaning"
   ]
  },
  {
   "cell_type": "code",
   "execution_count": 22,
   "metadata": {},
   "outputs": [
    {
     "data": {
      "text/html": [
       "<div>\n",
       "<style scoped>\n",
       "    .dataframe tbody tr th:only-of-type {\n",
       "        vertical-align: middle;\n",
       "    }\n",
       "\n",
       "    .dataframe tbody tr th {\n",
       "        vertical-align: top;\n",
       "    }\n",
       "\n",
       "    .dataframe thead th {\n",
       "        text-align: right;\n",
       "    }\n",
       "</style>\n",
       "<table border=\"1\" class=\"dataframe\">\n",
       "  <thead>\n",
       "    <tr style=\"text-align: right;\">\n",
       "      <th></th>\n",
       "      <th>0</th>\n",
       "      <th>1</th>\n",
       "      <th>2</th>\n",
       "      <th>3</th>\n",
       "      <th>4</th>\n",
       "      <th>5</th>\n",
       "      <th>6</th>\n",
       "      <th>7</th>\n",
       "      <th>8</th>\n",
       "      <th>9</th>\n",
       "    </tr>\n",
       "  </thead>\n",
       "  <tbody>\n",
       "    <tr>\n",
       "      <th>0</th>\n",
       "      <td>2019-11-29 23:10:01+00:00</td>\n",
       "      <td>California Wildfires Inspire Entrepreneur to C...</td>\n",
       "      <td>ReginaBanali</td>\n",
       "      <td>1200552524291411970</td>\n",
       "      <td>https://twitter.com/ReginaBanali/status/120055...</td>\n",
       "      <td>NaN</td>\n",
       "      <td>0</td>\n",
       "      <td>0</td>\n",
       "      <td>NaN</td>\n",
       "      <td>NaN</td>\n",
       "    </tr>\n",
       "    <tr>\n",
       "      <th>1</th>\n",
       "      <td>2019-11-29 22:49:52+00:00</td>\n",
       "      <td>NEW! ‘Rage for Justice Report - Episode 2 How ...</td>\n",
       "      <td>ConsumerWD</td>\n",
       "      <td>1200547453948162048</td>\n",
       "      <td>https://twitter.com/ConsumerWD/status/12005474...</td>\n",
       "      <td>NaN</td>\n",
       "      <td>0</td>\n",
       "      <td>0</td>\n",
       "      <td>@PGE4Me @californiapuc</td>\n",
       "      <td>#californiawildfires #pge #FridayThoughts #Fri...</td>\n",
       "    </tr>\n",
       "    <tr>\n",
       "      <th>2</th>\n",
       "      <td>2019-11-29 22:46:00+00:00</td>\n",
       "      <td>With the #CaliforniaWildFires fresh in our min...</td>\n",
       "      <td>ChangeTheLAUSD</td>\n",
       "      <td>1200546481494577153</td>\n",
       "      <td>https://twitter.com/ChangeTheLAUSD/status/1200...</td>\n",
       "      <td>GOPChairwoman</td>\n",
       "      <td>0</td>\n",
       "      <td>2</td>\n",
       "      <td>@KatieHill4CA</td>\n",
       "      <td>#CaliforniaWildFires #GOPTaxScam</td>\n",
       "    </tr>\n",
       "    <tr>\n",
       "      <th>3</th>\n",
       "      <td>2019-11-29 22:08:21+00:00</td>\n",
       "      <td>#climate “Each degree of warming causes way mo...</td>\n",
       "      <td>ECOWARRIORSS</td>\n",
       "      <td>1200537005396037632</td>\n",
       "      <td>https://twitter.com/ECOWARRIORSS/status/120053...</td>\n",
       "      <td>NaN</td>\n",
       "      <td>17</td>\n",
       "      <td>15</td>\n",
       "      <td>@yayitsrob</td>\n",
       "      <td>#climate</td>\n",
       "    </tr>\n",
       "    <tr>\n",
       "      <th>4</th>\n",
       "      <td>2019-11-29 22:08:07+00:00</td>\n",
       "      <td>The California wildfires should come to SoHo</td>\n",
       "      <td>jamesdotcom</td>\n",
       "      <td>1200536945711108104</td>\n",
       "      <td>https://twitter.com/jamesdotcom/status/1200536...</td>\n",
       "      <td>NaN</td>\n",
       "      <td>1</td>\n",
       "      <td>19</td>\n",
       "      <td>NaN</td>\n",
       "      <td>NaN</td>\n",
       "    </tr>\n",
       "  </tbody>\n",
       "</table>\n",
       "</div>"
      ],
      "text/plain": [
       "                           0  \\\n",
       "0  2019-11-29 23:10:01+00:00   \n",
       "1  2019-11-29 22:49:52+00:00   \n",
       "2  2019-11-29 22:46:00+00:00   \n",
       "3  2019-11-29 22:08:21+00:00   \n",
       "4  2019-11-29 22:08:07+00:00   \n",
       "\n",
       "                                                   1               2  \\\n",
       "0  California Wildfires Inspire Entrepreneur to C...    ReginaBanali   \n",
       "1  NEW! ‘Rage for Justice Report - Episode 2 How ...      ConsumerWD   \n",
       "2  With the #CaliforniaWildFires fresh in our min...  ChangeTheLAUSD   \n",
       "3  #climate “Each degree of warming causes way mo...    ECOWARRIORSS   \n",
       "4       The California wildfires should come to SoHo     jamesdotcom   \n",
       "\n",
       "                     3                                                  4  \\\n",
       "0  1200552524291411970  https://twitter.com/ReginaBanali/status/120055...   \n",
       "1  1200547453948162048  https://twitter.com/ConsumerWD/status/12005474...   \n",
       "2  1200546481494577153  https://twitter.com/ChangeTheLAUSD/status/1200...   \n",
       "3  1200537005396037632  https://twitter.com/ECOWARRIORSS/status/120053...   \n",
       "4  1200536945711108104  https://twitter.com/jamesdotcom/status/1200536...   \n",
       "\n",
       "               5   6   7                       8  \\\n",
       "0            NaN   0   0                     NaN   \n",
       "1            NaN   0   0  @PGE4Me @californiapuc   \n",
       "2  GOPChairwoman   0   2           @KatieHill4CA   \n",
       "3            NaN  17  15              @yayitsrob   \n",
       "4            NaN   1  19                     NaN   \n",
       "\n",
       "                                                   9  \n",
       "0                                                NaN  \n",
       "1  #californiawildfires #pge #FridayThoughts #Fri...  \n",
       "2                   #CaliforniaWildFires #GOPTaxScam  \n",
       "3                                           #climate  \n",
       "4                                                NaN  "
      ]
     },
     "execution_count": 22,
     "metadata": {},
     "output_type": "execute_result"
    }
   ],
   "source": [
    "# Taking a look at my dataframe\n",
    "twitter_fire.head()"
   ]
  },
  {
   "cell_type": "code",
   "execution_count": 23,
   "metadata": {},
   "outputs": [],
   "source": [
    "# Renaming the columns of the dataframe\n",
    "twitter_fire.rename(columns={\n",
    "     '0': 'date',\n",
    "     '1' : 'text',\n",
    "     '2' : 'username',\n",
    "     '3' : 'id',\n",
    "     '4' : 'link',\n",
    "     '5' : 'tweet_to',\n",
    "     '6' : 'times_retweeted',\n",
    "     '7' : 'times_favorited',\n",
    "     '8' : 'mentions',\n",
    "     '9' : 'hashtags'\n",
    "}, inplace=True)"
   ]
  },
  {
   "cell_type": "code",
   "execution_count": 24,
   "metadata": {},
   "outputs": [
    {
     "data": {
      "text/html": [
       "<div>\n",
       "<style scoped>\n",
       "    .dataframe tbody tr th:only-of-type {\n",
       "        vertical-align: middle;\n",
       "    }\n",
       "\n",
       "    .dataframe tbody tr th {\n",
       "        vertical-align: top;\n",
       "    }\n",
       "\n",
       "    .dataframe thead th {\n",
       "        text-align: right;\n",
       "    }\n",
       "</style>\n",
       "<table border=\"1\" class=\"dataframe\">\n",
       "  <thead>\n",
       "    <tr style=\"text-align: right;\">\n",
       "      <th></th>\n",
       "      <th>date</th>\n",
       "      <th>text</th>\n",
       "      <th>username</th>\n",
       "      <th>id</th>\n",
       "      <th>link</th>\n",
       "      <th>tweet_to</th>\n",
       "      <th>times_retweeted</th>\n",
       "      <th>times_favorited</th>\n",
       "      <th>mentions</th>\n",
       "      <th>hashtags</th>\n",
       "    </tr>\n",
       "  </thead>\n",
       "  <tbody>\n",
       "    <tr>\n",
       "      <th>0</th>\n",
       "      <td>2019-11-29 23:10:01+00:00</td>\n",
       "      <td>California Wildfires Inspire Entrepreneur to C...</td>\n",
       "      <td>ReginaBanali</td>\n",
       "      <td>1200552524291411970</td>\n",
       "      <td>https://twitter.com/ReginaBanali/status/120055...</td>\n",
       "      <td>NaN</td>\n",
       "      <td>0</td>\n",
       "      <td>0</td>\n",
       "      <td>NaN</td>\n",
       "      <td>NaN</td>\n",
       "    </tr>\n",
       "    <tr>\n",
       "      <th>1</th>\n",
       "      <td>2019-11-29 22:49:52+00:00</td>\n",
       "      <td>NEW! ‘Rage for Justice Report - Episode 2 How ...</td>\n",
       "      <td>ConsumerWD</td>\n",
       "      <td>1200547453948162048</td>\n",
       "      <td>https://twitter.com/ConsumerWD/status/12005474...</td>\n",
       "      <td>NaN</td>\n",
       "      <td>0</td>\n",
       "      <td>0</td>\n",
       "      <td>@PGE4Me @californiapuc</td>\n",
       "      <td>#californiawildfires #pge #FridayThoughts #Fri...</td>\n",
       "    </tr>\n",
       "    <tr>\n",
       "      <th>2</th>\n",
       "      <td>2019-11-29 22:46:00+00:00</td>\n",
       "      <td>With the #CaliforniaWildFires fresh in our min...</td>\n",
       "      <td>ChangeTheLAUSD</td>\n",
       "      <td>1200546481494577153</td>\n",
       "      <td>https://twitter.com/ChangeTheLAUSD/status/1200...</td>\n",
       "      <td>GOPChairwoman</td>\n",
       "      <td>0</td>\n",
       "      <td>2</td>\n",
       "      <td>@KatieHill4CA</td>\n",
       "      <td>#CaliforniaWildFires #GOPTaxScam</td>\n",
       "    </tr>\n",
       "    <tr>\n",
       "      <th>3</th>\n",
       "      <td>2019-11-29 22:08:21+00:00</td>\n",
       "      <td>#climate “Each degree of warming causes way mo...</td>\n",
       "      <td>ECOWARRIORSS</td>\n",
       "      <td>1200537005396037632</td>\n",
       "      <td>https://twitter.com/ECOWARRIORSS/status/120053...</td>\n",
       "      <td>NaN</td>\n",
       "      <td>17</td>\n",
       "      <td>15</td>\n",
       "      <td>@yayitsrob</td>\n",
       "      <td>#climate</td>\n",
       "    </tr>\n",
       "    <tr>\n",
       "      <th>4</th>\n",
       "      <td>2019-11-29 22:08:07+00:00</td>\n",
       "      <td>The California wildfires should come to SoHo</td>\n",
       "      <td>jamesdotcom</td>\n",
       "      <td>1200536945711108104</td>\n",
       "      <td>https://twitter.com/jamesdotcom/status/1200536...</td>\n",
       "      <td>NaN</td>\n",
       "      <td>1</td>\n",
       "      <td>19</td>\n",
       "      <td>NaN</td>\n",
       "      <td>NaN</td>\n",
       "    </tr>\n",
       "  </tbody>\n",
       "</table>\n",
       "</div>"
      ],
      "text/plain": [
       "                        date  \\\n",
       "0  2019-11-29 23:10:01+00:00   \n",
       "1  2019-11-29 22:49:52+00:00   \n",
       "2  2019-11-29 22:46:00+00:00   \n",
       "3  2019-11-29 22:08:21+00:00   \n",
       "4  2019-11-29 22:08:07+00:00   \n",
       "\n",
       "                                                text        username  \\\n",
       "0  California Wildfires Inspire Entrepreneur to C...    ReginaBanali   \n",
       "1  NEW! ‘Rage for Justice Report - Episode 2 How ...      ConsumerWD   \n",
       "2  With the #CaliforniaWildFires fresh in our min...  ChangeTheLAUSD   \n",
       "3  #climate “Each degree of warming causes way mo...    ECOWARRIORSS   \n",
       "4       The California wildfires should come to SoHo     jamesdotcom   \n",
       "\n",
       "                    id                                               link  \\\n",
       "0  1200552524291411970  https://twitter.com/ReginaBanali/status/120055...   \n",
       "1  1200547453948162048  https://twitter.com/ConsumerWD/status/12005474...   \n",
       "2  1200546481494577153  https://twitter.com/ChangeTheLAUSD/status/1200...   \n",
       "3  1200537005396037632  https://twitter.com/ECOWARRIORSS/status/120053...   \n",
       "4  1200536945711108104  https://twitter.com/jamesdotcom/status/1200536...   \n",
       "\n",
       "        tweet_to  times_retweeted  times_favorited                mentions  \\\n",
       "0            NaN                0                0                     NaN   \n",
       "1            NaN                0                0  @PGE4Me @californiapuc   \n",
       "2  GOPChairwoman                0                2           @KatieHill4CA   \n",
       "3            NaN               17               15              @yayitsrob   \n",
       "4            NaN                1               19                     NaN   \n",
       "\n",
       "                                            hashtags  \n",
       "0                                                NaN  \n",
       "1  #californiawildfires #pge #FridayThoughts #Fri...  \n",
       "2                   #CaliforniaWildFires #GOPTaxScam  \n",
       "3                                           #climate  \n",
       "4                                                NaN  "
      ]
     },
     "execution_count": 24,
     "metadata": {},
     "output_type": "execute_result"
    }
   ],
   "source": [
    "# Checking to see that my columns line up\n",
    "twitter_fire.head()"
   ]
  },
  {
   "cell_type": "code",
   "execution_count": 25,
   "metadata": {},
   "outputs": [
    {
     "data": {
      "text/plain": [
       "date                   0\n",
       "text                   0\n",
       "username               0\n",
       "id                     0\n",
       "link                   0\n",
       "tweet_to           23833\n",
       "times_retweeted        0\n",
       "times_favorited        0\n",
       "mentions           22778\n",
       "hashtags           16060\n",
       "dtype: int64"
      ]
     },
     "execution_count": 25,
     "metadata": {},
     "output_type": "execute_result"
    }
   ],
   "source": [
    "# Checking my null values\n",
    "twitter_fire.isnull().sum()"
   ]
  },
  {
   "cell_type": "code",
   "execution_count": 26,
   "metadata": {},
   "outputs": [
    {
     "data": {
      "text/plain": [
       "(28479, 10)"
      ]
     },
     "execution_count": 26,
     "metadata": {},
     "output_type": "execute_result"
    }
   ],
   "source": [
    "# Checking the shape of my dataframe \n",
    "twitter_fire.shape"
   ]
  },
  {
   "cell_type": "code",
   "execution_count": 27,
   "metadata": {},
   "outputs": [],
   "source": [
    "# Dropping any duplicates \n",
    "twitter_fire = twitter_fire.drop_duplicates()"
   ]
  },
  {
   "cell_type": "code",
   "execution_count": 28,
   "metadata": {},
   "outputs": [
    {
     "data": {
      "text/plain": [
       "(28479, 10)"
      ]
     },
     "execution_count": 28,
     "metadata": {},
     "output_type": "execute_result"
    }
   ],
   "source": [
    "# Checking the shape of my dataframe, did not change\n",
    "twitter_fire.shape"
   ]
  },
  {
   "cell_type": "code",
   "execution_count": 29,
   "metadata": {},
   "outputs": [
    {
     "name": "stdout",
     "output_type": "stream",
     "text": [
      "<class 'pandas.core.frame.DataFrame'>\n",
      "Int64Index: 28479 entries, 0 to 28478\n",
      "Data columns (total 10 columns):\n",
      "date               28479 non-null object\n",
      "text               28479 non-null object\n",
      "username           28479 non-null object\n",
      "id                 28479 non-null int64\n",
      "link               28479 non-null object\n",
      "tweet_to           4646 non-null object\n",
      "times_retweeted    28479 non-null int64\n",
      "times_favorited    28479 non-null int64\n",
      "mentions           5701 non-null object\n",
      "hashtags           12419 non-null object\n",
      "dtypes: int64(3), object(7)\n",
      "memory usage: 2.4+ MB\n"
     ]
    }
   ],
   "source": [
    "# Looking at datatypes. They all seem to be what they are supposed to be. \n",
    "twitter_fire.info()"
   ]
  },
  {
   "cell_type": "markdown",
   "metadata": {},
   "source": [
    "### Exploratory Data Analysis"
   ]
  },
  {
   "cell_type": "code",
   "execution_count": 30,
   "metadata": {},
   "outputs": [
    {
     "data": {
      "text/html": [
       "<div>\n",
       "<style scoped>\n",
       "    .dataframe tbody tr th:only-of-type {\n",
       "        vertical-align: middle;\n",
       "    }\n",
       "\n",
       "    .dataframe tbody tr th {\n",
       "        vertical-align: top;\n",
       "    }\n",
       "\n",
       "    .dataframe thead th {\n",
       "        text-align: right;\n",
       "    }\n",
       "</style>\n",
       "<table border=\"1\" class=\"dataframe\">\n",
       "  <thead>\n",
       "    <tr style=\"text-align: right;\">\n",
       "      <th></th>\n",
       "      <th>id</th>\n",
       "      <th>times_retweeted</th>\n",
       "      <th>times_favorited</th>\n",
       "    </tr>\n",
       "  </thead>\n",
       "  <tbody>\n",
       "    <tr>\n",
       "      <th>count</th>\n",
       "      <td>2.847900e+04</td>\n",
       "      <td>28479.000000</td>\n",
       "      <td>28479.000000</td>\n",
       "    </tr>\n",
       "    <tr>\n",
       "      <th>mean</th>\n",
       "      <td>1.189412e+18</td>\n",
       "      <td>3.348292</td>\n",
       "      <td>7.516626</td>\n",
       "    </tr>\n",
       "    <tr>\n",
       "      <th>std</th>\n",
       "      <td>2.992061e+15</td>\n",
       "      <td>85.423748</td>\n",
       "      <td>167.017935</td>\n",
       "    </tr>\n",
       "    <tr>\n",
       "      <th>min</th>\n",
       "      <td>1.178826e+18</td>\n",
       "      <td>0.000000</td>\n",
       "      <td>0.000000</td>\n",
       "    </tr>\n",
       "    <tr>\n",
       "      <th>25%</th>\n",
       "      <td>1.188413e+18</td>\n",
       "      <td>0.000000</td>\n",
       "      <td>0.000000</td>\n",
       "    </tr>\n",
       "    <tr>\n",
       "      <th>50%</th>\n",
       "      <td>1.189541e+18</td>\n",
       "      <td>0.000000</td>\n",
       "      <td>0.000000</td>\n",
       "    </tr>\n",
       "    <tr>\n",
       "      <th>75%</th>\n",
       "      <td>1.191073e+18</td>\n",
       "      <td>1.000000</td>\n",
       "      <td>1.000000</td>\n",
       "    </tr>\n",
       "    <tr>\n",
       "      <th>max</th>\n",
       "      <td>1.200553e+18</td>\n",
       "      <td>11871.000000</td>\n",
       "      <td>22109.000000</td>\n",
       "    </tr>\n",
       "  </tbody>\n",
       "</table>\n",
       "</div>"
      ],
      "text/plain": [
       "                 id  times_retweeted  times_favorited\n",
       "count  2.847900e+04     28479.000000     28479.000000\n",
       "mean   1.189412e+18         3.348292         7.516626\n",
       "std    2.992061e+15        85.423748       167.017935\n",
       "min    1.178826e+18         0.000000         0.000000\n",
       "25%    1.188413e+18         0.000000         0.000000\n",
       "50%    1.189541e+18         0.000000         0.000000\n",
       "75%    1.191073e+18         1.000000         1.000000\n",
       "max    1.200553e+18     11871.000000     22109.000000"
      ]
     },
     "execution_count": 30,
     "metadata": {},
     "output_type": "execute_result"
    }
   ],
   "source": [
    "# Looking at my numeric columns \n",
    "twitter_fire.describe()"
   ]
  },
  {
   "cell_type": "code",
   "execution_count": 31,
   "metadata": {},
   "outputs": [
    {
     "data": {
      "text/plain": [
       "<matplotlib.axes._subplots.AxesSubplot at 0x1a26c09190>"
      ]
     },
     "execution_count": 31,
     "metadata": {},
     "output_type": "execute_result"
    },
    {
     "data": {
      "image/png": "[encoded data removed]",
      "text/plain": [
       "<Figure size 432x288 with 1 Axes>"
      ]
     },
     "metadata": {
      "needs_background": "light"
     },
     "output_type": "display_data"
    }
   ],
   "source": [
    "# This histogram isn't the best, but it shows that most times favorited are close to 0\n",
    "twitter_fire['times_favorited'].plot(kind='hist', bins=100)"
   ]
  },
  {
   "cell_type": "code",
   "execution_count": 32,
   "metadata": {},
   "outputs": [
    {
     "data": {
      "text/plain": [
       "<matplotlib.axes._subplots.AxesSubplot at 0x1a2716a610>"
      ]
     },
     "execution_count": 32,
     "metadata": {},
     "output_type": "execute_result"
    },
    {
     "data": {
      "image/png": "[encoded data removed]",
      "text/plain": [
       "<Figure size 432x288 with 1 Axes>"
      ]
     },
     "metadata": {
      "needs_background": "light"
     },
     "output_type": "display_data"
    }
   ],
   "source": [
    "# This not very good histogram shows that most times retweeted are close to 0\n",
    "twitter_fire['times_retweeted'].plot(kind='hist', bins=100)"
   ]
  },
  {
   "cell_type": "code",
   "execution_count": 33,
   "metadata": {},
   "outputs": [
    {
     "data": {
      "text/plain": [
       "0      17773\n",
       "1       4041\n",
       "2       1737\n",
       "3        996\n",
       "4        661\n",
       "       ...  \n",
       "264        1\n",
       "248        1\n",
       "216        1\n",
       "168        1\n",
       "695        1\n",
       "Name: times_favorited, Length: 301, dtype: int64"
      ]
     },
     "execution_count": 33,
     "metadata": {},
     "output_type": "execute_result"
    }
   ],
   "source": [
    "# Looking at the value counts for times favorited. The majority of our tweets are not. \n",
    "twitter_fire['times_favorited'].value_counts()"
   ]
  },
  {
   "cell_type": "code",
   "execution_count": 34,
   "metadata": {},
   "outputs": [
    {
     "data": {
      "text/plain": [
       "0       21023\n",
       "1        3221\n",
       "2        1254\n",
       "3         675\n",
       "4         402\n",
       "        ...  \n",
       "298         1\n",
       "282         1\n",
       "102         1\n",
       "266         1\n",
       "1647        1\n",
       "Name: times_retweeted, Length: 199, dtype: int64"
      ]
     },
     "execution_count": 34,
     "metadata": {},
     "output_type": "execute_result"
    }
   ],
   "source": [
    "# Looking at times retweeted, most are not retweeted. \n",
    "twitter_fire['times_retweeted'].value_counts()"
   ]
  },
  {
   "cell_type": "code",
   "execution_count": 35,
   "metadata": {},
   "outputs": [
    {
     "data": {
      "text/plain": [
       "skaichat           91\n",
       "poandpo            77\n",
       "robinsnewswire     76\n",
       "EdJoyce            69\n",
       "amys_bus_ticket    67\n",
       "Jr3597             58\n",
       "raybae689          55\n",
       "HEDGEenergy        49\n",
       "jmarine            47\n",
       "fires_ca           47\n",
       "cahulaan           44\n",
       "BobbieBerta2       41\n",
       "AnalyticaGlobal    41\n",
       "JoanneSpruceC21    39\n",
       "twxman911          39\n",
       "TomthunkitsMind    38\n",
       "watchlatestnews    35\n",
       "KorbelRenoKia      34\n",
       "CalMatters         33\n",
       "TPE_connect        32\n",
       "greeenorg          32\n",
       "crewislife         30\n",
       "dmac5dmark2        29\n",
       "opprime_tv         28\n",
       "globalissuesweb    28\n",
       "WatsupAmericas     26\n",
       "ThatSindhiCM       26\n",
       "Brought_to_You     25\n",
       "JasonRyanPhoto     24\n",
       "twosheeep1         24\n",
       "Trazlersgal        24\n",
       "kickass_sushi      23\n",
       "PulpNews           23\n",
       "Covensure          23\n",
       "CharityChicken     23\n",
       "ChangeTheLAUSD     23\n",
       "thedinoapp         23\n",
       "breakingnewshe1    22\n",
       "DanielBrobecker    21\n",
       "GogartyKay         21\n",
       "ComstockRoyalty    21\n",
       "adrien4ej          21\n",
       "LarryNak           20\n",
       "markfri09          20\n",
       "breaknlinks        20\n",
       "DSMWcom            20\n",
       "Libertea2012       19\n",
       "thaiparampil       18\n",
       "SafetyPinDaily     18\n",
       "cdtfa              18\n",
       "Name: username, dtype: int64"
      ]
     },
     "execution_count": 35,
     "metadata": {},
     "output_type": "execute_result"
    }
   ],
   "source": [
    "# Looking at our usernames and the top occuring ones \n",
    "twitter_fire['username'].value_counts().head(50)"
   ]
  },
  {
   "cell_type": "code",
   "execution_count": 36,
   "metadata": {},
   "outputs": [
    {
     "data": {
      "text/plain": [
       "18765"
      ]
     },
     "execution_count": 36,
     "metadata": {},
     "output_type": "execute_result"
    }
   ],
   "source": [
    "# Checking to see how many unique user names we have \n",
    "twitter_fire['username'].nunique()"
   ]
  },
  {
   "cell_type": "code",
   "execution_count": 37,
   "metadata": {},
   "outputs": [],
   "source": [
    "# Filling in n/a values with an underscore \n",
    "twitter_fire.fillna('_', inplace=True)"
   ]
  },
  {
   "cell_type": "code",
   "execution_count": 38,
   "metadata": {},
   "outputs": [
    {
     "data": {
      "text/html": [
       "<div>\n",
       "<style scoped>\n",
       "    .dataframe tbody tr th:only-of-type {\n",
       "        vertical-align: middle;\n",
       "    }\n",
       "\n",
       "    .dataframe tbody tr th {\n",
       "        vertical-align: top;\n",
       "    }\n",
       "\n",
       "    .dataframe thead th {\n",
       "        text-align: right;\n",
       "    }\n",
       "</style>\n",
       "<table border=\"1\" class=\"dataframe\">\n",
       "  <thead>\n",
       "    <tr style=\"text-align: right;\">\n",
       "      <th></th>\n",
       "      <th>date</th>\n",
       "      <th>text</th>\n",
       "      <th>username</th>\n",
       "      <th>id</th>\n",
       "      <th>link</th>\n",
       "      <th>tweet_to</th>\n",
       "      <th>times_retweeted</th>\n",
       "      <th>times_favorited</th>\n",
       "      <th>mentions</th>\n",
       "      <th>hashtags</th>\n",
       "    </tr>\n",
       "  </thead>\n",
       "  <tbody>\n",
       "    <tr>\n",
       "      <th>0</th>\n",
       "      <td>2019-11-29 23:10:01+00:00</td>\n",
       "      <td>California Wildfires Inspire Entrepreneur to C...</td>\n",
       "      <td>ReginaBanali</td>\n",
       "      <td>1200552524291411970</td>\n",
       "      <td>https://twitter.com/ReginaBanali/status/120055...</td>\n",
       "      <td>_</td>\n",
       "      <td>0</td>\n",
       "      <td>0</td>\n",
       "      <td>_</td>\n",
       "      <td>_</td>\n",
       "    </tr>\n",
       "    <tr>\n",
       "      <th>1</th>\n",
       "      <td>2019-11-29 22:49:52+00:00</td>\n",
       "      <td>NEW! ‘Rage for Justice Report - Episode 2 How ...</td>\n",
       "      <td>ConsumerWD</td>\n",
       "      <td>1200547453948162048</td>\n",
       "      <td>https://twitter.com/ConsumerWD/status/12005474...</td>\n",
       "      <td>_</td>\n",
       "      <td>0</td>\n",
       "      <td>0</td>\n",
       "      <td>@PGE4Me @californiapuc</td>\n",
       "      <td>#californiawildfires #pge #FridayThoughts #Fri...</td>\n",
       "    </tr>\n",
       "    <tr>\n",
       "      <th>2</th>\n",
       "      <td>2019-11-29 22:46:00+00:00</td>\n",
       "      <td>With the #CaliforniaWildFires fresh in our min...</td>\n",
       "      <td>ChangeTheLAUSD</td>\n",
       "      <td>1200546481494577153</td>\n",
       "      <td>https://twitter.com/ChangeTheLAUSD/status/1200...</td>\n",
       "      <td>GOPChairwoman</td>\n",
       "      <td>0</td>\n",
       "      <td>2</td>\n",
       "      <td>@KatieHill4CA</td>\n",
       "      <td>#CaliforniaWildFires #GOPTaxScam</td>\n",
       "    </tr>\n",
       "    <tr>\n",
       "      <th>3</th>\n",
       "      <td>2019-11-29 22:08:21+00:00</td>\n",
       "      <td>#climate “Each degree of warming causes way mo...</td>\n",
       "      <td>ECOWARRIORSS</td>\n",
       "      <td>1200537005396037632</td>\n",
       "      <td>https://twitter.com/ECOWARRIORSS/status/120053...</td>\n",
       "      <td>_</td>\n",
       "      <td>17</td>\n",
       "      <td>15</td>\n",
       "      <td>@yayitsrob</td>\n",
       "      <td>#climate</td>\n",
       "    </tr>\n",
       "    <tr>\n",
       "      <th>4</th>\n",
       "      <td>2019-11-29 22:08:07+00:00</td>\n",
       "      <td>The California wildfires should come to SoHo</td>\n",
       "      <td>jamesdotcom</td>\n",
       "      <td>1200536945711108104</td>\n",
       "      <td>https://twitter.com/jamesdotcom/status/1200536...</td>\n",
       "      <td>_</td>\n",
       "      <td>1</td>\n",
       "      <td>19</td>\n",
       "      <td>_</td>\n",
       "      <td>_</td>\n",
       "    </tr>\n",
       "  </tbody>\n",
       "</table>\n",
       "</div>"
      ],
      "text/plain": [
       "                        date  \\\n",
       "0  2019-11-29 23:10:01+00:00   \n",
       "1  2019-11-29 22:49:52+00:00   \n",
       "2  2019-11-29 22:46:00+00:00   \n",
       "3  2019-11-29 22:08:21+00:00   \n",
       "4  2019-11-29 22:08:07+00:00   \n",
       "\n",
       "                                                text        username  \\\n",
       "0  California Wildfires Inspire Entrepreneur to C...    ReginaBanali   \n",
       "1  NEW! ‘Rage for Justice Report - Episode 2 How ...      ConsumerWD   \n",
       "2  With the #CaliforniaWildFires fresh in our min...  ChangeTheLAUSD   \n",
       "3  #climate “Each degree of warming causes way mo...    ECOWARRIORSS   \n",
       "4       The California wildfires should come to SoHo     jamesdotcom   \n",
       "\n",
       "                    id                                               link  \\\n",
       "0  1200552524291411970  https://twitter.com/ReginaBanali/status/120055...   \n",
       "1  1200547453948162048  https://twitter.com/ConsumerWD/status/12005474...   \n",
       "2  1200546481494577153  https://twitter.com/ChangeTheLAUSD/status/1200...   \n",
       "3  1200537005396037632  https://twitter.com/ECOWARRIORSS/status/120053...   \n",
       "4  1200536945711108104  https://twitter.com/jamesdotcom/status/1200536...   \n",
       "\n",
       "        tweet_to  times_retweeted  times_favorited                mentions  \\\n",
       "0              _                0                0                       _   \n",
       "1              _                0                0  @PGE4Me @californiapuc   \n",
       "2  GOPChairwoman                0                2           @KatieHill4CA   \n",
       "3              _               17               15              @yayitsrob   \n",
       "4              _                1               19                       _   \n",
       "\n",
       "                                            hashtags  \n",
       "0                                                  _  \n",
       "1  #californiawildfires #pge #FridayThoughts #Fri...  \n",
       "2                   #CaliforniaWildFires #GOPTaxScam  \n",
       "3                                           #climate  \n",
       "4                                                  _  "
      ]
     },
     "execution_count": 38,
     "metadata": {},
     "output_type": "execute_result"
    }
   ],
   "source": [
    "# Seeing how my dataframe looks \n",
    "twitter_fire.head()"
   ]
  },
  {
   "cell_type": "code",
   "execution_count": 39,
   "metadata": {},
   "outputs": [
    {
     "data": {
      "text/html": [
       "<div>\n",
       "<style scoped>\n",
       "    .dataframe tbody tr th:only-of-type {\n",
       "        vertical-align: middle;\n",
       "    }\n",
       "\n",
       "    .dataframe tbody tr th {\n",
       "        vertical-align: top;\n",
       "    }\n",
       "\n",
       "    .dataframe thead th {\n",
       "        text-align: right;\n",
       "    }\n",
       "</style>\n",
       "<table border=\"1\" class=\"dataframe\">\n",
       "  <thead>\n",
       "    <tr style=\"text-align: right;\">\n",
       "      <th></th>\n",
       "      <th>date</th>\n",
       "      <th>text</th>\n",
       "      <th>username</th>\n",
       "      <th>id</th>\n",
       "      <th>link</th>\n",
       "      <th>tweet_to</th>\n",
       "      <th>times_retweeted</th>\n",
       "      <th>times_favorited</th>\n",
       "      <th>mentions</th>\n",
       "      <th>hashtags</th>\n",
       "    </tr>\n",
       "  </thead>\n",
       "  <tbody>\n",
       "    <tr>\n",
       "      <th>7221</th>\n",
       "      <td>2019-11-03 18:58:22+00:00</td>\n",
       "      <td>Trump Threatens to Cut U.S. Funding for Califo...</td>\n",
       "      <td>RedTRaccoon</td>\n",
       "      <td>1191067111503863814</td>\n",
       "      <td>https://twitter.com/RedTRaccoon/status/1191067...</td>\n",
       "      <td>_</td>\n",
       "      <td>11871</td>\n",
       "      <td>22109</td>\n",
       "      <td>_</td>\n",
       "      <td>_</td>\n",
       "    </tr>\n",
       "    <tr>\n",
       "      <th>1872</th>\n",
       "      <td>2019-11-09 19:55:05+00:00</td>\n",
       "      <td>This is nuts. We are sending funding to Russia...</td>\n",
       "      <td>atDavidHoffman</td>\n",
       "      <td>1193255710794174475</td>\n",
       "      <td>https://twitter.com/atDavidHoffman/status/1193...</td>\n",
       "      <td>_</td>\n",
       "      <td>4722</td>\n",
       "      <td>6865</td>\n",
       "      <td>_</td>\n",
       "      <td>_</td>\n",
       "    </tr>\n",
       "    <tr>\n",
       "      <th>2028</th>\n",
       "      <td>2019-11-09 12:30:32+00:00</td>\n",
       "      <td>So does this mean California can withhold its ...</td>\n",
       "      <td>Dobieblue</td>\n",
       "      <td>1193143836458881024</td>\n",
       "      <td>https://twitter.com/Dobieblue/status/119314383...</td>\n",
       "      <td>_</td>\n",
       "      <td>3695</td>\n",
       "      <td>6264</td>\n",
       "      <td>_</td>\n",
       "      <td>_</td>\n",
       "    </tr>\n",
       "    <tr>\n",
       "      <th>2080</th>\n",
       "      <td>2019-11-09 04:25:29+00:00</td>\n",
       "      <td>worlds biggest fool - Donald Trump says he has...</td>\n",
       "      <td>Rosie</td>\n",
       "      <td>1193021766999916545</td>\n",
       "      <td>https://twitter.com/Rosie/status/1193021766999...</td>\n",
       "      <td>_</td>\n",
       "      <td>2725</td>\n",
       "      <td>5582</td>\n",
       "      <td>_</td>\n",
       "      <td>#ImpeachAndRemoveTrump</td>\n",
       "    </tr>\n",
       "    <tr>\n",
       "      <th>14327</th>\n",
       "      <td>2019-10-30 13:22:32+00:00</td>\n",
       "      <td>From @Space_Station I was able to catch these ...</td>\n",
       "      <td>AstroDrewMorgan</td>\n",
       "      <td>1189533043448520704</td>\n",
       "      <td>https://twitter.com/AstroDrewMorgan/status/118...</td>\n",
       "      <td>_</td>\n",
       "      <td>1974</td>\n",
       "      <td>9635</td>\n",
       "      <td>@Space_Station</td>\n",
       "      <td>_</td>\n",
       "    </tr>\n",
       "  </tbody>\n",
       "</table>\n",
       "</div>"
      ],
      "text/plain": [
       "                            date  \\\n",
       "7221   2019-11-03 18:58:22+00:00   \n",
       "1872   2019-11-09 19:55:05+00:00   \n",
       "2028   2019-11-09 12:30:32+00:00   \n",
       "2080   2019-11-09 04:25:29+00:00   \n",
       "14327  2019-10-30 13:22:32+00:00   \n",
       "\n",
       "                                                    text         username  \\\n",
       "7221   Trump Threatens to Cut U.S. Funding for Califo...      RedTRaccoon   \n",
       "1872   This is nuts. We are sending funding to Russia...   atDavidHoffman   \n",
       "2028   So does this mean California can withhold its ...        Dobieblue   \n",
       "2080   worlds biggest fool - Donald Trump says he has...            Rosie   \n",
       "14327  From @Space_Station I was able to catch these ...  AstroDrewMorgan   \n",
       "\n",
       "                        id                                               link  \\\n",
       "7221   1191067111503863814  https://twitter.com/RedTRaccoon/status/1191067...   \n",
       "1872   1193255710794174475  https://twitter.com/atDavidHoffman/status/1193...   \n",
       "2028   1193143836458881024  https://twitter.com/Dobieblue/status/119314383...   \n",
       "2080   1193021766999916545  https://twitter.com/Rosie/status/1193021766999...   \n",
       "14327  1189533043448520704  https://twitter.com/AstroDrewMorgan/status/118...   \n",
       "\n",
       "      tweet_to  times_retweeted  times_favorited        mentions  \\\n",
       "7221         _            11871            22109               _   \n",
       "1872         _             4722             6865               _   \n",
       "2028         _             3695             6264               _   \n",
       "2080         _             2725             5582               _   \n",
       "14327        _             1974             9635  @Space_Station   \n",
       "\n",
       "                     hashtags  \n",
       "7221                        _  \n",
       "1872                        _  \n",
       "2028                        _  \n",
       "2080   #ImpeachAndRemoveTrump  \n",
       "14327                       _  "
      ]
     },
     "execution_count": 39,
     "metadata": {},
     "output_type": "execute_result"
    }
   ],
   "source": [
    "# Checking out some of the tweets that have been retweeted the most\n",
    "twitter_fire.sort_values(by=['times_retweeted'], ascending=False).head()"
   ]
  },
  {
   "cell_type": "code",
   "execution_count": 40,
   "metadata": {},
   "outputs": [
    {
     "data": {
      "text/html": [
       "<div>\n",
       "<style scoped>\n",
       "    .dataframe tbody tr th:only-of-type {\n",
       "        vertical-align: middle;\n",
       "    }\n",
       "\n",
       "    .dataframe tbody tr th {\n",
       "        vertical-align: top;\n",
       "    }\n",
       "\n",
       "    .dataframe thead th {\n",
       "        text-align: right;\n",
       "    }\n",
       "</style>\n",
       "<table border=\"1\" class=\"dataframe\">\n",
       "  <thead>\n",
       "    <tr style=\"text-align: right;\">\n",
       "      <th></th>\n",
       "      <th>date</th>\n",
       "      <th>text</th>\n",
       "      <th>username</th>\n",
       "      <th>id</th>\n",
       "      <th>link</th>\n",
       "      <th>tweet_to</th>\n",
       "      <th>times_retweeted</th>\n",
       "      <th>times_favorited</th>\n",
       "      <th>mentions</th>\n",
       "      <th>hashtags</th>\n",
       "    </tr>\n",
       "  </thead>\n",
       "  <tbody>\n",
       "    <tr>\n",
       "      <th>7221</th>\n",
       "      <td>2019-11-03 18:58:22+00:00</td>\n",
       "      <td>Trump Threatens to Cut U.S. Funding for Califo...</td>\n",
       "      <td>RedTRaccoon</td>\n",
       "      <td>1191067111503863814</td>\n",
       "      <td>https://twitter.com/RedTRaccoon/status/1191067...</td>\n",
       "      <td>_</td>\n",
       "      <td>11871</td>\n",
       "      <td>22109</td>\n",
       "      <td>_</td>\n",
       "      <td>_</td>\n",
       "    </tr>\n",
       "    <tr>\n",
       "      <th>14327</th>\n",
       "      <td>2019-10-30 13:22:32+00:00</td>\n",
       "      <td>From @Space_Station I was able to catch these ...</td>\n",
       "      <td>AstroDrewMorgan</td>\n",
       "      <td>1189533043448520704</td>\n",
       "      <td>https://twitter.com/AstroDrewMorgan/status/118...</td>\n",
       "      <td>_</td>\n",
       "      <td>1974</td>\n",
       "      <td>9635</td>\n",
       "      <td>@Space_Station</td>\n",
       "      <td>_</td>\n",
       "    </tr>\n",
       "    <tr>\n",
       "      <th>1872</th>\n",
       "      <td>2019-11-09 19:55:05+00:00</td>\n",
       "      <td>This is nuts. We are sending funding to Russia...</td>\n",
       "      <td>atDavidHoffman</td>\n",
       "      <td>1193255710794174475</td>\n",
       "      <td>https://twitter.com/atDavidHoffman/status/1193...</td>\n",
       "      <td>_</td>\n",
       "      <td>4722</td>\n",
       "      <td>6865</td>\n",
       "      <td>_</td>\n",
       "      <td>_</td>\n",
       "    </tr>\n",
       "    <tr>\n",
       "      <th>2028</th>\n",
       "      <td>2019-11-09 12:30:32+00:00</td>\n",
       "      <td>So does this mean California can withhold its ...</td>\n",
       "      <td>Dobieblue</td>\n",
       "      <td>1193143836458881024</td>\n",
       "      <td>https://twitter.com/Dobieblue/status/119314383...</td>\n",
       "      <td>_</td>\n",
       "      <td>3695</td>\n",
       "      <td>6264</td>\n",
       "      <td>_</td>\n",
       "      <td>_</td>\n",
       "    </tr>\n",
       "    <tr>\n",
       "      <th>2080</th>\n",
       "      <td>2019-11-09 04:25:29+00:00</td>\n",
       "      <td>worlds biggest fool - Donald Trump says he has...</td>\n",
       "      <td>Rosie</td>\n",
       "      <td>1193021766999916545</td>\n",
       "      <td>https://twitter.com/Rosie/status/1193021766999...</td>\n",
       "      <td>_</td>\n",
       "      <td>2725</td>\n",
       "      <td>5582</td>\n",
       "      <td>_</td>\n",
       "      <td>#ImpeachAndRemoveTrump</td>\n",
       "    </tr>\n",
       "  </tbody>\n",
       "</table>\n",
       "</div>"
      ],
      "text/plain": [
       "                            date  \\\n",
       "7221   2019-11-03 18:58:22+00:00   \n",
       "14327  2019-10-30 13:22:32+00:00   \n",
       "1872   2019-11-09 19:55:05+00:00   \n",
       "2028   2019-11-09 12:30:32+00:00   \n",
       "2080   2019-11-09 04:25:29+00:00   \n",
       "\n",
       "                                                    text         username  \\\n",
       "7221   Trump Threatens to Cut U.S. Funding for Califo...      RedTRaccoon   \n",
       "14327  From @Space_Station I was able to catch these ...  AstroDrewMorgan   \n",
       "1872   This is nuts. We are sending funding to Russia...   atDavidHoffman   \n",
       "2028   So does this mean California can withhold its ...        Dobieblue   \n",
       "2080   worlds biggest fool - Donald Trump says he has...            Rosie   \n",
       "\n",
       "                        id                                               link  \\\n",
       "7221   1191067111503863814  https://twitter.com/RedTRaccoon/status/1191067...   \n",
       "14327  1189533043448520704  https://twitter.com/AstroDrewMorgan/status/118...   \n",
       "1872   1193255710794174475  https://twitter.com/atDavidHoffman/status/1193...   \n",
       "2028   1193143836458881024  https://twitter.com/Dobieblue/status/119314383...   \n",
       "2080   1193021766999916545  https://twitter.com/Rosie/status/1193021766999...   \n",
       "\n",
       "      tweet_to  times_retweeted  times_favorited        mentions  \\\n",
       "7221         _            11871            22109               _   \n",
       "14327        _             1974             9635  @Space_Station   \n",
       "1872         _             4722             6865               _   \n",
       "2028         _             3695             6264               _   \n",
       "2080         _             2725             5582               _   \n",
       "\n",
       "                     hashtags  \n",
       "7221                        _  \n",
       "14327                       _  \n",
       "1872                        _  \n",
       "2028                        _  \n",
       "2080   #ImpeachAndRemoveTrump  "
      ]
     },
     "execution_count": 40,
     "metadata": {},
     "output_type": "execute_result"
    }
   ],
   "source": [
    "# Checking out some of the tweets that have been favorited the most \n",
    "twitter_fire.sort_values(by=['times_favorited'], ascending=False).head()"
   ]
  },
  {
   "cell_type": "code",
   "execution_count": 41,
   "metadata": {},
   "outputs": [
    {
     "data": {
      "text/plain": [
       "_                                                                                                                                                                              16060\n",
       "#californiawildfires                                                                                                                                                            1430\n",
       "#CaliforniaWildfires                                                                                                                                                             632\n",
       "#FoxNews                                                                                                                                                                         274\n",
       "#wildfires                                                                                                                                                                       123\n",
       "#California #wildfires                                                                                                                                                            96\n",
       "#News                                                                                                                                                                             84\n",
       "#CaliforniaFires #californiawildfires                                                                                                                                             83\n",
       "#California                                                                                                                                                                       80\n",
       "#Heatwave #Wildfires                                                                                                                                                              60\n",
       "#KincadeFire #californiawildfires                                                                                                                                                 58\n",
       "#SmartNews                                                                                                                                                                        56\n",
       "#californiawildfires #CaliforniaFires                                                                                                                                             53\n",
       "#25thAmendmentNow #ImpeachTrump #TheResistance                                                                                                                                    53\n",
       "#PatriotPowerHour #RepoRates #Constitution #Russian #California #Wildfires #BrainImplants                                                                                         47\n",
       "#California #californiawildfires                                                                                                                                                  46\n",
       "#California #Wildfires                                                                                                                                                            44\n",
       "#Californiafires #KincadeFire #TickFire #OldWaterFire #SonomaCounty #California                                                                                                   41\n",
       "#Californiawildfires                                                                                                                                                              35\n",
       "#KincadeFire #CaliforniaWildfires                                                                                                                                                 35\n",
       "#California #CaliforniaWildfires                                                                                                                                                  33\n",
       "#CaliforniaWildFires                                                                                                                                                              33\n",
       "#CaliforniaFires #CaliforniaWildfires                                                                                                                                             33\n",
       "#CaliforniaWildfires #ClimateChange                                                                                                                                               28\n",
       "#californiawildfires #California                                                                                                                                                  28\n",
       "#CaliforniaWildfires #CaliforniaFires                                                                                                                                             25\n",
       "#CaliforniaFires                                                                                                                                                                  25\n",
       "#RT                                                                                                                                                                               23\n",
       "#Californiafires #KincadeFire #TickFire #OldWaterFire #SonomaCounty #California #UnitedStates                                                                                     21\n",
       "#california #wildfires                                                                                                                                                            20\n",
       "#ClimateChange                                                                                                                                                                    18\n",
       "#Wildfires                                                                                                                                                                        17\n",
       "#GoogleAlerts                                                                                                                                                                     17\n",
       "#CaliforniaWildfires #CaliforniaIsBurning                                                                                                                                         16\n",
       "#CaliforniaWildFires #GOPTaxScam                                                                                                                                                  15\n",
       "#CaliforniaWildfires #California                                                                                                                                                  15\n",
       "#GettyFire #californiawildfires                                                                                                                                                   15\n",
       "#crisiscomms #California #Wildfires #PG #businesscontinuity #disastermanagement #disasterrecovery #PGEshutoff #KincaidFire #SantaRosa #Sonoma #TickFire #CALFIRE #gettyfire       15\n",
       "#FoxBusiness                                                                                                                                                                      14\n",
       "#news                                                                                                                                                                             14\n",
       "#WorldNews                                                                                                                                                                        13\n",
       "#californiawildfires #pgepowershutoff                                                                                                                                             13\n",
       "#KincadeFire                                                                                                                                                                      13\n",
       "#filmdirector #filmlighting #vfx #filmcrew #womendirectors #filmographer #womendirector #cinematographer                                                                          13\n",
       "#californiawildfires #californiapoweroutage                                                                                                                                       13\n",
       "#CaliforniaWildfires #ClimateCrisis                                                                                                                                               13\n",
       "#CAwx #californiawildfires                                                                                                                                                        13\n",
       "#californiawildfires #PGEshutoff                                                                                                                                                  12\n",
       "#wildfires #Getty #Kincade #CaliforniaWildfires                                                                                                                                   12\n",
       "#californiawildfires #ClimateChange                                                                                                                                               12\n",
       "Name: hashtags, dtype: int64"
      ]
     },
     "execution_count": 41,
     "metadata": {},
     "output_type": "execute_result"
    }
   ],
   "source": [
    "# Looking at the most common hashtags \n",
    "twitter_fire['hashtags'].value_counts().head(50)"
   ]
  },
  {
   "cell_type": "markdown",
   "metadata": {},
   "source": [
    "### Saving CSV to file"
   ]
  },
  {
   "cell_type": "code",
   "execution_count": 42,
   "metadata": {},
   "outputs": [],
   "source": [
    "# Saving my dataframe to a csv for using in the botometer\n",
    "twitter_fire.to_csv('./data/data_for_bots.csv', index=False)"
   ]
  }
 ],
 "metadata": {
  "kernelspec": {
   "display_name": "Python 3",
   "language": "python",
   "name": "python3"
  },
  "language_info": {
   "codemirror_mode": {
    "name": "ipython",
    "version": 3
   },
   "file_extension": ".py",
   "mimetype": "text/x-python",
   "name": "python",
   "nbconvert_exporter": "python",
   "pygments_lexer": "ipython3",
   "version": "3.7.6"
  }
 },
 "nbformat": 4,
 "nbformat_minor": 4
}
