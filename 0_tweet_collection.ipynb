{
 "cells": [
  {
   "cell_type": "markdown",
   "metadata": {},
   "source": [
    "# Tweet Collection"
   ]
  },
  {
   "cell_type": "markdown",
   "metadata": {},
   "source": [
    "### Contents:\n",
    "- [Import Libraries](#Import-Libraries)\n",
    "- [Create Search Criteria](#Create-Search-Criteria)\n",
    "- [Create a DataFrame](#Create-a-DataFrame)\n",
    "- [Saving DataFrame to a CSV File](#Saving-DataFrame-to-a-CSV-File)\n",
    "- [Sources Used](#Sources-Used)"
   ]
  },
  {
   "cell_type": "markdown",
   "metadata": {},
   "source": [
    "## Import Libraries"
   ]
  },
  {
   "cell_type": "code",
   "execution_count": 15,
   "metadata": {},
   "outputs": [],
   "source": [
    "# The following libraries are needed to perform the tasks in this notebook\n",
    "# More info about the GetOldTweets3 library here: https://pypi.org/project/GetOldTweets3/\n",
    "import os\n",
    "import pandas as pd\n",
    "import GetOldTweets3 as got"
   ]
  },
  {
   "cell_type": "markdown",
   "metadata": {},
   "source": [
    "## Create Search Criteria"
   ]
  },
  {
   "cell_type": "code",
   "execution_count": 16,
   "metadata": {},
   "outputs": [],
   "source": [
    "# The following is the code for retrieving the tweets. The results will return all aspects of the tweet.\n",
    "text_query = 'California wildfires'\n",
    "count = 200\n",
    "# Creation of query object\n",
    "tweetCriteria = got.manager.TweetCriteria().setQuerySearch(text_query)\\\n",
    "                                            .setSince(\"2019-10-01\")\\\n",
    "                                            .setUntil(\"2019-10-28\")\\\n",
    "                                            .setMaxTweets(count)\n",
    "# Creation of list that contains all tweets\n",
    "tweets = got.manager.TweetManager.getTweets(tweetCriteria)\n",
    "# Creating list of chosen tweet data\n",
    "text_tweets = [[tweet.date, tweet.text, tweet.username, tweet.id, tweet.permalink, tweet.to, tweet.retweets, tweet.favorites, tweet.mentions, tweet.hashtags] for tweet in tweets]"
   ]
  },
  {
   "cell_type": "markdown",
   "metadata": {},
   "source": [
    "## Create a DataFrame"
   ]
  },
  {
   "cell_type": "code",
   "execution_count": 17,
   "metadata": {},
   "outputs": [],
   "source": [
    "# Creating a dataframe out of the customized search. The second line of this code block will allow us to see the full\n",
    "# text of each cell.\n",
    "df = pd.DataFrame(text_tweets)\n",
    "pd.set_option('display.max_colwidth', -1)"
   ]
  },
  {
   "cell_type": "code",
   "execution_count": 18,
   "metadata": {},
   "outputs": [
    {
     "data": {
      "text/html": [
       "<div>\n",
       "<style scoped>\n",
       "    .dataframe tbody tr th:only-of-type {\n",
       "        vertical-align: middle;\n",
       "    }\n",
       "\n",
       "    .dataframe tbody tr th {\n",
       "        vertical-align: top;\n",
       "    }\n",
       "\n",
       "    .dataframe thead th {\n",
       "        text-align: right;\n",
       "    }\n",
       "</style>\n",
       "<table border=\"1\" class=\"dataframe\">\n",
       "  <thead>\n",
       "    <tr style=\"text-align: right;\">\n",
       "      <th></th>\n",
       "      <th>0</th>\n",
       "      <th>1</th>\n",
       "      <th>2</th>\n",
       "      <th>3</th>\n",
       "      <th>4</th>\n",
       "      <th>5</th>\n",
       "      <th>6</th>\n",
       "      <th>7</th>\n",
       "      <th>8</th>\n",
       "      <th>9</th>\n",
       "    </tr>\n",
       "  </thead>\n",
       "  <tbody>\n",
       "    <tr>\n",
       "      <th>0</th>\n",
       "      <td>2019-10-27 23:59:55+00:00</td>\n",
       "      <td>Monday’s Wall Street Journal! #WSJ #alBaghdadi #californiawildfires</td>\n",
       "      <td>Trumpster81</td>\n",
       "      <td>1188606280077860864</td>\n",
       "      <td>https://twitter.com/Trumpster81/status/1188606280077860864</td>\n",
       "      <td>None</td>\n",
       "      <td>0</td>\n",
       "      <td>0</td>\n",
       "      <td></td>\n",
       "      <td>#WSJ #alBaghdadi #californiawildfires</td>\n",
       "    </tr>\n",
       "    <tr>\n",
       "      <th>1</th>\n",
       "      <td>2019-10-27 23:59:04+00:00</td>\n",
       "      <td>180,000 people ordered to flee from devastating California wildfires</td>\n",
       "      <td>TheScotsman</td>\n",
       "      <td>1188606067930025984</td>\n",
       "      <td>https://twitter.com/TheScotsman/status/1188606067930025984</td>\n",
       "      <td>None</td>\n",
       "      <td>2</td>\n",
       "      <td>0</td>\n",
       "      <td></td>\n",
       "      <td></td>\n",
       "    </tr>\n",
       "    <tr>\n",
       "      <th>2</th>\n",
       "      <td>2019-10-27 23:58:15+00:00</td>\n",
       "      <td>Breaking: \"Apocalyptic California Wildfires\" Threaten LA and San Fran https://youtu.be/9wHbi_PUwIQ via @YouTube</td>\n",
       "      <td>EndTime61519149</td>\n",
       "      <td>1188605863096934400</td>\n",
       "      <td>https://twitter.com/EndTime61519149/status/1188605863096934400</td>\n",
       "      <td>None</td>\n",
       "      <td>0</td>\n",
       "      <td>0</td>\n",
       "      <td>@YouTube</td>\n",
       "      <td></td>\n",
       "    </tr>\n",
       "    <tr>\n",
       "      <th>3</th>\n",
       "      <td>2019-10-27 23:58:13+00:00</td>\n",
       "      <td>Northern California wildfires force nearly 200,000 people to evacuate https://onlinearticles.net/northern-california-wildfires-force-nearly-200000-people-to-evacuate/</td>\n",
       "      <td>OnlineArticles_</td>\n",
       "      <td>1188605855291314176</td>\n",
       "      <td>https://twitter.com/OnlineArticles_/status/1188605855291314176</td>\n",
       "      <td>None</td>\n",
       "      <td>0</td>\n",
       "      <td>0</td>\n",
       "      <td></td>\n",
       "      <td></td>\n",
       "    </tr>\n",
       "    <tr>\n",
       "      <th>4</th>\n",
       "      <td>2019-10-27 23:56:46+00:00</td>\n",
       "      <td>#californiawildfires</td>\n",
       "      <td>A1responder</td>\n",
       "      <td>1188605487979421697</td>\n",
       "      <td>https://twitter.com/A1responder/status/1188605487979421697</td>\n",
       "      <td>None</td>\n",
       "      <td>0</td>\n",
       "      <td>5</td>\n",
       "      <td></td>\n",
       "      <td>#californiawildfires</td>\n",
       "    </tr>\n",
       "  </tbody>\n",
       "</table>\n",
       "</div>"
      ],
      "text/plain": [
       "                          0  \\\n",
       "0 2019-10-27 23:59:55+00:00   \n",
       "1 2019-10-27 23:59:04+00:00   \n",
       "2 2019-10-27 23:58:15+00:00   \n",
       "3 2019-10-27 23:58:13+00:00   \n",
       "4 2019-10-27 23:56:46+00:00   \n",
       "\n",
       "                                                                                                                                                                        1  \\\n",
       "0  Monday’s Wall Street Journal! #WSJ #alBaghdadi #californiawildfires                                                                                                      \n",
       "1  180,000 people ordered to flee from devastating California wildfires                                                                                                     \n",
       "2  Breaking: \"Apocalyptic California Wildfires\" Threaten LA and San Fran https://youtu.be/9wHbi_PUwIQ via @YouTube                                                          \n",
       "3  Northern California wildfires force nearly 200,000 people to evacuate https://onlinearticles.net/northern-california-wildfires-force-nearly-200000-people-to-evacuate/   \n",
       "4  #californiawildfires                                                                                                                                                     \n",
       "\n",
       "                 2                    3  \\\n",
       "0  Trumpster81      1188606280077860864   \n",
       "1  TheScotsman      1188606067930025984   \n",
       "2  EndTime61519149  1188605863096934400   \n",
       "3  OnlineArticles_  1188605855291314176   \n",
       "4  A1responder      1188605487979421697   \n",
       "\n",
       "                                                                4     5  6  7  \\\n",
       "0  https://twitter.com/Trumpster81/status/1188606280077860864      None  0  0   \n",
       "1  https://twitter.com/TheScotsman/status/1188606067930025984      None  2  0   \n",
       "2  https://twitter.com/EndTime61519149/status/1188605863096934400  None  0  0   \n",
       "3  https://twitter.com/OnlineArticles_/status/1188605855291314176  None  0  0   \n",
       "4  https://twitter.com/A1responder/status/1188605487979421697      None  0  5   \n",
       "\n",
       "          8                                      9  \n",
       "0            #WSJ #alBaghdadi #californiawildfires  \n",
       "1                                                   \n",
       "2  @YouTube                                         \n",
       "3                                                   \n",
       "4            #californiawildfires                   "
      ]
     },
     "execution_count": 18,
     "metadata": {},
     "output_type": "execute_result"
    }
   ],
   "source": [
    "# Confirming the creation of the dataframe.\n",
    "df.head()"
   ]
  },
  {
   "cell_type": "code",
   "execution_count": 19,
   "metadata": {},
   "outputs": [
    {
     "data": {
      "text/plain": [
       "(200, 10)"
      ]
     },
     "execution_count": 19,
     "metadata": {},
     "output_type": "execute_result"
    }
   ],
   "source": [
    "df.shape"
   ]
  },
  {
   "cell_type": "markdown",
   "metadata": {},
   "source": [
    "## Save DataFrame to a CSV File"
   ]
  },
  {
   "cell_type": "code",
   "execution_count": 22,
   "metadata": {},
   "outputs": [],
   "source": [
    "# Saving as a csv file\n",
    "df.to_csv(\"./data/tweets_raw.csv\", index=False)"
   ]
  },
  {
   "cell_type": "markdown",
   "metadata": {},
   "source": [
    "## Sources Used"
   ]
  },
  {
   "cell_type": "code",
   "execution_count": null,
   "metadata": {},
   "outputs": [],
   "source": [
    "# https://towardsdatascience.com/how-to-scrape-tweets-from-twitter-59287e20f0f1\n",
    "# https://github.com/Mottl/GetOldTweets3"
   ]
  }
 ],
 "metadata": {
  "kernelspec": {
   "display_name": "Python 3",
   "language": "python",
   "name": "python3"
  },
  "language_info": {
   "codemirror_mode": {
    "name": "ipython",
    "version": 3
   },
   "file_extension": ".py",
   "mimetype": "text/x-python",
   "name": "python",
   "nbconvert_exporter": "python",
   "pygments_lexer": "ipython3",
   "version": "3.7.6"
  }
 },
 "nbformat": 4,
 "nbformat_minor": 4
}
